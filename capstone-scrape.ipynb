{
 "cells": [
  {
   "cell_type": "markdown",
   "id": "3eadef7b-ba4a-4876-beb6-6e9cdcc2041b",
   "metadata": {},
   "source": [
    "# Capstone Project - Scraping"
   ]
  },
  {
   "cell_type": "markdown",
   "id": "7539e5b0-5589-406e-bb49-be92b76eaee3",
   "metadata": {},
   "source": [
    "For my capstone project I will be building a streamlit application that collects the latest news. First we have to scrape the news sites."
   ]
  },
  {
   "cell_type": "markdown",
   "id": "c2d09efa-e8b8-4475-bb98-0bb45c989b99",
   "metadata": {},
   "source": [
    "### Import packages"
   ]
  },
  {
   "cell_type": "code",
   "execution_count": 1,
   "id": "aca32348-1602-41a1-b984-df1c897a948e",
   "metadata": {},
   "outputs": [],
   "source": [
    "import pandas as pd\n",
    "import re\n",
    "import requests\n",
    "from bs4 import BeautifulSoup"
   ]
  },
  {
   "cell_type": "markdown",
   "id": "983dbb2c-f9d4-4cfb-9835-d5990fc999a9",
   "metadata": {
    "jp-MarkdownHeadingCollapsed": true
   },
   "source": [
    "## Ikon\n",
    "First website we'll scrape is Ikon.mn\n",
    "Let's get all the articles that are less than a day old."
   ]
  },
  {
   "cell_type": "code",
   "execution_count": 113,
   "id": "165d1dc7-32a0-4fe6-9a27-a08d64e2e22e",
   "metadata": {},
   "outputs": [],
   "source": [
    "response = requests.get(\"https://ikon.mn/j/sd7qmo/sd7qmo\")"
   ]
  },
  {
   "cell_type": "code",
   "execution_count": 24,
   "id": "6767f89c-b3c6-4a99-bc1a-d4e00e8888c0",
   "metadata": {},
   "outputs": [],
   "source": [
    "response = requests.get(\"https://ikon.mn/l/1\")"
   ]
  },
  {
   "cell_type": "code",
   "execution_count": 6,
   "id": "c98cc92e-9c35-4ae2-80d1-8e5dbc1dc195",
   "metadata": {},
   "outputs": [],
   "source": [
    "response = requests.get(\"https://ikon.mn/l/2\")"
   ]
  },
  {
   "cell_type": "code",
   "execution_count": 114,
   "id": "57889caa-52bc-40e8-8e86-bccd1f28f7a3",
   "metadata": {},
   "outputs": [],
   "source": [
    "soup = BeautifulSoup(response.content)"
   ]
  },
  {
   "cell_type": "code",
   "execution_count": 115,
   "id": "6b463ef9-76a6-4636-ae08-44000239eb24",
   "metadata": {},
   "outputs": [],
   "source": [
    "ikon_links = soup.find_all(\"div\",{\"class\":\"nlitem\"})"
   ]
  },
  {
   "cell_type": "code",
   "execution_count": 116,
   "id": "114102cd-4d19-4b7f-8906-ab5be0f9a54f",
   "metadata": {},
   "outputs": [],
   "source": [
    "ikon_urls = []\n",
    "for link in ikon_links:\n",
    "    if \"Өчигдөр\" not in link:\n",
    "        ikon_a = link.find(\"a\")\n",
    "        ikon_url = ikon_a.get('href')\n",
    "        ikon_urls.append(ikon_url)"
   ]
  },
  {
   "cell_type": "code",
   "execution_count": 117,
   "id": "444a641b-e573-404e-bd75-294d1bc1432b",
   "metadata": {
    "collapsed": true,
    "jupyter": {
     "outputs_hidden": true
    },
    "scrolled": true
   },
   "outputs": [
    {
     "data": {
      "text/plain": [
       "['/n/354p',\n",
       " '/n/354o',\n",
       " '/n/354k',\n",
       " '/n/354m',\n",
       " '/n/354h',\n",
       " '/n/354e',\n",
       " '/n/354l',\n",
       " '/n/354j',\n",
       " '/n/354i',\n",
       " '/n/354g',\n",
       " '/n/3539',\n",
       " '/n/354f',\n",
       " '/n/354d',\n",
       " '/n/354c',\n",
       " '/n/354a',\n",
       " '/n/354b',\n",
       " '/n/3549',\n",
       " '/n/3548',\n",
       " '/n/3546',\n",
       " '/n/3545']"
      ]
     },
     "execution_count": 117,
     "metadata": {},
     "output_type": "execute_result"
    }
   ],
   "source": [
    "ikon_urls"
   ]
  },
  {
   "cell_type": "code",
   "execution_count": 118,
   "id": "3ce0cbee-ffa5-473e-8edb-67304d9dd3ff",
   "metadata": {},
   "outputs": [],
   "source": [
    "full_ikon_urls = []\n",
    "for url in ikon_urls:\n",
    "    full_url = \"https://ikon.mn\" + url\n",
    "    full_ikon_urls.append(full_url)"
   ]
  },
  {
   "cell_type": "code",
   "execution_count": 119,
   "id": "b95d9639-81eb-4c64-b1ae-bedc7867c2b9",
   "metadata": {
    "collapsed": true,
    "jupyter": {
     "outputs_hidden": true
    },
    "scrolled": true
   },
   "outputs": [
    {
     "data": {
      "text/plain": [
       "['https://ikon.mn/n/354p',\n",
       " 'https://ikon.mn/n/354o',\n",
       " 'https://ikon.mn/n/354k',\n",
       " 'https://ikon.mn/n/354m',\n",
       " 'https://ikon.mn/n/354h',\n",
       " 'https://ikon.mn/n/354e',\n",
       " 'https://ikon.mn/n/354l',\n",
       " 'https://ikon.mn/n/354j',\n",
       " 'https://ikon.mn/n/354i',\n",
       " 'https://ikon.mn/n/354g',\n",
       " 'https://ikon.mn/n/3539',\n",
       " 'https://ikon.mn/n/354f',\n",
       " 'https://ikon.mn/n/354d',\n",
       " 'https://ikon.mn/n/354c',\n",
       " 'https://ikon.mn/n/354a',\n",
       " 'https://ikon.mn/n/354b',\n",
       " 'https://ikon.mn/n/3549',\n",
       " 'https://ikon.mn/n/3548',\n",
       " 'https://ikon.mn/n/3546',\n",
       " 'https://ikon.mn/n/3545']"
      ]
     },
     "execution_count": 119,
     "metadata": {},
     "output_type": "execute_result"
    }
   ],
   "source": [
    "full_ikon_urls"
   ]
  },
  {
   "cell_type": "markdown",
   "id": "746cab3b-b709-46ca-bb59-3a4324b9bafa",
   "metadata": {},
   "source": [
    "### Scraping a single article"
   ]
  },
  {
   "cell_type": "code",
   "execution_count": 120,
   "id": "e76416ef-fa0f-4dda-bc51-0ded019af1c3",
   "metadata": {},
   "outputs": [],
   "source": [
    "response = requests.get('https://ikon.mn/n/3548')"
   ]
  },
  {
   "cell_type": "code",
   "execution_count": 121,
   "id": "9129d59f-e1c5-459a-892c-e8f3c41d0aff",
   "metadata": {},
   "outputs": [],
   "source": [
    "soup = BeautifulSoup(response.content)"
   ]
  },
  {
   "cell_type": "code",
   "execution_count": 122,
   "id": "c8a2895f-daeb-4f29-bedd-e5d21179141f",
   "metadata": {},
   "outputs": [],
   "source": [
    "article_title = soup.find('h1').get_text(strip=True)"
   ]
  },
  {
   "cell_type": "code",
   "execution_count": 123,
   "id": "31d241ca-6147-40e1-b698-ea764595ded4",
   "metadata": {},
   "outputs": [],
   "source": [
    "article_paragraphs = soup.find_all('p')"
   ]
  },
  {
   "cell_type": "code",
   "execution_count": 124,
   "id": "afe05f42-f25a-4c5f-b656-35a2579c0627",
   "metadata": {},
   "outputs": [],
   "source": [
    "body = \"\"\n",
    "for paragraph in article_paragraphs:\n",
    "    paragraph = paragraph.get_text(strip=True)\n",
    "    body = body + paragraph"
   ]
  },
  {
   "cell_type": "code",
   "execution_count": 125,
   "id": "d8afd09f-2e4c-4d2a-85ef-722875967669",
   "metadata": {},
   "outputs": [
    {
     "data": {
      "text/plain": [
       "'УИХ-ын гишүүн асан Ж.Батзандан ШИНЭ намаас гарч, АН-д нэгдэж буйгаа мэдэгдсэн. Үүнтэй холбогдуулан ШИНЭ намаас мэдээлэл хийлээ.ШИНЭ намын дарга Ц.Гантулга“Өнгөрсөн хоёр хоногийн хугацаанд Ардчилсан Намын зүгээс ШИНЭ намыг өөрийн намтай нэгдсэн мэтээр мэдээлэл тараасан. Тиймээс ШИНЭ нам анх яаж байгуулагдсан талаар мэдээлэл өгөх зүйтэй гэж үзлээ.Анх 2019 оны есдүгээр сарын 16-нд ШИНЭ нам байгуулагдсан. ШИНЭ намыг 113 төрийн бус байгууллага, мэргэжлийн холбоод хамтран Монголыг МАНАН дэглэмээс аврах, шинэ нийгмийн байгуулах эрхэм зорилготойгоор анх байгуулагдсан.Тухайн үеийн УИХ-ын гишүүн Ж.Батзандан, Л.Болд нар 1,200 төлөөлөгчтэйгөөр анхны хурлаа хийсэн. Анх 801 хүн гарын үсэг зурснаар байгуулагдсан байсан нам одоо 24 мянган гишүүнээ үнэмлэхжүүлсэн, 50 гаруй мянган дэмжигчтэй, өдөр тутмын үйл ажиллагаагаа академик түвшинд явуулж байгаа улс төрийн хүчин болоод байна.Энэ намын анхны дарга Ж.Батзандан АН-д орж буйгаа мэдэгдсэн. Тэр бол хувь хүний сонголт. Цөөн хэдэн хүн улс төрийн өөр нам, хүчинтэй хамтрах боломжтой гэж хэлснээр 24 мянган гишүүн болон олон зуун мянган дэмжигчийн итгэлийн өөрчилнө гэж байхгүй.МАНАН-гийн эсрэг гэчхээд буцаад МАНАН-тай нэгдэж байгаа хүмүүстэй бид агаар хуваалцах боломжгүй. Бид хувь хүнтэй асуудлыг буруушаахгүй. Харин нийгэмд болохгүй байгаа зүйлийг засахын төлөө сэхээтнүүд, улс төрийн нам, хүчний төлөөллүүдтэй хамтарч үйл ажиллагаагаа явуулж байгаа.ШИНЭ намын даргын хувиар хэлэхэд ганц хоёрхон хүн биднийг төлөөлөхгүй. ШИНЭ нам бүтэн, цул хэвээрээ\\xa0байгаа учраас 2024 оны сонгуульд амжилт гаргана гэж үзэж байгаа.Манай намаас гарсан гэгдэж байгаа хүмүүс өнөөдрийн байдлаар өргөдлөө өгөөгүй байна” гэлээ.МөнШИНЭ намын гишүүн Д.Жаргалсайхан“Ж.Батзандан үзэл санаа, итгэл үнэмшлээсээ урваж, анд нөхдөөсөө урваж байна. Ийм хүн ард түмний төлөө ажиллаж чадахгүй. Өдөр бүр хэдэн зуун залуу бидний үзэл санааг дэмждэгээ илэрхийлсээр байгаа” гэв.'"
      ]
     },
     "execution_count": 125,
     "metadata": {},
     "output_type": "execute_result"
    }
   ],
   "source": [
    "body"
   ]
  },
  {
   "cell_type": "markdown",
   "id": "44634e3b-f5ac-4de6-ad79-3794bb228afb",
   "metadata": {},
   "source": [
    "### Scraping multiple articles"
   ]
  },
  {
   "cell_type": "code",
   "execution_count": 126,
   "id": "7f6e5f7e-0c77-4d3e-a692-02228791d3dd",
   "metadata": {},
   "outputs": [],
   "source": [
    "article_titles = []\n",
    "article_bodies = []\n",
    "for url in full_ikon_urls:\n",
    "    response = requests.get(url)\n",
    "    soup = BeautifulSoup(response.content)\n",
    "    article_title = soup.find('h1').get_text(strip=True)\n",
    "    article_paragraphs = soup.find_all('p')\n",
    "    body = \"\"\n",
    "    for paragraph in article_paragraphs:\n",
    "        paragraph = paragraph.get_text(strip=True)\n",
    "        body = body + paragraph\n",
    "    article_titles.append(article_title)\n",
    "    article_bodies.append(body)"
   ]
  },
  {
   "cell_type": "code",
   "execution_count": 127,
   "id": "8e87ac36-116d-4da1-9fa1-4b49efd01899",
   "metadata": {},
   "outputs": [],
   "source": [
    "df = pd.DataFrame({'article url': full_ikon_urls, 'title': article_titles, 'article': article_bodies})"
   ]
  },
  {
   "cell_type": "code",
   "execution_count": 128,
   "id": "7298883f-773c-4843-8e64-fb980e1f34bc",
   "metadata": {},
   "outputs": [
    {
     "data": {
      "text/html": [
       "<div>\n",
       "<style scoped>\n",
       "    .dataframe tbody tr th:only-of-type {\n",
       "        vertical-align: middle;\n",
       "    }\n",
       "\n",
       "    .dataframe tbody tr th {\n",
       "        vertical-align: top;\n",
       "    }\n",
       "\n",
       "    .dataframe thead th {\n",
       "        text-align: right;\n",
       "    }\n",
       "</style>\n",
       "<table border=\"1\" class=\"dataframe\">\n",
       "  <thead>\n",
       "    <tr style=\"text-align: right;\">\n",
       "      <th></th>\n",
       "      <th>article url</th>\n",
       "      <th>title</th>\n",
       "      <th>article</th>\n",
       "    </tr>\n",
       "  </thead>\n",
       "  <tbody>\n",
       "    <tr>\n",
       "      <th>0</th>\n",
       "      <td>https://ikon.mn/n/354p</td>\n",
       "      <td>Өнгөрсөн сард улсын хэмжээнд 10.5 сая тонн ача...</td>\n",
       "      <td>Зам тээврийн салбар энэ оны дөрөвдүгээр сард у...</td>\n",
       "    </tr>\n",
       "    <tr>\n",
       "      <th>1</th>\n",
       "      <td>https://ikon.mn/n/354o</td>\n",
       "      <td>Шатахуун түгээхийн болон түргэн тусламжийн маш...</td>\n",
       "      <td>Хан-Уул дүүргийн нутаг дэвсгэрт шатахуун түгээ...</td>\n",
       "    </tr>\n",
       "    <tr>\n",
       "      <th>2</th>\n",
       "      <td>https://ikon.mn/n/354k</td>\n",
       "      <td>Монголын хөлбөмбөгийн шигшээ баг Азийн АШТ-ий ...</td>\n",
       "      <td>2027 онд Саудын Араб улсад зохион байгуулагдах...</td>\n",
       "    </tr>\n",
       "    <tr>\n",
       "      <th>3</th>\n",
       "      <td>https://ikon.mn/n/354m</td>\n",
       "      <td>Цэцэг төвийн уулзварын зам засварын ажил марга...</td>\n",
       "      <td>Цэцэг төвийн уулзвараас Цаг уур, орчны шинжилг...</td>\n",
       "    </tr>\n",
       "    <tr>\n",
       "      <th>4</th>\n",
       "      <td>https://ikon.mn/n/354h</td>\n",
       "      <td>\"Монголбанкны эх үүсвэрээр орон сууц авч буй и...</td>\n",
       "      <td>Ипотекийн зээлийн үндсэн шалгуур болон зээл ол...</td>\n",
       "    </tr>\n",
       "    <tr>\n",
       "      <th>5</th>\n",
       "      <td>https://ikon.mn/n/354e</td>\n",
       "      <td>\"207-р байрны галд өртсөн найман хувийг засуул...</td>\n",
       "      <td>Газын дэлбэрэлтэд өртсөн 207 дугаар байрны орш...</td>\n",
       "    </tr>\n",
       "    <tr>\n",
       "      <th>6</th>\n",
       "      <td>https://ikon.mn/n/354l</td>\n",
       "      <td>“Grow with Google Mongolia” хөтөлбөрийн дэмжиг...</td>\n",
       "      <td>Монгол Улсад анх удаа хэрэгжүүлж буй “Grow wit...</td>\n",
       "    </tr>\n",
       "    <tr>\n",
       "      <th>7</th>\n",
       "      <td>https://ikon.mn/n/354j</td>\n",
       "      <td>Хуримтлалын сангийн дансанд өнөөдөр Эрдэнэт, О...</td>\n",
       "      <td>Үндэсний баялгийн сангийн тухай хууль хэрэгжиж...</td>\n",
       "    </tr>\n",
       "    <tr>\n",
       "      <th>8</th>\n",
       "      <td>https://ikon.mn/n/354i</td>\n",
       "      <td>Буудлагын Дэлхийн цомын тэмцээнд О.Есүгэн найм...</td>\n",
       "      <td>Азербайжаны нийслэл Баку хотноо буудлагын Дэлх...</td>\n",
       "    </tr>\n",
       "    <tr>\n",
       "      <th>9</th>\n",
       "      <td>https://ikon.mn/n/354g</td>\n",
       "      <td>Бороотой үеэр Сүхбаатар дүүргийн ногоон байгуу...</td>\n",
       "      <td>Өнөөдөр өглөө бороотой байсан ч Сүхбаатар дүүр...</td>\n",
       "    </tr>\n",
       "    <tr>\n",
       "      <th>10</th>\n",
       "      <td>https://ikon.mn/n/3539</td>\n",
       "      <td>ЭМГЭНЭЛ: Лувсанцэрэнгийн Чулуунбаатар (1939-2024)</td>\n",
       "      <td>Лувсанцэрэнгийн Чулуунбаатар(1939-2024)Бидний ...</td>\n",
       "    </tr>\n",
       "    <tr>\n",
       "      <th>11</th>\n",
       "      <td>https://ikon.mn/n/354f</td>\n",
       "      <td>Манай улс энэ оны эхний дөрвөн сард 10 сая шир...</td>\n",
       "      <td>Монгол Улс 2024 оны эхний дөрвөн сард нийт 3.4...</td>\n",
       "    </tr>\n",
       "    <tr>\n",
       "      <th>12</th>\n",
       "      <td>https://ikon.mn/n/354d</td>\n",
       "      <td>Бороо орох үед замын түгжрэл яагаад нэмэгддэг вэ</td>\n",
       "      <td>Замын хөдөлгөөнд оролцож байгаа жолооч нар бор...</td>\n",
       "    </tr>\n",
       "    <tr>\n",
       "      <th>13</th>\n",
       "      <td>https://ikon.mn/n/354c</td>\n",
       "      <td>Яллагдагч Р.Базарт авсан цагдан хорих таслан с...</td>\n",
       "      <td>Баянгол дүүргийн Эрүүгийн хэргийн анхан шатны ...</td>\n",
       "    </tr>\n",
       "    <tr>\n",
       "      <th>14</th>\n",
       "      <td>https://ikon.mn/n/354a</td>\n",
       "      <td>Б.Ганбат: Нарны замын өнгөт тэмдэглэгээ бороон...</td>\n",
       "      <td>Нарны замын зорчих хэсгийн асфальт бетон хучил...</td>\n",
       "    </tr>\n",
       "    <tr>\n",
       "      <th>15</th>\n",
       "      <td>https://ikon.mn/n/354b</td>\n",
       "      <td>Б.Баярмагнай: Мөнгөтэй нь цэргийн албанаас чөл...</td>\n",
       "      <td>2024 оны нэгдүгээр ээлжийн цэрэг татлага нийсл...</td>\n",
       "    </tr>\n",
       "    <tr>\n",
       "      <th>16</th>\n",
       "      <td>https://ikon.mn/n/3549</td>\n",
       "      <td>Тавдугаар сарын 11-нд БҮХ НИЙТЭЭР МОД ТАРИХ өд...</td>\n",
       "      <td>“Тэрбум мод” үндэсний хөдөлгөөний хүрээнд зохи...</td>\n",
       "    </tr>\n",
       "    <tr>\n",
       "      <th>17</th>\n",
       "      <td>https://ikon.mn/n/3548</td>\n",
       "      <td>Ц.Гантулга: МАНАН-гийн эсрэг гэчхээд буцаад МА...</td>\n",
       "      <td>УИХ-ын гишүүн асан Ж.Батзандан ШИНЭ намаас гар...</td>\n",
       "    </tr>\n",
       "    <tr>\n",
       "      <th>18</th>\n",
       "      <td>https://ikon.mn/n/3546</td>\n",
       "      <td>Г.Дамдинням: Англи хэлийг бага ангиас нь заасн...</td>\n",
       "      <td>УИХ-ын гишүүн Г.Дамдинням Төв аймгийн Цээл, Уг...</td>\n",
       "    </tr>\n",
       "    <tr>\n",
       "      <th>19</th>\n",
       "      <td>https://ikon.mn/n/3545</td>\n",
       "      <td>ФОТО: Нийслэлийн 2023 оны \"ШИЛДЭГ ТАТВАР ТӨЛӨГ...</td>\n",
       "      <td>Тавдугаар сарын хоёр дахь долоо хоногийг “Татв...</td>\n",
       "    </tr>\n",
       "  </tbody>\n",
       "</table>\n",
       "</div>"
      ],
      "text/plain": [
       "               article url                                              title  \\\n",
       "0   https://ikon.mn/n/354p  Өнгөрсөн сард улсын хэмжээнд 10.5 сая тонн ача...   \n",
       "1   https://ikon.mn/n/354o  Шатахуун түгээхийн болон түргэн тусламжийн маш...   \n",
       "2   https://ikon.mn/n/354k  Монголын хөлбөмбөгийн шигшээ баг Азийн АШТ-ий ...   \n",
       "3   https://ikon.mn/n/354m  Цэцэг төвийн уулзварын зам засварын ажил марга...   \n",
       "4   https://ikon.mn/n/354h  \"Монголбанкны эх үүсвэрээр орон сууц авч буй и...   \n",
       "5   https://ikon.mn/n/354e  \"207-р байрны галд өртсөн найман хувийг засуул...   \n",
       "6   https://ikon.mn/n/354l  “Grow with Google Mongolia” хөтөлбөрийн дэмжиг...   \n",
       "7   https://ikon.mn/n/354j  Хуримтлалын сангийн дансанд өнөөдөр Эрдэнэт, О...   \n",
       "8   https://ikon.mn/n/354i  Буудлагын Дэлхийн цомын тэмцээнд О.Есүгэн найм...   \n",
       "9   https://ikon.mn/n/354g  Бороотой үеэр Сүхбаатар дүүргийн ногоон байгуу...   \n",
       "10  https://ikon.mn/n/3539  ЭМГЭНЭЛ: Лувсанцэрэнгийн Чулуунбаатар (1939-2024)   \n",
       "11  https://ikon.mn/n/354f  Манай улс энэ оны эхний дөрвөн сард 10 сая шир...   \n",
       "12  https://ikon.mn/n/354d   Бороо орох үед замын түгжрэл яагаад нэмэгддэг вэ   \n",
       "13  https://ikon.mn/n/354c  Яллагдагч Р.Базарт авсан цагдан хорих таслан с...   \n",
       "14  https://ikon.mn/n/354a  Б.Ганбат: Нарны замын өнгөт тэмдэглэгээ бороон...   \n",
       "15  https://ikon.mn/n/354b  Б.Баярмагнай: Мөнгөтэй нь цэргийн албанаас чөл...   \n",
       "16  https://ikon.mn/n/3549  Тавдугаар сарын 11-нд БҮХ НИЙТЭЭР МОД ТАРИХ өд...   \n",
       "17  https://ikon.mn/n/3548  Ц.Гантулга: МАНАН-гийн эсрэг гэчхээд буцаад МА...   \n",
       "18  https://ikon.mn/n/3546  Г.Дамдинням: Англи хэлийг бага ангиас нь заасн...   \n",
       "19  https://ikon.mn/n/3545  ФОТО: Нийслэлийн 2023 оны \"ШИЛДЭГ ТАТВАР ТӨЛӨГ...   \n",
       "\n",
       "                                              article  \n",
       "0   Зам тээврийн салбар энэ оны дөрөвдүгээр сард у...  \n",
       "1   Хан-Уул дүүргийн нутаг дэвсгэрт шатахуун түгээ...  \n",
       "2   2027 онд Саудын Араб улсад зохион байгуулагдах...  \n",
       "3   Цэцэг төвийн уулзвараас Цаг уур, орчны шинжилг...  \n",
       "4   Ипотекийн зээлийн үндсэн шалгуур болон зээл ол...  \n",
       "5   Газын дэлбэрэлтэд өртсөн 207 дугаар байрны орш...  \n",
       "6   Монгол Улсад анх удаа хэрэгжүүлж буй “Grow wit...  \n",
       "7   Үндэсний баялгийн сангийн тухай хууль хэрэгжиж...  \n",
       "8   Азербайжаны нийслэл Баку хотноо буудлагын Дэлх...  \n",
       "9   Өнөөдөр өглөө бороотой байсан ч Сүхбаатар дүүр...  \n",
       "10  Лувсанцэрэнгийн Чулуунбаатар(1939-2024)Бидний ...  \n",
       "11  Монгол Улс 2024 оны эхний дөрвөн сард нийт 3.4...  \n",
       "12  Замын хөдөлгөөнд оролцож байгаа жолооч нар бор...  \n",
       "13  Баянгол дүүргийн Эрүүгийн хэргийн анхан шатны ...  \n",
       "14  Нарны замын зорчих хэсгийн асфальт бетон хучил...  \n",
       "15  2024 оны нэгдүгээр ээлжийн цэрэг татлага нийсл...  \n",
       "16  “Тэрбум мод” үндэсний хөдөлгөөний хүрээнд зохи...  \n",
       "17  УИХ-ын гишүүн асан Ж.Батзандан ШИНЭ намаас гар...  \n",
       "18  УИХ-ын гишүүн Г.Дамдинням Төв аймгийн Цээл, Уг...  \n",
       "19  Тавдугаар сарын хоёр дахь долоо хоногийг “Татв...  "
      ]
     },
     "execution_count": 128,
     "metadata": {},
     "output_type": "execute_result"
    }
   ],
   "source": [
    "df"
   ]
  },
  {
   "cell_type": "code",
   "execution_count": 130,
   "id": "d8a1abc2-8a16-4fd6-a07f-a8a8bcc8ab43",
   "metadata": {},
   "outputs": [],
   "source": [
    "df.to_csv(\"ikonrecent.csv\")"
   ]
  },
  {
   "cell_type": "markdown",
   "id": "e0d5e34d-cdc2-42cd-9f51-eb6c169999c0",
   "metadata": {},
   "source": [
    "## Yahoo Sports\n",
    "For Sports related news, I will be scraping yahoo sports."
   ]
  },
  {
   "cell_type": "code",
   "execution_count": 2,
   "id": "6fd6d548-92e5-40b5-b8fa-008c1dbb66a2",
   "metadata": {},
   "outputs": [],
   "source": [
    "response = requests.get(\"https://sports.yahoo.com/nba/news/\") #nba"
   ]
  },
  {
   "cell_type": "code",
   "execution_count": null,
   "id": "bb7f2226-18ca-4fd2-a036-ef47f0acfdf9",
   "metadata": {},
   "outputs": [],
   "source": [
    "response = requests.get(\"https://sports.yahoo.com/soccer/news/\") #soccer"
   ]
  },
  {
   "cell_type": "code",
   "execution_count": 3,
   "id": "151d34f3-5bd5-4d82-8265-7494b147db92",
   "metadata": {},
   "outputs": [],
   "source": [
    "soup = BeautifulSoup(response.content)"
   ]
  },
  {
   "cell_type": "code",
   "execution_count": 4,
   "id": "e91624a2-39d0-41d7-a5cb-3e203610ac3c",
   "metadata": {},
   "outputs": [],
   "source": [
    "sports_links = soup.find_all(\"li\",{\"class\":\"stream-item js-stream-content Bgc(t) Pos(r) Mb(24px)\"})"
   ]
  },
  {
   "cell_type": "code",
   "execution_count": 5,
   "id": "70a857a6-5b7b-416e-86a5-5aaf1ea7a1e9",
   "metadata": {},
   "outputs": [],
   "source": [
    "time = sports_links[0].find(\"time\").get_text(strip=True)"
   ]
  },
  {
   "cell_type": "code",
   "execution_count": 6,
   "id": "8fdc3741-404d-4852-98d0-60c77f7b9c3f",
   "metadata": {},
   "outputs": [],
   "source": [
    "sports_urls = []\n",
    "for link in sports_links:\n",
    "    time = link.find(\"time\").get_text(strip=True)\n",
    "    if \"h\" in time:\n",
    "        sports_a = link.find(\"a\",{\"class\":\"stream-title D(b) Td(n) Td(n):f C(--batcave) C($streamBrandHoverClass):h C($streamBrandHoverClass):fv\"})\n",
    "        sports_url = sports_a.get('href')\n",
    "        sports_urls.append(sports_url)"
   ]
  },
  {
   "cell_type": "code",
   "execution_count": 7,
   "id": "9ea867dc-2e4c-436b-9931-d399a1dc6e18",
   "metadata": {},
   "outputs": [
    {
     "data": {
      "text/plain": [
       "['https://sports.yahoo.com/nba-playoffs-cavaliers-stun-celtics-with-dominant-11894-win-in-game-2-at-boston-013648391.html',\n",
       " 'https://sports.yahoo.com/report-suns-fire-head-coach-frank-vogel-after-1st-round-playoff-sweep-eyeing-mike-budenholzer-as-replacement-202449030.html',\n",
       " 'https://sports.yahoo.com/nba-playoffs-knicks-rule-og-anunoby-out-for-game-3-vs-pacers-with-hamstring-injury-213757605.html',\n",
       " 'https://sports.yahoo.com/brunson-leads-knicks-over-pacers-hornets-hire-charles-lee--big-questions-for-eliminated-teams--no-cap-room-211404027.html',\n",
       " 'https://sports.yahoo.com/2024-nba-playoffs-second-round-schedule-how-to-watch-tonights-games-where-to-stream-and-more-thursday-173731096.html',\n",
       " 'https://sports.yahoo.com/nba-suspends-bucks-patrick-beverley-4-games-for-throwing-ball-at-fans-kicking-reporter-out-of-interview-180830598.html',\n",
       " 'https://sports.yahoo.com/former-nba-player-glen-davis-sentenced-to-40-months-in-prison-for-involvement-in-healthcare-fraud-scheme-190328457.html',\n",
       " 'https://sports.yahoo.com/is-pacers-coach-rick-carlisle-right-to-be-upset-about-officiating-in-knicks-series-and-a-big-market-bias-170107831.html',\n",
       " 'https://sports.yahoo.com/how-the-deep-bond-between-nikola-jokic-and-aaron-gordon-has-shaped-the-nuggets-155932618.html',\n",
       " 'https://sports.yahoo.com/brooklyn-nets-2024-nba-offseason-preview-path-to-improvement-wont-be-easy-150601520.html',\n",
       " 'https://sports.yahoo.com/utah-jazz-2024-nba-offseason-preview-time-for-the-franchise-to-decide-on-a-direction-150547141.html',\n",
       " 'https://sports.yahoo.com/pacers-reportedly-send-nba-78-missed-calls-by-officials-during-games-1-and-2-vs-knicks-133834024.html',\n",
       " 'https://sports.yahoo.com/charlotte-hornets-hire-boston-celtics-assistant-charles-lee-as-new-head-coach-130302698.html',\n",
       " 'https://sports.yahoo.com/inside-the-night-jalen-brunson-pulled-a-willis-reed-to-lift-the-knicks-to-an-improbable-win-114411884.html']"
      ]
     },
     "execution_count": 7,
     "metadata": {},
     "output_type": "execute_result"
    }
   ],
   "source": [
    "sports_urls"
   ]
  },
  {
   "cell_type": "markdown",
   "id": "960c7961-6c03-4ce8-83aa-21048f417392",
   "metadata": {},
   "source": [
    "### Scraping a single article"
   ]
  },
  {
   "cell_type": "code",
   "execution_count": 82,
   "id": "305c5d37-9575-4d93-af96-c55a77356ed6",
   "metadata": {},
   "outputs": [],
   "source": [
    "response = requests.get('https://sports.yahoo.com/nba-suspends-bucks-patrick-beverley-4-games-for-throwing-ball-at-fans-kicking-reporter-out-of-interview-180830598.html')"
   ]
  },
  {
   "cell_type": "code",
   "execution_count": 83,
   "id": "80de9836-df0e-4ee3-9389-7e375fe4d129",
   "metadata": {},
   "outputs": [],
   "source": [
    "soup = BeautifulSoup(response.content)"
   ]
  },
  {
   "cell_type": "code",
   "execution_count": 84,
   "id": "b1cfdc05-9679-44ea-8053-bc8c961f254d",
   "metadata": {},
   "outputs": [],
   "source": [
    "article_title = soup.find('h1').get_text(strip=True)"
   ]
  },
  {
   "cell_type": "code",
   "execution_count": 85,
   "id": "0c28743c-1f6e-462f-a8e1-c03ac6ebf68f",
   "metadata": {},
   "outputs": [],
   "source": [
    "article_paragraphs = soup.find_all('p')"
   ]
  },
  {
   "cell_type": "code",
   "execution_count": 86,
   "id": "1ba98708-45b2-4bc5-b632-4724a5e2db7e",
   "metadata": {},
   "outputs": [],
   "source": [
    "body = \"\"\n",
    "for paragraph in article_paragraphs:\n",
    "    paragraph = paragraph.get_text(strip=True)\n",
    "    body = body + paragraph"
   ]
  },
  {
   "cell_type": "code",
   "execution_count": 87,
   "id": "1ad43a6b-4f5c-4611-98fb-59deb3acdb9d",
   "metadata": {
    "collapsed": true,
    "jupyter": {
     "outputs_hidden": true
    }
   },
   "outputs": [
    {
     "data": {
      "text/plain": [
       "'Patrick Beverleyof theMilwaukee Buckshas been suspendedfour games without pay by the NBAfor throwing a basketball at fans and for his interaction with an ESPN reporter after Game 6 of their first-round series against theIndiana Pacers.In the final minutes of the Bucks’ Game 6 loss to the Pacers, whichclosed out the seriesand sent the Pacers into the Eastern Conference semifinals,Beverley was seen throwing a balltoward Pacers fans and hitting a woman in the head. Beverley then waved at a different fan to throw the ball back to him, which he did, and then Beverley chucked the ball right back at him hard.Beverley kept jawing with fans behind their bench before teammates and others defused the situation. He was not ejected from the game, but he didn’t return. The Bucks were down by 20 points at the time.altercation between pat bev and pacers fans behind the benchpic.twitter.com/dfQpqSBv33— Rob Perez (@WorldWideWob)May 3, 2024\"It\\'s an unfortunate situation that should have never happened. What I did was bad and that should have never happened. I have to be better and I will be better,\"Beverley said on his podcast this week.Beverley added that he reacted that way because of what was said to him by fans.\\'\\'Regardless of what was said ... it was more than, \\'Cancun on three,\\'\" Beverley said. \"Let\\'s just say it was more than that. I\\'ve been called a lot of stuff in this league, I haven\\'t been called that one. Still inexcusable, it doesn\\'t matter what was said. I have to be better and I will be better.\"Indianapolispolice are investigating the ball-throwing incidentbetween Beverley and the Pacers fans.Detectives confirmed the investigation to The Athletic on Wednesday, and said they are reviewing video footage from Gainbridge Fieldhouse and plan to speak with all parties. It’s unclear if they will pursue any criminal charges.The other reason Beverley is being suspended is because after the game,he refused to answer questionsfrom ESPN’s Malinda Adams in a media scrum because she didn’t subscribe to his podcast.Patrick Beverly tells female reporter from ESPN that she cannot interview him since she doesn\\'t subscribe to his podcast.pic.twitter.com/sRFHiZJaSK— Alex Golden (@AlexGoldenNBA)May 3, 2024Beverley defended himself, saying on his podcast he\\'s done that with other reporters in the past. But when he saw the clip go viral and criticism come his way, he reached out to Adams.\"I\\'ve done that since I had a podcast,\" Beverley said of the interaction. \"...I instantly get her number, I call her. Ain\\'t nobody tell me to call her. Like, I literally find her number, call her number, like, \\'Hey, I know you probably getting a lot of people reaching out to you and I apologize about that. It was never my intent to disrespect you.\\' We got on the phone we laughed about it.\"Beverley, who is an unrestricted free agent this summer, will serve his four-game suspension next season.Patrick Beverley threw a ball at Pacers fans multiple times in the final minutes of the Bucks\\' Game 6 loss earlier this month.The Pacers identified 29 plays from Game 1 and 49 plays from Game 2 they did not agree with.Jalen Brunson briefly went down with a foot injury in the first half on Wednesday night, and then returned to power the Knicks to a 2-0 series lead.Jalen Brunson scored 43 points, leading the New York Knicks to a 121–117 win over the Indiana Pacers in Game 1 of their second-round NBA playoff series.Vincent Goodwill and The Athletic’s Fred Katz talk through the Cavaliers game 7 win on Sunday, the offseason ahead of the Magic (and Lakers) and preview the Knicks / Pacers 2nd round series.The Bucks will be without Giannis Antetokounmpo and Damian Lillard for an elimination game on Tuesday night.Damian Lillard is doubtful to play in Game 4 of the Milwaukee Bucks\\' first-round NBA playoff series with the Indiana Pacers. Lillard suffered an Achilles injury on a drive to the basket in Game 3.Tyrese Haliburton hit a floater with 1.1 seconds left in overtime to give the Indiana Pacers a 121–118 win over the Milwaukee Bucks. The Pacers lead their first-round playoff series two games to one.Pascal Siakam droped 37 points to help the Pacers fend off Damian Lillard and tie up their playoff series 1-1.Welcome back to the playoffs, Damian Lillard.Frank Vogel\\'s out after one season in Phoenix failed to produce a playoff win.Jason Fitz, Charles Robinson and Frank Schwab talk about which quarterback rooms concern them and which they find interesting heading into the 2024 NFL season.The gambling scandal involving Shohei Ohtani\\'s interpreter, Ippei Mizuhara, who stole $17 million from the superstar to cover betting losses is in development as a TV series.The 2024 Yankees have rediscovered their bravado and hold the second-best record in the AL, thanks in large part to the superstar outfielder.A disappointing April led Carroll and his Diamondbacks coaches to reexamine his swing mechanics and get back to his strengths.The pair has been a perfect fit on the court, but it’s away from the game where the dynamic duo’s friendship was really forged.Keefe took over from Mike Babcock in November 2019.As modern media becomes more niche driven, teams and even leagues have to balance whether to seek the biggest TV contracts or the biggest potential audience.As part of a new proposal, power conference leaders are considering reducing football rosters from more than 115 to as few as 85 players.The Charlotte Hornets announced on Thursday morning that it hired Boston Celtics assistant Charles Lee, who will join the team once Boston\\'s playoff run is complete.'"
      ]
     },
     "execution_count": 87,
     "metadata": {},
     "output_type": "execute_result"
    }
   ],
   "source": [
    "body"
   ]
  },
  {
   "cell_type": "markdown",
   "id": "34a0f2b7-50ff-4c7f-9eea-59c612c08cd0",
   "metadata": {},
   "source": [
    "### Scraping multiple articles"
   ]
  },
  {
   "cell_type": "code",
   "execution_count": 8,
   "id": "9e51827b-4892-445a-af8d-8789fc264df4",
   "metadata": {},
   "outputs": [],
   "source": [
    "article_titles = []\n",
    "article_bodies = []\n",
    "for url in sports_urls:\n",
    "    response = requests.get(url)\n",
    "    soup = BeautifulSoup(response.content)\n",
    "    article_title = soup.find('h1').get_text(strip=True)\n",
    "    article_paragraphs = soup.find_all('p')\n",
    "    body = \"\"\n",
    "    for paragraph in article_paragraphs:\n",
    "        paragraph = paragraph.get_text(strip=True)\n",
    "        body = body + paragraph\n",
    "    article_titles.append(article_title)\n",
    "    article_bodies.append(body)"
   ]
  },
  {
   "cell_type": "code",
   "execution_count": 9,
   "id": "2477142b-251f-48da-bcce-22f729c4a6b7",
   "metadata": {},
   "outputs": [],
   "source": [
    "df = pd.DataFrame({'article url': sports_urls, 'title': article_titles, 'article': article_bodies})"
   ]
  },
  {
   "cell_type": "code",
   "execution_count": 10,
   "id": "f24ce3d1-4ab0-4962-8091-24ce73614b77",
   "metadata": {},
   "outputs": [
    {
     "data": {
      "text/html": [
       "<div>\n",
       "<style scoped>\n",
       "    .dataframe tbody tr th:only-of-type {\n",
       "        vertical-align: middle;\n",
       "    }\n",
       "\n",
       "    .dataframe tbody tr th {\n",
       "        vertical-align: top;\n",
       "    }\n",
       "\n",
       "    .dataframe thead th {\n",
       "        text-align: right;\n",
       "    }\n",
       "</style>\n",
       "<table border=\"1\" class=\"dataframe\">\n",
       "  <thead>\n",
       "    <tr style=\"text-align: right;\">\n",
       "      <th></th>\n",
       "      <th>article url</th>\n",
       "      <th>title</th>\n",
       "      <th>article</th>\n",
       "    </tr>\n",
       "  </thead>\n",
       "  <tbody>\n",
       "    <tr>\n",
       "      <th>0</th>\n",
       "      <td>https://sports.yahoo.com/nba-playoffs-cavalier...</td>\n",
       "      <td>NBA playoffs: Cavaliers stun Celtics with domi...</td>\n",
       "      <td>TheCleveland Cavaliersfinally won their first ...</td>\n",
       "    </tr>\n",
       "    <tr>\n",
       "      <th>1</th>\n",
       "      <td>https://sports.yahoo.com/report-suns-fire-head...</td>\n",
       "      <td>Report: Suns fire head coach Frank Vogel after...</td>\n",
       "      <td>ThePhoenix Sunsare moving on from head coach F...</td>\n",
       "    </tr>\n",
       "    <tr>\n",
       "      <th>2</th>\n",
       "      <td>https://sports.yahoo.com/nba-playoffs-knicks-r...</td>\n",
       "      <td>NBA playoffs: Knicks rule OG Anunoby out for G...</td>\n",
       "      <td>TheNew York Knickswill be withoutOG Anunobyon ...</td>\n",
       "    </tr>\n",
       "    <tr>\n",
       "      <th>3</th>\n",
       "      <td>https://sports.yahoo.com/brunson-leads-knicks-...</td>\n",
       "      <td>Brunson leads Knicks over Pacers, Hornets hire...</td>\n",
       "      <td>On this episode ofNo Cap Room, Yahoo Sports se...</td>\n",
       "    </tr>\n",
       "    <tr>\n",
       "      <th>4</th>\n",
       "      <td>https://sports.yahoo.com/2024-nba-playoffs-sec...</td>\n",
       "      <td>2024 NBA Playoffs second round schedule: How t...</td>\n",
       "      <td>The2024 NBA Playoffsare in full swing! After a...</td>\n",
       "    </tr>\n",
       "    <tr>\n",
       "      <th>5</th>\n",
       "      <td>https://sports.yahoo.com/nba-suspends-bucks-pa...</td>\n",
       "      <td>NBA suspends Bucks' Patrick Beverley 4 games f...</td>\n",
       "      <td>Patrick Beverleyof theMilwaukee Buckshas been ...</td>\n",
       "    </tr>\n",
       "    <tr>\n",
       "      <th>6</th>\n",
       "      <td>https://sports.yahoo.com/former-nba-player-gle...</td>\n",
       "      <td>Former NBA player Glen Davis sentenced to 40 m...</td>\n",
       "      <td>Former NBA player Glen Davis was sentenced to ...</td>\n",
       "    </tr>\n",
       "    <tr>\n",
       "      <th>7</th>\n",
       "      <td>https://sports.yahoo.com/is-pacers-coach-rick-...</td>\n",
       "      <td>Is Pacers coach Rick Carlisle right to be upse...</td>\n",
       "      <td>It wouldn’t be the playoffs we know and love w...</td>\n",
       "    </tr>\n",
       "    <tr>\n",
       "      <th>8</th>\n",
       "      <td>https://sports.yahoo.com/how-the-deep-bond-bet...</td>\n",
       "      <td>How the deep bond between Nikola Jokić and Aar...</td>\n",
       "      <td>One day, afterDenverclimbed the NBA’s rocky mo...</td>\n",
       "    </tr>\n",
       "    <tr>\n",
       "      <th>9</th>\n",
       "      <td>https://sports.yahoo.com/brooklyn-nets-2024-nb...</td>\n",
       "      <td>Brooklyn Nets 2024 NBA offseason preview: Path...</td>\n",
       "      <td>2023-24 season:32-50Highlight of the season:In...</td>\n",
       "    </tr>\n",
       "    <tr>\n",
       "      <th>10</th>\n",
       "      <td>https://sports.yahoo.com/utah-jazz-2024-nba-of...</td>\n",
       "      <td>Utah Jazz 2024 NBA offseason preview: Time for...</td>\n",
       "      <td>2023-2024 season:31-51Highlight of the season:...</td>\n",
       "    </tr>\n",
       "    <tr>\n",
       "      <th>11</th>\n",
       "      <td>https://sports.yahoo.com/pacers-reportedly-sen...</td>\n",
       "      <td>Pacers reportedly send NBA 78 missed calls by ...</td>\n",
       "      <td>Officiating complaints from theIndiana Pacers'...</td>\n",
       "    </tr>\n",
       "    <tr>\n",
       "      <th>12</th>\n",
       "      <td>https://sports.yahoo.com/charlotte-hornets-hir...</td>\n",
       "      <td>Charlotte Hornets hire Boston Celtics assistan...</td>\n",
       "      <td>TheCharlotte Hornetshave found their new head ...</td>\n",
       "    </tr>\n",
       "    <tr>\n",
       "      <th>13</th>\n",
       "      <td>https://sports.yahoo.com/inside-the-night-jale...</td>\n",
       "      <td>Inside the night Jalen Brunson pulled a Willis...</td>\n",
       "      <td>NEW YORK — For a man not particularly given to...</td>\n",
       "    </tr>\n",
       "  </tbody>\n",
       "</table>\n",
       "</div>"
      ],
      "text/plain": [
       "                                          article url  \\\n",
       "0   https://sports.yahoo.com/nba-playoffs-cavalier...   \n",
       "1   https://sports.yahoo.com/report-suns-fire-head...   \n",
       "2   https://sports.yahoo.com/nba-playoffs-knicks-r...   \n",
       "3   https://sports.yahoo.com/brunson-leads-knicks-...   \n",
       "4   https://sports.yahoo.com/2024-nba-playoffs-sec...   \n",
       "5   https://sports.yahoo.com/nba-suspends-bucks-pa...   \n",
       "6   https://sports.yahoo.com/former-nba-player-gle...   \n",
       "7   https://sports.yahoo.com/is-pacers-coach-rick-...   \n",
       "8   https://sports.yahoo.com/how-the-deep-bond-bet...   \n",
       "9   https://sports.yahoo.com/brooklyn-nets-2024-nb...   \n",
       "10  https://sports.yahoo.com/utah-jazz-2024-nba-of...   \n",
       "11  https://sports.yahoo.com/pacers-reportedly-sen...   \n",
       "12  https://sports.yahoo.com/charlotte-hornets-hir...   \n",
       "13  https://sports.yahoo.com/inside-the-night-jale...   \n",
       "\n",
       "                                                title  \\\n",
       "0   NBA playoffs: Cavaliers stun Celtics with domi...   \n",
       "1   Report: Suns fire head coach Frank Vogel after...   \n",
       "2   NBA playoffs: Knicks rule OG Anunoby out for G...   \n",
       "3   Brunson leads Knicks over Pacers, Hornets hire...   \n",
       "4   2024 NBA Playoffs second round schedule: How t...   \n",
       "5   NBA suspends Bucks' Patrick Beverley 4 games f...   \n",
       "6   Former NBA player Glen Davis sentenced to 40 m...   \n",
       "7   Is Pacers coach Rick Carlisle right to be upse...   \n",
       "8   How the deep bond between Nikola Jokić and Aar...   \n",
       "9   Brooklyn Nets 2024 NBA offseason preview: Path...   \n",
       "10  Utah Jazz 2024 NBA offseason preview: Time for...   \n",
       "11  Pacers reportedly send NBA 78 missed calls by ...   \n",
       "12  Charlotte Hornets hire Boston Celtics assistan...   \n",
       "13  Inside the night Jalen Brunson pulled a Willis...   \n",
       "\n",
       "                                              article  \n",
       "0   TheCleveland Cavaliersfinally won their first ...  \n",
       "1   ThePhoenix Sunsare moving on from head coach F...  \n",
       "2   TheNew York Knickswill be withoutOG Anunobyon ...  \n",
       "3   On this episode ofNo Cap Room, Yahoo Sports se...  \n",
       "4   The2024 NBA Playoffsare in full swing! After a...  \n",
       "5   Patrick Beverleyof theMilwaukee Buckshas been ...  \n",
       "6   Former NBA player Glen Davis was sentenced to ...  \n",
       "7   It wouldn’t be the playoffs we know and love w...  \n",
       "8   One day, afterDenverclimbed the NBA’s rocky mo...  \n",
       "9   2023-24 season:32-50Highlight of the season:In...  \n",
       "10  2023-2024 season:31-51Highlight of the season:...  \n",
       "11  Officiating complaints from theIndiana Pacers'...  \n",
       "12  TheCharlotte Hornetshave found their new head ...  \n",
       "13  NEW YORK — For a man not particularly given to...  "
      ]
     },
     "execution_count": 10,
     "metadata": {},
     "output_type": "execute_result"
    }
   ],
   "source": [
    "df"
   ]
  },
  {
   "cell_type": "markdown",
   "id": "5958a0e1-61af-466e-900b-d338c9620958",
   "metadata": {},
   "source": [
    "## Esports news\n",
    "For esports news, I will be scraping Esports Charts. Since chess news are slow, let's just take the last 10 articles."
   ]
  },
  {
   "cell_type": "code",
   "execution_count": 126,
   "id": "52ed518d-3192-4958-a26d-ce75b2e712b7",
   "metadata": {},
   "outputs": [],
   "source": [
    "response = requests.get(\"https://www.chess.com/news\")"
   ]
  },
  {
   "cell_type": "code",
   "execution_count": 127,
   "id": "659d92dc-a8ee-43cc-bae0-f7a1c15b4c22",
   "metadata": {},
   "outputs": [],
   "source": [
    "soup = BeautifulSoup(response.content)"
   ]
  },
  {
   "cell_type": "code",
   "execution_count": 128,
   "id": "bb3c5e1e-def2-45d5-9f1f-2c986343c08e",
   "metadata": {},
   "outputs": [
    {
     "data": {
      "text/plain": [
       "<Response [200]>"
      ]
     },
     "execution_count": 128,
     "metadata": {},
     "output_type": "execute_result"
    }
   ],
   "source": [
    "response"
   ]
  },
  {
   "cell_type": "code",
   "execution_count": 121,
   "id": "a52b0850-8f79-4af7-a2d0-b230f5bc7a3b",
   "metadata": {},
   "outputs": [],
   "source": [
    "chess_links = soup.find_all(\"a\",{\"class\":\"post-preview-title\"})"
   ]
  },
  {
   "cell_type": "code",
   "execution_count": 123,
   "id": "0ffdce7d-7c52-4c30-94e8-dd42ab6333b4",
   "metadata": {},
   "outputs": [
    {
     "data": {
      "text/plain": [
       "'https://www.chess.com/news/view/2024-superbet-poland-rapid-blitz-day-2'"
      ]
     },
     "execution_count": 123,
     "metadata": {},
     "output_type": "execute_result"
    }
   ],
   "source": [
    "chess_links[1].get('href')"
   ]
  },
  {
   "cell_type": "code",
   "execution_count": 129,
   "id": "d0ab73d9-2e6e-4b35-a8db-0265db173da9",
   "metadata": {},
   "outputs": [],
   "source": [
    "chess_urls = []\n",
    "for link in chess_links[:10]:\n",
    "    chess_url = link.get('href')\n",
    "    chess_urls.append(chess_url)"
   ]
  },
  {
   "cell_type": "code",
   "execution_count": 130,
   "id": "f59463c8-bf43-44e7-89c6-bbdfcd0d12df",
   "metadata": {},
   "outputs": [
    {
     "data": {
      "text/plain": [
       "['https://www.chess.com/news/view/2024-cct-chesscom-classic-day-2',\n",
       " 'https://www.chess.com/news/view/2024-superbet-poland-rapid-blitz-day-2',\n",
       " 'https://www.chess.com/news/view/2024-cct-chesscom-classic-day-1',\n",
       " 'https://www.chess.com/news/view/2024-superbet-poland-rapid-blitz-day-1',\n",
       " 'https://www.chess.com/news/view/le-carlsen-win-titled-tuesday-may-7-2024',\n",
       " 'https://www.chess.com/news/view/amateurs-mind-chessable',\n",
       " 'https://www.chess.com/news/view/thomas-mars-bot',\n",
       " 'https://www.chess.com/news/view/hikaru-nakamura-wins-bullet-brawl-may-4-2024',\n",
       " 'https://www.chess.com/news/view/fides-call-for-world-championship-bids-draws-reactions',\n",
       " 'https://www.chess.com/news/view/abdusattorov-wins-2024-tepe-sigeman-tournament']"
      ]
     },
     "execution_count": 130,
     "metadata": {},
     "output_type": "execute_result"
    }
   ],
   "source": [
    "chess_urls"
   ]
  },
  {
   "cell_type": "markdown",
   "id": "8fa74406-4d17-41c3-8b6f-e140c541acd0",
   "metadata": {},
   "source": [
    "### Scraping a single article"
   ]
  },
  {
   "cell_type": "code",
   "execution_count": 131,
   "id": "336ba15d-b0dd-444c-8fd3-0897b2254472",
   "metadata": {},
   "outputs": [],
   "source": [
    "response = requests.get('https://www.chess.com/news/view/2024-cct-chesscom-classic-day-2')"
   ]
  },
  {
   "cell_type": "code",
   "execution_count": 132,
   "id": "55f7e7ec-321d-47e1-8a0d-3bbfb5bdd4bd",
   "metadata": {},
   "outputs": [],
   "source": [
    "soup = BeautifulSoup(response.content)"
   ]
  },
  {
   "cell_type": "code",
   "execution_count": 133,
   "id": "0e325e96-cfbd-4d1d-b234-41417445c326",
   "metadata": {},
   "outputs": [],
   "source": [
    "article_title = soup.find('h1').get_text(strip=True)"
   ]
  },
  {
   "cell_type": "code",
   "execution_count": 149,
   "id": "f1b02a86-35b8-4446-b9c0-3a6eceb1cfca",
   "metadata": {},
   "outputs": [],
   "source": [
    "article_body = soup.find('div',{\"class\":\"post-view-content\"})"
   ]
  },
  {
   "cell_type": "code",
   "execution_count": 151,
   "id": "d651d044-18f0-4d2d-937c-e5d25e2e2075",
   "metadata": {},
   "outputs": [
    {
     "data": {
      "text/plain": [
       "\"This is a flash report. The full article will be added to this page soon.GMVelimir Ivichad the performance of a lifetime on day two of theChampions Chess Tour Chess.com Classic 2024. After surviving elimination from Division I thanks to a mouse slip by his opponent, he defeated GMMaxime Vachier-Lagravein armageddon—and then went on to send GMFabiano Caruanato Division II as well.Ivic is joined in Division I by GMsIan Nepomniachtchi,Jan-Krzysztof Duda,Alexey Sarana,Denis Lazavik, and the three pre-qualified players, GMsMagnus Carlsen,Alireza Firouzja, andVincent Keymer.In Division II Placement, six players won both of their matches. One player to keep an eye on is GMVidit Gujrathi, who after a difficultFIDE Candidates Tournamentand then a less-than-ideal performance in Wednesday's Play-in, has started to punch back.In Division III Placement, 20 players won their match (only one was played). GMLiem Leplayed two exceptional attacking games to eliminate GMChristopher Yoo. We will go over the second, in which he managed to promote a pawn in the middlegame. Also notable is GMHans Niemann's 3-0 clean sweep against GMDavid Anton.Day three begins onFriday, May 10, starting at 12:30 p.m. ET / 18:30 CEST / 10 p.m. IST.Division I BracketDivision I ResultsGMRafael Leitao's analysis will be added soon.You can find the full standings for Division II Placementhere.You can find the full standings for Division III Placementhere.How to watch?You can watch the2024 Chess.com ClassiconChess.com/TV. You can also enjoy the show on ourTwitch channeland catch all our live broadcasts onYouTube.com. Games from the event can be viewed on ourevents page.The live broadcast was hosted by GMDavid Howelland IMDanny Rensch.The 2024 Chess.com Classic is the second of the Champions Chess Tour's four events and determines one of the players who'll make it to the in-person CCT Finals. The event starts on May 8 at 12:30 p.m. ET/18:30 CEST/10 p.m. IST and features a $300,000 prize fund.Previous coverage:Day 1: Caruana Wins In Final Round To Take Sole 1st In Chess.com Classic Play-inChampions Chess Tour Returns With 2024 Chess.com Classic\""
      ]
     },
     "execution_count": 151,
     "metadata": {},
     "output_type": "execute_result"
    }
   ],
   "source": [
    "article_body.get_text(strip=True)"
   ]
  },
  {
   "cell_type": "markdown",
   "id": "e2404ec8-9c7c-45a9-a208-e8db1af574df",
   "metadata": {},
   "source": [
    "### Scraping multiple articles"
   ]
  },
  {
   "cell_type": "code",
   "execution_count": 152,
   "id": "e57e6e3a-c946-46ba-9500-fe00e4b35ab0",
   "metadata": {},
   "outputs": [],
   "source": [
    "article_titles = []\n",
    "article_bodies = []\n",
    "for url in chess_urls:\n",
    "    response = requests.get(url)\n",
    "    soup = BeautifulSoup(response.content)\n",
    "    article_title = soup.find('h1').get_text(strip=True)\n",
    "    article_body = soup.find('div',{\"class\":\"post-view-content\"})\n",
    "    article_titles.append(article_title)\n",
    "    article_bodies.append(article_body.get_text(strip=True))"
   ]
  },
  {
   "cell_type": "code",
   "execution_count": 153,
   "id": "3577ca70-285a-44f5-9dda-c5feb44f78cb",
   "metadata": {},
   "outputs": [],
   "source": [
    "df = pd.DataFrame({'article url': chess_urls, 'title': article_titles, 'article': article_bodies})"
   ]
  },
  {
   "cell_type": "code",
   "execution_count": 154,
   "id": "dfdc7e23-c8ca-45a3-8459-35e5e5a9d3fd",
   "metadata": {},
   "outputs": [
    {
     "data": {
      "text/html": [
       "<div>\n",
       "<style scoped>\n",
       "    .dataframe tbody tr th:only-of-type {\n",
       "        vertical-align: middle;\n",
       "    }\n",
       "\n",
       "    .dataframe tbody tr th {\n",
       "        vertical-align: top;\n",
       "    }\n",
       "\n",
       "    .dataframe thead th {\n",
       "        text-align: right;\n",
       "    }\n",
       "</style>\n",
       "<table border=\"1\" class=\"dataframe\">\n",
       "  <thead>\n",
       "    <tr style=\"text-align: right;\">\n",
       "      <th></th>\n",
       "      <th>article url</th>\n",
       "      <th>title</th>\n",
       "      <th>article</th>\n",
       "    </tr>\n",
       "  </thead>\n",
       "  <tbody>\n",
       "    <tr>\n",
       "      <th>0</th>\n",
       "      <td>https://www.chess.com/news/view/2024-cct-chess...</td>\n",
       "      <td>Vachier-Lagrave, Caruana, Wesley So Kicked Out...</td>\n",
       "      <td>This is a flash report. The full article will ...</td>\n",
       "    </tr>\n",
       "    <tr>\n",
       "      <th>1</th>\n",
       "      <td>https://www.chess.com/news/view/2024-superbet-...</td>\n",
       "      <td>Carlsen Lets Gukesh Escape, Leads With Wei Yi</td>\n",
       "      <td>GMMagnus Carlsencame within a whisker of beati...</td>\n",
       "    </tr>\n",
       "    <tr>\n",
       "      <th>2</th>\n",
       "      <td>https://www.chess.com/news/view/2024-cct-chess...</td>\n",
       "      <td>Caruana Wins In Final Round To Take Sole 1st I...</td>\n",
       "      <td>GMFabiano Caruanafinished first in the Play-in...</td>\n",
       "    </tr>\n",
       "    <tr>\n",
       "      <th>3</th>\n",
       "      <td>https://www.chess.com/news/view/2024-superbet-...</td>\n",
       "      <td>Shevchenko Leads Carlsen And Abdusattorov Afte...</td>\n",
       "      <td>GMKirill Shevchenkois the absolute underdog in...</td>\n",
       "    </tr>\n",
       "    <tr>\n",
       "      <th>4</th>\n",
       "      <td>https://www.chess.com/news/view/le-carlsen-win...</td>\n",
       "      <td>Carlsen Wins Final Clash To Take Tuesday From ...</td>\n",
       "      <td>GMTuan Minh Lewon the early edition ofTitled T...</td>\n",
       "    </tr>\n",
       "    <tr>\n",
       "      <th>5</th>\n",
       "      <td>https://www.chess.com/news/view/amateurs-mind-...</td>\n",
       "      <td>Break Free From Amateur Mistakes With Silman's...</td>\n",
       "      <td>We're happy to announce the release of IMJerem...</td>\n",
       "    </tr>\n",
       "    <tr>\n",
       "      <th>6</th>\n",
       "      <td>https://www.chess.com/news/view/thomas-mars-bot</td>\n",
       "      <td>Run Run Run! It's Chess Party Time With The Ne...</td>\n",
       "      <td>If you're looking for some chessEntertainment,...</td>\n",
       "    </tr>\n",
       "    <tr>\n",
       "      <th>7</th>\n",
       "      <td>https://www.chess.com/news/view/hikaru-nakamur...</td>\n",
       "      <td>Nakamura Pushes Bullet Brawl Earnings Over $10...</td>\n",
       "      <td>GMHikaru Nakamurasecured his second straightBu...</td>\n",
       "    </tr>\n",
       "    <tr>\n",
       "      <th>8</th>\n",
       "      <td>https://www.chess.com/news/view/fides-call-for...</td>\n",
       "      <td>FIDE's Call For World Championship Bids Sparks...</td>\n",
       "      <td>The International Chess Federation (FIDE) has ...</td>\n",
       "    </tr>\n",
       "    <tr>\n",
       "      <th>9</th>\n",
       "      <td>https://www.chess.com/news/view/abdusattorov-w...</td>\n",
       "      <td>Abdusattorov Wins TePe Sigeman Chess Tournamen...</td>\n",
       "      <td>He was in fourth place, trailing three leaders...</td>\n",
       "    </tr>\n",
       "  </tbody>\n",
       "</table>\n",
       "</div>"
      ],
      "text/plain": [
       "                                         article url  \\\n",
       "0  https://www.chess.com/news/view/2024-cct-chess...   \n",
       "1  https://www.chess.com/news/view/2024-superbet-...   \n",
       "2  https://www.chess.com/news/view/2024-cct-chess...   \n",
       "3  https://www.chess.com/news/view/2024-superbet-...   \n",
       "4  https://www.chess.com/news/view/le-carlsen-win...   \n",
       "5  https://www.chess.com/news/view/amateurs-mind-...   \n",
       "6    https://www.chess.com/news/view/thomas-mars-bot   \n",
       "7  https://www.chess.com/news/view/hikaru-nakamur...   \n",
       "8  https://www.chess.com/news/view/fides-call-for...   \n",
       "9  https://www.chess.com/news/view/abdusattorov-w...   \n",
       "\n",
       "                                               title  \\\n",
       "0  Vachier-Lagrave, Caruana, Wesley So Kicked Out...   \n",
       "1      Carlsen Lets Gukesh Escape, Leads With Wei Yi   \n",
       "2  Caruana Wins In Final Round To Take Sole 1st I...   \n",
       "3  Shevchenko Leads Carlsen And Abdusattorov Afte...   \n",
       "4  Carlsen Wins Final Clash To Take Tuesday From ...   \n",
       "5  Break Free From Amateur Mistakes With Silman's...   \n",
       "6  Run Run Run! It's Chess Party Time With The Ne...   \n",
       "7  Nakamura Pushes Bullet Brawl Earnings Over $10...   \n",
       "8  FIDE's Call For World Championship Bids Sparks...   \n",
       "9  Abdusattorov Wins TePe Sigeman Chess Tournamen...   \n",
       "\n",
       "                                             article  \n",
       "0  This is a flash report. The full article will ...  \n",
       "1  GMMagnus Carlsencame within a whisker of beati...  \n",
       "2  GMFabiano Caruanafinished first in the Play-in...  \n",
       "3  GMKirill Shevchenkois the absolute underdog in...  \n",
       "4  GMTuan Minh Lewon the early edition ofTitled T...  \n",
       "5  We're happy to announce the release of IMJerem...  \n",
       "6  If you're looking for some chessEntertainment,...  \n",
       "7  GMHikaru Nakamurasecured his second straightBu...  \n",
       "8  The International Chess Federation (FIDE) has ...  \n",
       "9  He was in fourth place, trailing three leaders...  "
      ]
     },
     "execution_count": 154,
     "metadata": {},
     "output_type": "execute_result"
    }
   ],
   "source": [
    "df"
   ]
  },
  {
   "cell_type": "markdown",
   "id": "d93f91de-43d1-477e-a56b-08dc3986123d",
   "metadata": {},
   "source": [
    "## Summarization"
   ]
  },
  {
   "cell_type": "code",
   "execution_count": 12,
   "id": "878ae159-2788-4b01-9936-4341acdd4c00",
   "metadata": {},
   "outputs": [],
   "source": [
    "from pysummarization.nlpbase.auto_abstractor import AutoAbstractor\n",
    "from pysummarization.tokenizabledoc.simple_tokenizer import SimpleTokenizer\n",
    "from pysummarization.abstractabledoc.top_n_rank_abstractor import TopNRankAbstractor"
   ]
  },
  {
   "cell_type": "code",
   "execution_count": 13,
   "id": "5cf79d54-bb3d-44fa-b0e3-79add5a7798a",
   "metadata": {},
   "outputs": [
    {
     "name": "stdout",
     "output_type": "stream",
     "text": [
      "TheCleveland Cavaliersfinally won their first road game of the NBA playoffs, surprising theBoston Celticsand the TD Garden crowd with a118–94 win in Game 2 of their second-round Eastern Conference series.\n",
      "\n",
      " The series is tied at 1–1 going into Saturday's Game 3 at Cleveland.\n",
      "\n",
      "Early on, it looked like the Cavs might win a playoff game withoutDonovan Mitchellscoring the majority of their points.\n",
      "\n",
      " After averaging 39 points over Cleveland's past three playoff games, Mitchell had only six points at halftime.\n",
      "\n",
      " But he took over in the second half, scoring 16 in the third quarter and 29 for the game.\n",
      "\n",
      "Cleveland took control in the second half, outscoring the Celtics 64–40.\n",
      "\n",
      " With approximately five minutes remaining in the game, Boston head coach Joe Mazzulla conceded and put most of his bench on the court while the home fans headed for the exits.\n",
      "\n",
      "com/Whb7NyqnlF— Cleveland Cavaliers (@cavs)May 9, 2024Boston came back in the second quarter as Mobley and LeVert cooled off, while Mitchell andDarius Garlanddidn't look for their shots.\n",
      "\n",
      "Jarrett Allenmissed his fifth consecutive playoff game for the Cavs with a right rib contusion, whileKristaps Porzingishas been out for the Celtics' past two gameswith a calf injury.\n",
      "\n",
      "Game 3 of the Celtics-Cavaliers is scheduled for Saturday in Cleveland.\n",
      "\n",
      "ThePhoenix Sunsare moving on from head coach Frank Vogel.\n",
      "\n",
      "The Suns, after asweep at the hands of the Minnesota Timberwolvesin the first round of the playoffs earlier this spring, fired Vogel on Thursday afternoon, according to ESPN's Adrian Wojnarowski.\n",
      "\n",
      "ESPN Sources: The Phoenix Suns dismissed coach Frank Vogel.\n",
      "\n",
      " The Suns — who won 49 regular-season games with league’s third-highest payroll and tax — were swept in opening-round series to Timberwolves.\n",
      "\n",
      " Mike Budenholzer will be prominent part of search.\n",
      "\n",
      "com/SDTRkXxkrG— Adrian Wojnarowski (@wojespn)May 9, 2024The ouster culminated a disappointing season that saw a Suns roster that addedKevin DurantandBradley Bealin the last two seasons finish sixth in the Western Conference before failing to secure a playoff victory.\n",
      "\n",
      " Vogel is done in Phoenix after a single season produced a 49-33 record.\n",
      "\n",
      "The Suns sacrificed depth in reconstructing their roster around All-NBA guardDevin Booker.\n",
      "\n",
      "FormerMilwaukee Buckshead coach Mike Budenholzer has emerged as the \"frontrunner\" to replace Vogel in Phoenix, Wojnarowski reported on Thursday afternoon.\n",
      "\n",
      "co/PSWPi9C6Pr— Adrian Wojnarowski (@wojespn)May 9, 2024Budenholzer was fired by the Bucks last spring after five seasons with the franchise, just two years after he led the team to their second NBA title.\n",
      "\n",
      "TheNew York Knickswill be withoutOG Anunobyon Friday night in Indianapolis.\n",
      "\n",
      "The Knicks ruled Anunoby out for their Game 3 matchup with theIndiana Pacersdue to a left hamstring strain, the team announced on Thursday afternoon.\n",
      "\n",
      "Anunoby went down in the second half of the Knicks’ 130-121 winover the Pacers on Wednesday night at Madison Square Garden.\n",
      "\n",
      " He was driving to the rim for a layup when he awkwardly pulled up at the backboard and started hopping under the basket.\n",
      "\n",
      " The game continued as he struggled near the baseline, and then he quickly limped off the court and directly to the locker room the next time the game was stopped.\n",
      "\n",
      "He didn’t return, and finished the night with 28 points while shooting 10-of-19 from the field.\n",
      "\n",
      " Anunoby, who was traded to the Knicks by the Raptors ahead of the deadline earlier this year, has averaged 14.\n",
      "\n",
      " The team ruled him out of the game almost immediately on Wednesday, and there’s only a single day between games for him to rest and recover.\n",
      "\n",
      " He returned in the second half, however, and ended up dropping 29 points to push the Knicks to a nine-point win.\n",
      "\n",
      "The Knicks get a tough matchup as the No.\n",
      "\n",
      "On this episode ofNo Cap Room, Yahoo Sports senior NBA reporter Jake Fischer and Yahoo Sports senior NBA writer Dan Devine recap yet another close playoff win for theNew York Knicksover theIndiana Pacersfrom all angles.\n",
      "\n",
      "The guys discussJalen Brunsonreturning from injury to lead the team to victory,Josh Hartplaying every minute of every game, and even Pacers coach Rick Carlisle complaining about the refs and claiming that his small-market team is getting a raw deal because they’re playing against a large-market team in the NBA Playoffs.\n",
      "\n",
      "Speaking of coaches, Jake goes deep on how head coaches are employing challenges during the NBA Playoffs and how that usage differs from the regular season before talking about theCharlotte Hornetshiring Charles Lee as their new head coach and letting listeners in on some of the coaching rumors that he’s heard.\n",
      "\n",
      "Since the last episode ofNo Cap Room, four teams have been eliminated from the NBA Playoffs.\n",
      "\n",
      "🖥️Watch this full episode on YouTubeCheck out the rest of the Yahoo Sports podcast family athttps://apple.\n",
      "\n",
      "Indiana's head coach refused to blame the officiating following Game 1, then looked at the high road two days later and went a step away from nuclear.\n",
      "\n",
      "Jalen Brunson briefly went down with a foot injury in the first half on Wednesday night, and then returned to power the Knicks to a 2-0 series lead.\n",
      "\n",
      "Brunson scored 47 points and had 10 assists — breaking Bernard King’s franchise record for playoff points that has stood since the spring of 1984 — as the Knicks took control of the series.\n",
      "\n",
      "Frank Vogel's out after one season in Phoenix failed to produce a playoff win.\n",
      "\n",
      "As part of a new proposal, power conference leaders are considering reducing football rosters from more than 115 to as few as 85 players.\n",
      "\n",
      "The2024 NBA Playoffsare in full swing! After an action-packed first round, the NBA Playoffs continue in the second round tonight with Game 2 for theBoston Celticsvs.\n",
      "\n",
      " The action tips off on ESON at 7 p.\n",
      "\n",
      " Are you ready to watch? Here’s everything you need to know about tuning in to the NBA Playoffs tonight, including the full playoff schedule, NBA finals info and more.\n",
      "\n",
      "The first round of the NBA playoffs concluded on Sunday.\n",
      "\n",
      " Now, the action continues in the second round.\n",
      "\n",
      " Next up? Game 2 for No.\n",
      "\n",
      "The NBA playoffs will air across ESPN, ABC, TNT and NBA TV.\n",
      "\n",
      "Max has been \"the one to watch\" for entertainment fans for quite some time, but now, it's drawing sports fans in, too.\n",
      "\n",
      "The NBA Finals will air on ABC.\n",
      "\n",
      " The Cavaliers will face the Boston Celtics in the second round of the NBA playoffs.\n",
      "\n",
      "Patrick Beverleyof theMilwaukee Buckshas been suspendedfour games without pay by the NBAfor throwing a basketball at fans and for his interaction with an ESPN reporter after Game 6 of their first-round series against theIndiana Pacers.\n",
      "\n",
      "In the final minutes of the Bucks’ Game 6 loss to the Pacers, whichclosed out the seriesand sent the Pacers into the Eastern Conference semifinals,Beverley was seen throwing a balltoward Pacers fans and hitting a woman in the head.\n",
      "\n",
      " Beverley then waved at a different fan to throw the ball back to him, which he did, and then Beverley chucked the ball right back at him hard.\n",
      "\n",
      "Beverley kept jawing with fans behind their bench before teammates and others defused the situation.\n",
      "\n",
      " He was not ejected from the game, but he didn’t return.\n",
      "\n",
      " The Bucks were down by 20 points at the time.\n",
      "\n",
      "altercation between pat bev and pacers fans behind the benchpic.\n",
      "\n",
      "Patrick Beverley threw a ball at Pacers fans multiple times in the final minutes of the Bucks' Game 6 loss earlier this month.\n",
      "\n",
      "Damian Lillard is doubtful to play in Game 4 of the Milwaukee Bucks' first-round NBA playoff series with the Indiana Pacers.\n",
      "\n",
      " The Pacers lead their first-round playoff series two games to one.\n",
      "\n",
      "Former NBA player Glen Davis was sentenced to 40 months in prison Thursday, plus three years of supervised release, following his November 2023 conviction for involvement in a scheme to defraud the league's healthcare plan.\n",
      "\n",
      "Davis is one of 20 people, including other former players likeWill Bynum, Terrence Williams and Keyon Dooling, who were indicted for filing false reimbursement claims to the NBA's health and welfare benefit plan for medical care and procedures that were never actually performed.\n",
      "\n",
      "Davis and Bynum were convictedby a Manhattan jury last November.\n",
      "\n",
      "According to a statementby the Southern District of New York when the convictions were made, those involved in the scheme netted over $5 million in illicit profits.\n",
      "\n",
      " Davis submitted $132,000 worth of claims, including $27, 200 worth of dental work in Beverly Hills, when authorities were able to prove from cellphone data that he was actually in Las Vegas at the time,according to USA Today.\n",
      "\n",
      "Davis was convicted of health care fraud, wire fraud, conspiracy to make false statements and conspiracy to commit health care and wire fraud.\n",
      "\n",
      " He faced up to 20 years in prison.\n",
      "\n",
      "In addition to his prison sentence, Davis was ordered to pay $80,000 in restitution.\n",
      "\n",
      "A second-round pick in the 2007 NBA Draft out ofLSU, Davis was a member of the Celtics'2008 NBA championship teamand finished fourth in Sixth Man of the Year voting in 2011-12.\n",
      "\n",
      "The franchise is heading into an enormous summer in regard to picking a direction and mapping out a plan for the future.\n",
      "\n",
      "It wouldn’t be the playoffs we know and love without some campaigning and allegations that something nefarious is at work with officiating.\n",
      "\n",
      "Madison Square Garden, a rowdy and desperateKnickscrowd, theIndiana Pacerson the other end and a national TV audience.\n",
      "\n",
      "Are we sure we’re not done with the '90s?Pacers coach Rick Carlisle took to his pulpit afterhis team blew Game 2 to the Knicks, putting them in a 2-0 hole before heading home to Indianapolis.\n",
      "\n",
      " No doubt he was frustrated after two games of some shoddy officiating, some moments those refs would like to have back and a couple of unforgivable calls that went the Knicks’ way.\n",
      "\n",
      "ThePacers sent in several dozen plays to the league officethey considered questionable, which is standard practice for teams following games.\n",
      "\n",
      "Carlisle wasn’t coy about how he felt his team was officiated and the possible motives behind it.\n",
      "\n",
      "Carlisle refused to blame the officiating following Game 1, then looked at the high road two days later and went a step away from nuclear.\n",
      "\n",
      "Whether he fully believes it or not, Carlisle and other coaches around the league know who’s being talked about nationally, what teams receive the bulk of media and television coverage around the league, and it seeps into their minds.\n",
      "\n",
      "There’s no denying Madison Square Garden is electric in the springtime, and for the TV visual it looks like an intoxicating environment.\n",
      "\n",
      "The Knicks scored on that play, won that game and of course, like in Game 1, the officials admitted their mistake in the immediate aftermath but nothing could be done.\n",
      "\n",
      "One day, afterDenverclimbed the NBA’s rocky mountaintop to claim the 2022-23 NBA title,Nuggetscoaches and players walked into their Pepsi Center locker room, where an enormous leather saddle waited on the chair that belongs toNikola Jokić.\n",
      "\n",
      " The 7-foot, 280-pound center does have four framed pictures of his prize-winning horses hanging on the glass doors of his locker stall.\n",
      "\n",
      " Yet each beast has a wheeled harness fixed to it.\n",
      "\n",
      " None is mounted by a feather of a rider, let alone by one of the largest basketball players on the planet.\n",
      "\n",
      "“I just can’t imagine Nikola on a horse,” Nuggets assistant coach David Adelman said.\n",
      "\n",
      " “But this saddle made me think if there’s a horse big enough for it,thatwould be the horse.\n",
      "\n",
      "”It was stitched, custom, with the red, blue and white Serbian flag, plus the three-time MVP’s surname, as if anyone needed help knowingAaron Gordon’s gift now belonged to the giant genius of the game.\n",
      "\n",
      " Jokić helped convince him of an even craftier impact that was waiting to be mastered at the baseline.\n",
      "\n",
      " Gordon’s locker, where Nike snow goggles still hang from last summer’s Champagne celebration, is only separated from Jokić’s dressing area by the locker of two-way centerJay Huff.\n",
      "\n",
      " “Every day when I feel like I’m tired, and I feel like I don’t want to work out and I don’t want to get that extra rep in, I just think of Nikola and I think of Jamal and I think of Michael and [Kentavious Caldwell-Pope] and the guys in this locker room, and I make sure I do it for them.\n",
      "\n",
      "2023-24 season:32-50Highlight of the season:In early December, theNetswon six of seven games to sit at 12-9 and give their fan base some optimism.\n",
      "\n",
      " The team failed to make the postseason, while owing its 2024 selection toHouston, essentially gift-wrapping theRocketsa lottery pick in this June’s draft.\n",
      "\n",
      "Mikal Bridgesdidn’t live up to the hype of his post-trade play of last season, and the team refused to pick a direction at the trade deadline, despite strong offers coming in for the aforementioned Bridges.\n",
      "\n",
      "Third-year guardCam Thomasbroke out as the scorer everyone expected him to become, averaging 22.\n",
      "\n",
      "5 points on the season in a fairly modest 31.\n",
      "\n",
      " He was surprisingly consistent, failing to hit double-figure scoring just seven times all season, showcasing an ability to get up a high volume of both 3-pointers and free throws, which is usually a steady model for offensive efficiency.\n",
      "\n",
      " The Nets found themselves far too often coming into games at a talent disadvantage and, should they wish to be competitive, that must change this summer.\n",
      "\n",
      " While he's been typecast as a chucker, this team desperately needs someone who scores and creates for others, and he could fit the bill if given the opportunity.\n",
      "\n",
      "Utah’s decision to lean into youth this season was puzzling and makes this summer all the more intriguing as to what the next step in the team's plan is.\n",
      "\n",
      " 1 pick in the 2024 WNBA Draft is set for her preseason finale tonight.\n",
      "\n",
      "2023-2024 season:31-51Highlight of the season:The surprising evolution ofKeyonte Georgeand his ability to handle consistent point guard minutes.\n",
      "\n",
      "With a lot of losses and a lot of upcoming decisions to make.\n",
      "\n",
      " The team finished 5-25 over its final 30 games after what was mostly a fairly competitive season.\n",
      "\n",
      " Lauri Markkanen played All-Star-caliber basketball for the second year in a row (23.\n",
      "\n",
      "2 rebounds),Collin Sextonbounced back from a forgettable season, and Utah’s three first-round selections all showed signs of life — George most of all.\n",
      "\n",
      "Utah’s late-season collapse did coincide with Markkanen and forwardJohn Collinsboth missing time due to injury, however, the franchise wasn't in position to make a serious move in the Western Conference even if it had been healthy.\n",
      "\n",
      " Second-year head coach Will Hardy made an investment by handing the point guard keys to George, who came out of Baylor as primarily a shooting guard.\n",
      "\n",
      " While Collins would often struggle defensively, he did get a chance to be featured more in the offense, while boosting his rebounding numbers for the first time in years.\n",
      "\n",
      "Tara VanDerveer retired last month as the winningest head coach in men’s and women’s Division-I college basketball.\n",
      "\n",
      "Former NBA player Glen Davis was sentenced to 40 months in prison after his conviction for being involved in a scheme to defraud the league's healthcare plan.\n",
      "\n",
      "Officiating complaints from theIndiana Pacers' side have led to the team submitting 78 plays to the NBA from Games 1 and 2 against theNew York Knicksthat they feel were incorrectly called, according toESPN's Brian Windhorst.\n",
      "\n",
      "Pacers head coach Rick Carlisle was not happy with the referees in Wednesday's130-121Game 2 defeat, and ended up getting ejected late in the fourth quarter.\n",
      "\n",
      "Afterward, Carlisle said they had identified 29 calls they disagreed with from Game 1 and 49 from Game 2.\n",
      "\n",
      " Those disputed plays were then submitted to the league.\n",
      "\n",
      " The Pacers chose not to sendanything in after Game 1because Carlisle was hoping to get \"a more balanced whistle\" in Game 2.\n",
      "\n",
      " They feel they did not, and changed their minds.\n",
      "\n",
      "\"I can promise you that we're going to submit these tonight,\" Carlisle said after Game 2.\n",
      "\n",
      "Akick ball violationonAaron Nesmithand a moving screen call late in the fourth quarter drew Carlisle's ire after Game 1.\n",
      "\n",
      "\"What didn't help the Pacers in Game 2 was their shooting.\n",
      "\n",
      "Jalen Brunson scored 43 points, leading the New York Knicks to a 121–117 win over the Indiana Pacers in Game 1 of their second-round NBA playoff series.\n",
      "\n",
      "TheCharlotte Hornetshave found their new head coach.\n",
      "\n",
      " The team announced Thursday morning that it hiredBoston Celticsassistant Charles Lee, who will join the team once Boston's playoff run is complete.\n",
      "\n",
      "Lee has spent 10 years as an assistant in the NBA.\n",
      "\n",
      " ESPN's Adrian WojnarowskireportedLee is joining the Hornets on a four-year contract.\n",
      "\n",
      "“We are excited to welcome Charles Lee as the head coach of Charlotte Hornets,” Hornets executive vice president of basketball operations Jeff Peterson said in a statement.\n",
      "\n",
      " “His high character and his ability to connect with players while also instilling a culture of accountability will serve us well as we construct a competitive team built for long-term success.\n",
      "\n",
      " Charles possesses a championship pedigree with a wide range of basketball knowledge and NBA experience, has a tremendous work ethic and is a great communicator.\n",
      "\n",
      " We’re thrilled to announce the new Head Coach of your Charlotte Hornets, Coach Charles Lee! 🐝👏Presented by@CorcoranHM— Charlotte Hornets (@hornets)May 9, 2024Before joining Boston's coaching staff, Lee was an assistant coach for theMilwaukee Bucksfrom 2018-23.\n",
      "\n",
      "“The opportunity to be the head coach of the Charlotte Hornets is a dream come true,” Lee said in a statement.\n",
      "\n",
      " “I want to thank Rick Schnall, Gabe Plotkin and Jeff Peterson for the trust they are placing in me to lead this team.\n",
      "\n",
      "NEW YORK — For a man not particularly given to sentiment, the 18 syllables that trickled out of Tom Thibodeau’s mouth might as well have been a love letter.\n",
      "\n",
      "“He gave us everything he had,” he said.\n",
      "\n",
      " “That's all you can ask of a player.\n",
      "\n",
      "”TheKnickshead coach offered that Spartan highest-honor tribute Wednesday as a sort of elegy for centerMitchell Robinson, who suffered astress injuryto his surgically repaired left ankle, effectively ending his season before the Knicks' 130-121 Game 2 victory.\n",
      "\n",
      "New Yorkwas already operating short-handed, having lost forwardsJulius RandleandBojan Bogdanović; losing Robinson, too, meant Thibodeau was down to just seven players he’d entrusted with playing time in Game 1 of the Eastern Conference semifinals against thePacerson Monday.\n",
      "\n",
      " The Knicks later ruled him out for the rest of the contest with asore left hamstring.\n",
      "\n",
      " If he’s unable to go in time for Friday’s Game 3, Thibodeau will be down tosixplayers he trusts, plus the possibility of a couple of minutes forAlec Burks.\n",
      "\n",
      "Tom Thibodeau was the coach in both situations 😂(h/t@SportsCenter)pic.\n",
      "\n",
      " That’s all you can ask of a player.\n",
      "\n",
      "”Jalen Brunson briefly went down with a foot injury in the first half on Wednesday night, and then returned to power the Knicks to a 2-0 series lead.\n",
      "\n"
     ]
    }
   ],
   "source": [
    "for text in df['article']:\n",
    "    auto_abstractor = AutoAbstractor()\n",
    "    auto_abstractor.tokenizable_doc = SimpleTokenizer()\n",
    "    auto_abstractor.delimiter_list = [\".\", \"\\n\"]\n",
    "    abstractable_doc = TopNRankAbstractor()\n",
    "    \n",
    "    result_dict = auto_abstractor.summarize(text, abstractable_doc)\n",
    "\n",
    "    for sentence in result_dict[\"summarize_result\"]:\n",
    "        print(sentence)\n",
    "    \n"
   ]
  },
  {
   "cell_type": "code",
   "execution_count": null,
   "id": "a19f971e-919d-4880-8b4e-f8482bf64b04",
   "metadata": {},
   "outputs": [],
   "source": []
  }
 ],
 "metadata": {
  "kernelspec": {
   "display_name": "Python 3 (ipykernel)",
   "language": "python",
   "name": "python3"
  },
  "language_info": {
   "codemirror_mode": {
    "name": "ipython",
    "version": 3
   },
   "file_extension": ".py",
   "mimetype": "text/x-python",
   "name": "python",
   "nbconvert_exporter": "python",
   "pygments_lexer": "ipython3",
   "version": "3.12.2"
  }
 },
 "nbformat": 4,
 "nbformat_minor": 5
}
