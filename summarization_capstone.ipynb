{
  "cells": [
    {
      "cell_type": "markdown",
      "metadata": {
        "id": "GrKmnmifmDE1"
      },
      "source": [
        "# Summarization of news articles"
      ]
    },
    {
      "cell_type": "code",
      "execution_count": null,
      "metadata": {
        "colab": {
          "base_uri": "https://localhost:8080/"
        },
        "id": "95PM_29WexYt",
        "outputId": "645be2e2-7dac-404b-a27a-26519cd40cf5"
      },
      "outputs": [
        {
          "output_type": "stream",
          "name": "stdout",
          "text": [
            "Drive already mounted at /content/drive; to attempt to forcibly remount, call drive.mount(\"/content/drive\", force_remount=True).\n"
          ]
        }
      ],
      "source": [
        "from google.colab import drive\n",
        "drive.mount('/content/drive')"
      ]
    },
    {
      "cell_type": "code",
      "source": [
        "%cd drive/MyDrive/'Colab Notebooks'/capstone_project"
      ],
      "metadata": {
        "colab": {
          "base_uri": "https://localhost:8080/"
        },
        "id": "ALUh_ThspZgi",
        "outputId": "d353e2a4-e083-418d-9f62-46ad7a19c325"
      },
      "execution_count": null,
      "outputs": [
        {
          "output_type": "stream",
          "name": "stdout",
          "text": [
            "/content/drive/MyDrive/Colab Notebooks/capstone_project\n"
          ]
        }
      ]
    },
    {
      "cell_type": "code",
      "execution_count": null,
      "metadata": {
        "colab": {
          "base_uri": "https://localhost:8080/"
        },
        "collapsed": true,
        "id": "Xjk6I-SxenXL",
        "jupyter": {
          "outputs_hidden": true
        },
        "outputId": "478c8940-6532-4432-d2ec-fd2099907526"
      },
      "outputs": [
        {
          "output_type": "stream",
          "name": "stdout",
          "text": [
            "Requirement already satisfied: transformers[torch] in /usr/local/lib/python3.10/dist-packages (4.40.2)\n",
            "Requirement already satisfied: datasets in /usr/local/lib/python3.10/dist-packages (2.19.1)\n",
            "Requirement already satisfied: filelock in /usr/local/lib/python3.10/dist-packages (from transformers[torch]) (3.14.0)\n",
            "Requirement already satisfied: huggingface-hub<1.0,>=0.19.3 in /usr/local/lib/python3.10/dist-packages (from transformers[torch]) (0.23.0)\n",
            "Requirement already satisfied: numpy>=1.17 in /usr/local/lib/python3.10/dist-packages (from transformers[torch]) (1.25.2)\n",
            "Requirement already satisfied: packaging>=20.0 in /usr/local/lib/python3.10/dist-packages (from transformers[torch]) (24.0)\n",
            "Requirement already satisfied: pyyaml>=5.1 in /usr/local/lib/python3.10/dist-packages (from transformers[torch]) (6.0.1)\n",
            "Requirement already satisfied: regex!=2019.12.17 in /usr/local/lib/python3.10/dist-packages (from transformers[torch]) (2023.12.25)\n",
            "Requirement already satisfied: requests in /usr/local/lib/python3.10/dist-packages (from transformers[torch]) (2.31.0)\n",
            "Requirement already satisfied: tokenizers<0.20,>=0.19 in /usr/local/lib/python3.10/dist-packages (from transformers[torch]) (0.19.1)\n",
            "Requirement already satisfied: safetensors>=0.4.1 in /usr/local/lib/python3.10/dist-packages (from transformers[torch]) (0.4.3)\n",
            "Requirement already satisfied: tqdm>=4.27 in /usr/local/lib/python3.10/dist-packages (from transformers[torch]) (4.66.4)\n",
            "Requirement already satisfied: torch in /usr/local/lib/python3.10/dist-packages (from transformers[torch]) (2.2.1+cu121)\n",
            "Requirement already satisfied: accelerate>=0.21.0 in /usr/local/lib/python3.10/dist-packages (from transformers[torch]) (0.30.0)\n",
            "Requirement already satisfied: pyarrow>=12.0.0 in /usr/local/lib/python3.10/dist-packages (from datasets) (14.0.2)\n",
            "Requirement already satisfied: pyarrow-hotfix in /usr/local/lib/python3.10/dist-packages (from datasets) (0.6)\n",
            "Requirement already satisfied: dill<0.3.9,>=0.3.0 in /usr/local/lib/python3.10/dist-packages (from datasets) (0.3.8)\n",
            "Requirement already satisfied: pandas in /usr/local/lib/python3.10/dist-packages (from datasets) (2.0.3)\n",
            "Requirement already satisfied: xxhash in /usr/local/lib/python3.10/dist-packages (from datasets) (3.4.1)\n",
            "Requirement already satisfied: multiprocess in /usr/local/lib/python3.10/dist-packages (from datasets) (0.70.16)\n",
            "Requirement already satisfied: fsspec[http]<=2024.3.1,>=2023.1.0 in /usr/local/lib/python3.10/dist-packages (from datasets) (2023.6.0)\n",
            "Requirement already satisfied: aiohttp in /usr/local/lib/python3.10/dist-packages (from datasets) (3.9.5)\n",
            "Requirement already satisfied: psutil in /usr/local/lib/python3.10/dist-packages (from accelerate>=0.21.0->transformers[torch]) (5.9.5)\n",
            "Requirement already satisfied: aiosignal>=1.1.2 in /usr/local/lib/python3.10/dist-packages (from aiohttp->datasets) (1.3.1)\n",
            "Requirement already satisfied: attrs>=17.3.0 in /usr/local/lib/python3.10/dist-packages (from aiohttp->datasets) (23.2.0)\n",
            "Requirement already satisfied: frozenlist>=1.1.1 in /usr/local/lib/python3.10/dist-packages (from aiohttp->datasets) (1.4.1)\n",
            "Requirement already satisfied: multidict<7.0,>=4.5 in /usr/local/lib/python3.10/dist-packages (from aiohttp->datasets) (6.0.5)\n",
            "Requirement already satisfied: yarl<2.0,>=1.0 in /usr/local/lib/python3.10/dist-packages (from aiohttp->datasets) (1.9.4)\n",
            "Requirement already satisfied: async-timeout<5.0,>=4.0 in /usr/local/lib/python3.10/dist-packages (from aiohttp->datasets) (4.0.3)\n",
            "Requirement already satisfied: typing-extensions>=3.7.4.3 in /usr/local/lib/python3.10/dist-packages (from huggingface-hub<1.0,>=0.19.3->transformers[torch]) (4.11.0)\n",
            "Requirement already satisfied: charset-normalizer<4,>=2 in /usr/local/lib/python3.10/dist-packages (from requests->transformers[torch]) (3.3.2)\n",
            "Requirement already satisfied: idna<4,>=2.5 in /usr/local/lib/python3.10/dist-packages (from requests->transformers[torch]) (3.7)\n",
            "Requirement already satisfied: urllib3<3,>=1.21.1 in /usr/local/lib/python3.10/dist-packages (from requests->transformers[torch]) (2.0.7)\n",
            "Requirement already satisfied: certifi>=2017.4.17 in /usr/local/lib/python3.10/dist-packages (from requests->transformers[torch]) (2024.2.2)\n",
            "Requirement already satisfied: sympy in /usr/local/lib/python3.10/dist-packages (from torch->transformers[torch]) (1.12)\n",
            "Requirement already satisfied: networkx in /usr/local/lib/python3.10/dist-packages (from torch->transformers[torch]) (3.3)\n",
            "Requirement already satisfied: jinja2 in /usr/local/lib/python3.10/dist-packages (from torch->transformers[torch]) (3.1.4)\n",
            "Requirement already satisfied: nvidia-cuda-nvrtc-cu12==12.1.105 in /usr/local/lib/python3.10/dist-packages (from torch->transformers[torch]) (12.1.105)\n",
            "Requirement already satisfied: nvidia-cuda-runtime-cu12==12.1.105 in /usr/local/lib/python3.10/dist-packages (from torch->transformers[torch]) (12.1.105)\n",
            "Requirement already satisfied: nvidia-cuda-cupti-cu12==12.1.105 in /usr/local/lib/python3.10/dist-packages (from torch->transformers[torch]) (12.1.105)\n",
            "Requirement already satisfied: nvidia-cudnn-cu12==8.9.2.26 in /usr/local/lib/python3.10/dist-packages (from torch->transformers[torch]) (8.9.2.26)\n",
            "Requirement already satisfied: nvidia-cublas-cu12==12.1.3.1 in /usr/local/lib/python3.10/dist-packages (from torch->transformers[torch]) (12.1.3.1)\n",
            "Requirement already satisfied: nvidia-cufft-cu12==11.0.2.54 in /usr/local/lib/python3.10/dist-packages (from torch->transformers[torch]) (11.0.2.54)\n",
            "Requirement already satisfied: nvidia-curand-cu12==10.3.2.106 in /usr/local/lib/python3.10/dist-packages (from torch->transformers[torch]) (10.3.2.106)\n",
            "Requirement already satisfied: nvidia-cusolver-cu12==11.4.5.107 in /usr/local/lib/python3.10/dist-packages (from torch->transformers[torch]) (11.4.5.107)\n",
            "Requirement already satisfied: nvidia-cusparse-cu12==12.1.0.106 in /usr/local/lib/python3.10/dist-packages (from torch->transformers[torch]) (12.1.0.106)\n",
            "Requirement already satisfied: nvidia-nccl-cu12==2.19.3 in /usr/local/lib/python3.10/dist-packages (from torch->transformers[torch]) (2.19.3)\n",
            "Requirement already satisfied: nvidia-nvtx-cu12==12.1.105 in /usr/local/lib/python3.10/dist-packages (from torch->transformers[torch]) (12.1.105)\n",
            "Requirement already satisfied: triton==2.2.0 in /usr/local/lib/python3.10/dist-packages (from torch->transformers[torch]) (2.2.0)\n",
            "Requirement already satisfied: nvidia-nvjitlink-cu12 in /usr/local/lib/python3.10/dist-packages (from nvidia-cusolver-cu12==11.4.5.107->torch->transformers[torch]) (12.4.127)\n",
            "Requirement already satisfied: python-dateutil>=2.8.2 in /usr/local/lib/python3.10/dist-packages (from pandas->datasets) (2.8.2)\n",
            "Requirement already satisfied: pytz>=2020.1 in /usr/local/lib/python3.10/dist-packages (from pandas->datasets) (2023.4)\n",
            "Requirement already satisfied: tzdata>=2022.1 in /usr/local/lib/python3.10/dist-packages (from pandas->datasets) (2024.1)\n",
            "Requirement already satisfied: six>=1.5 in /usr/local/lib/python3.10/dist-packages (from python-dateutil>=2.8.2->pandas->datasets) (1.16.0)\n",
            "Requirement already satisfied: MarkupSafe>=2.0 in /usr/local/lib/python3.10/dist-packages (from jinja2->torch->transformers[torch]) (2.1.5)\n",
            "Requirement already satisfied: mpmath>=0.19 in /usr/local/lib/python3.10/dist-packages (from sympy->torch->transformers[torch]) (1.3.0)\n",
            "Requirement already satisfied: evaluate in /usr/local/lib/python3.10/dist-packages (0.4.2)\n",
            "Requirement already satisfied: datasets>=2.0.0 in /usr/local/lib/python3.10/dist-packages (from evaluate) (2.19.1)\n",
            "Requirement already satisfied: numpy>=1.17 in /usr/local/lib/python3.10/dist-packages (from evaluate) (1.25.2)\n",
            "Requirement already satisfied: dill in /usr/local/lib/python3.10/dist-packages (from evaluate) (0.3.8)\n",
            "Requirement already satisfied: pandas in /usr/local/lib/python3.10/dist-packages (from evaluate) (2.0.3)\n",
            "Requirement already satisfied: requests>=2.19.0 in /usr/local/lib/python3.10/dist-packages (from evaluate) (2.31.0)\n",
            "Requirement already satisfied: tqdm>=4.62.1 in /usr/local/lib/python3.10/dist-packages (from evaluate) (4.66.4)\n",
            "Requirement already satisfied: xxhash in /usr/local/lib/python3.10/dist-packages (from evaluate) (3.4.1)\n",
            "Requirement already satisfied: multiprocess in /usr/local/lib/python3.10/dist-packages (from evaluate) (0.70.16)\n",
            "Requirement already satisfied: fsspec[http]>=2021.05.0 in /usr/local/lib/python3.10/dist-packages (from evaluate) (2023.6.0)\n",
            "Requirement already satisfied: huggingface-hub>=0.7.0 in /usr/local/lib/python3.10/dist-packages (from evaluate) (0.23.0)\n",
            "Requirement already satisfied: packaging in /usr/local/lib/python3.10/dist-packages (from evaluate) (24.0)\n",
            "Requirement already satisfied: filelock in /usr/local/lib/python3.10/dist-packages (from datasets>=2.0.0->evaluate) (3.14.0)\n",
            "Requirement already satisfied: pyarrow>=12.0.0 in /usr/local/lib/python3.10/dist-packages (from datasets>=2.0.0->evaluate) (14.0.2)\n",
            "Requirement already satisfied: pyarrow-hotfix in /usr/local/lib/python3.10/dist-packages (from datasets>=2.0.0->evaluate) (0.6)\n",
            "Requirement already satisfied: aiohttp in /usr/local/lib/python3.10/dist-packages (from datasets>=2.0.0->evaluate) (3.9.5)\n",
            "Requirement already satisfied: pyyaml>=5.1 in /usr/local/lib/python3.10/dist-packages (from datasets>=2.0.0->evaluate) (6.0.1)\n",
            "Requirement already satisfied: typing-extensions>=3.7.4.3 in /usr/local/lib/python3.10/dist-packages (from huggingface-hub>=0.7.0->evaluate) (4.11.0)\n",
            "Requirement already satisfied: charset-normalizer<4,>=2 in /usr/local/lib/python3.10/dist-packages (from requests>=2.19.0->evaluate) (3.3.2)\n",
            "Requirement already satisfied: idna<4,>=2.5 in /usr/local/lib/python3.10/dist-packages (from requests>=2.19.0->evaluate) (3.7)\n",
            "Requirement already satisfied: urllib3<3,>=1.21.1 in /usr/local/lib/python3.10/dist-packages (from requests>=2.19.0->evaluate) (2.0.7)\n",
            "Requirement already satisfied: certifi>=2017.4.17 in /usr/local/lib/python3.10/dist-packages (from requests>=2.19.0->evaluate) (2024.2.2)\n",
            "Requirement already satisfied: python-dateutil>=2.8.2 in /usr/local/lib/python3.10/dist-packages (from pandas->evaluate) (2.8.2)\n",
            "Requirement already satisfied: pytz>=2020.1 in /usr/local/lib/python3.10/dist-packages (from pandas->evaluate) (2023.4)\n",
            "Requirement already satisfied: tzdata>=2022.1 in /usr/local/lib/python3.10/dist-packages (from pandas->evaluate) (2024.1)\n",
            "Requirement already satisfied: aiosignal>=1.1.2 in /usr/local/lib/python3.10/dist-packages (from aiohttp->datasets>=2.0.0->evaluate) (1.3.1)\n",
            "Requirement already satisfied: attrs>=17.3.0 in /usr/local/lib/python3.10/dist-packages (from aiohttp->datasets>=2.0.0->evaluate) (23.2.0)\n",
            "Requirement already satisfied: frozenlist>=1.1.1 in /usr/local/lib/python3.10/dist-packages (from aiohttp->datasets>=2.0.0->evaluate) (1.4.1)\n",
            "Requirement already satisfied: multidict<7.0,>=4.5 in /usr/local/lib/python3.10/dist-packages (from aiohttp->datasets>=2.0.0->evaluate) (6.0.5)\n",
            "Requirement already satisfied: yarl<2.0,>=1.0 in /usr/local/lib/python3.10/dist-packages (from aiohttp->datasets>=2.0.0->evaluate) (1.9.4)\n",
            "Requirement already satisfied: async-timeout<5.0,>=4.0 in /usr/local/lib/python3.10/dist-packages (from aiohttp->datasets>=2.0.0->evaluate) (4.0.3)\n",
            "Requirement already satisfied: six>=1.5 in /usr/local/lib/python3.10/dist-packages (from python-dateutil>=2.8.2->pandas->evaluate) (1.16.0)\n",
            "Requirement already satisfied: rouge_score in /usr/local/lib/python3.10/dist-packages (0.1.2)\n",
            "Requirement already satisfied: absl-py in /usr/local/lib/python3.10/dist-packages (from rouge_score) (1.4.0)\n",
            "Requirement already satisfied: nltk in /usr/local/lib/python3.10/dist-packages (from rouge_score) (3.8.1)\n",
            "Requirement already satisfied: numpy in /usr/local/lib/python3.10/dist-packages (from rouge_score) (1.25.2)\n",
            "Requirement already satisfied: six>=1.14.0 in /usr/local/lib/python3.10/dist-packages (from rouge_score) (1.16.0)\n",
            "Requirement already satisfied: click in /usr/local/lib/python3.10/dist-packages (from nltk->rouge_score) (8.1.7)\n",
            "Requirement already satisfied: joblib in /usr/local/lib/python3.10/dist-packages (from nltk->rouge_score) (1.4.2)\n",
            "Requirement already satisfied: regex>=2021.8.3 in /usr/local/lib/python3.10/dist-packages (from nltk->rouge_score) (2023.12.25)\n",
            "Requirement already satisfied: tqdm in /usr/local/lib/python3.10/dist-packages (from nltk->rouge_score) (4.66.4)\n"
          ]
        }
      ],
      "source": [
        "!pip install transformers[torch] datasets\n",
        "!pip install evaluate\n",
        "!pip install rouge_score"
      ]
    },
    {
      "cell_type": "code",
      "execution_count": null,
      "metadata": {
        "id": "sPpR6odpeZU4"
      },
      "outputs": [],
      "source": [
        "from transformers import MT5ForConditionalGeneration, MT5Tokenizer, Seq2SeqTrainingArguments, Seq2SeqTrainer\n",
        "from datasets import Dataset\n",
        "import evaluate\n",
        "import torch\n",
        "# import nltk\n",
        "import pandas as pd"
      ]
    },
    {
      "cell_type": "code",
      "execution_count": null,
      "metadata": {
        "id": "63RbxW-xUVJn"
      },
      "outputs": [],
      "source": [
        "# nltk.download('punkt')"
      ]
    },
    {
      "cell_type": "code",
      "execution_count": null,
      "metadata": {
        "colab": {
          "base_uri": "https://localhost:8080/"
        },
        "id": "1Godiy1HedGO",
        "outputId": "b1e21ea9-1b26-4030-fddf-ac7e2a6951f4"
      },
      "outputs": [
        {
          "output_type": "stream",
          "name": "stderr",
          "text": [
            "/usr/local/lib/python3.10/dist-packages/huggingface_hub/file_download.py:1132: FutureWarning: `resume_download` is deprecated and will be removed in version 1.0.0. Downloads always resume when possible. If you want to force a new download, use `force_download=True`.\n",
            "  warnings.warn(\n",
            "/usr/local/lib/python3.10/dist-packages/huggingface_hub/utils/_token.py:89: UserWarning: \n",
            "The secret `HF_TOKEN` does not exist in your Colab secrets.\n",
            "To authenticate with the Hugging Face Hub, create a token in your settings tab (https://huggingface.co/settings/tokens), set it as secret in your Google Colab and restart your session.\n",
            "You will be able to reuse this secret in all of your notebooks.\n",
            "Please note that authentication is recommended but still optional to access public models or datasets.\n",
            "  warnings.warn(\n",
            "You are using the default legacy behaviour of the <class 'transformers.models.t5.tokenization_t5.T5Tokenizer'>. This is expected, and simply means that the `legacy` (previous) behavior will be used so nothing changes for you. If you want to use the new behaviour, set `legacy=False`. This should only be set if you understand what it means, and thoroughly read the reason why this was added as explained in https://github.com/huggingface/transformers/pull/24565\n"
          ]
        }
      ],
      "source": [
        "model_name = \"google/mt5-base\"\n",
        "tokenizer = MT5Tokenizer.from_pretrained(model_name)\n",
        "model = MT5ForConditionalGeneration.from_pretrained(model_name)"
      ]
    },
    {
      "cell_type": "code",
      "execution_count": null,
      "metadata": {
        "id": "oXQQL9TIe1UF"
      },
      "outputs": [],
      "source": [
        "df = pd.read_csv(\"ikonrecent.csv\")"
      ]
    },
    {
      "cell_type": "code",
      "source": [
        "df"
      ],
      "metadata": {
        "colab": {
          "base_uri": "https://localhost:8080/",
          "height": 676
        },
        "id": "rOELXnmbsd0R",
        "outputId": "e96cf0f6-e871-47f4-9052-aea5ef9e8341"
      },
      "execution_count": null,
      "outputs": [
        {
          "output_type": "execute_result",
          "data": {
            "text/plain": [
              "    Unnamed: 0             article url  \\\n",
              "0            0  https://ikon.mn/n/354p   \n",
              "1            1  https://ikon.mn/n/354o   \n",
              "2            2  https://ikon.mn/n/354k   \n",
              "3            3  https://ikon.mn/n/354m   \n",
              "4            4  https://ikon.mn/n/354h   \n",
              "5            5  https://ikon.mn/n/354e   \n",
              "6            6  https://ikon.mn/n/354l   \n",
              "7            7  https://ikon.mn/n/354j   \n",
              "8            8  https://ikon.mn/n/354i   \n",
              "9            9  https://ikon.mn/n/354g   \n",
              "10          10  https://ikon.mn/n/3539   \n",
              "11          11  https://ikon.mn/n/354f   \n",
              "12          12  https://ikon.mn/n/354d   \n",
              "13          13  https://ikon.mn/n/354c   \n",
              "14          14  https://ikon.mn/n/354a   \n",
              "15          15  https://ikon.mn/n/354b   \n",
              "16          16  https://ikon.mn/n/3549   \n",
              "17          17  https://ikon.mn/n/3548   \n",
              "18          18  https://ikon.mn/n/3546   \n",
              "19          19  https://ikon.mn/n/3545   \n",
              "\n",
              "                                                title  \\\n",
              "0   Өнгөрсөн сард улсын хэмжээнд 10.5 сая тонн ача...   \n",
              "1   Шатахуун түгээхийн болон түргэн тусламжийн маш...   \n",
              "2   Монголын хөлбөмбөгийн шигшээ баг Азийн АШТ-ий ...   \n",
              "3   Цэцэг төвийн уулзварын зам засварын ажил марга...   \n",
              "4   \"Монголбанкны эх үүсвэрээр орон сууц авч буй и...   \n",
              "5   \"207-р байрны галд өртсөн найман хувийг засуул...   \n",
              "6   “Grow with Google Mongolia” хөтөлбөрийн дэмжиг...   \n",
              "7   Хуримтлалын сангийн дансанд өнөөдөр Эрдэнэт, О...   \n",
              "8   Буудлагын Дэлхийн цомын тэмцээнд О.Есүгэн найм...   \n",
              "9   Бороотой үеэр Сүхбаатар дүүргийн ногоон байгуу...   \n",
              "10  ЭМГЭНЭЛ: Лувсанцэрэнгийн Чулуунбаатар (1939-2024)   \n",
              "11  Манай улс энэ оны эхний дөрвөн сард 10 сая шир...   \n",
              "12   Бороо орох үед замын түгжрэл яагаад нэмэгддэг вэ   \n",
              "13  Яллагдагч Р.Базарт авсан цагдан хорих таслан с...   \n",
              "14  Б.Ганбат: Нарны замын өнгөт тэмдэглэгээ бороон...   \n",
              "15  Б.Баярмагнай: Мөнгөтэй нь цэргийн албанаас чөл...   \n",
              "16  Тавдугаар сарын 11-нд БҮХ НИЙТЭЭР МОД ТАРИХ өд...   \n",
              "17  Ц.Гантулга: МАНАН-гийн эсрэг гэчхээд буцаад МА...   \n",
              "18  Г.Дамдинням: Англи хэлийг бага ангиас нь заасн...   \n",
              "19  ФОТО: Нийслэлийн 2023 оны \"ШИЛДЭГ ТАТВАР ТӨЛӨГ...   \n",
              "\n",
              "                                              article  \n",
              "0   Зам тээврийн салбар энэ оны дөрөвдүгээр сард у...  \n",
              "1   Хан-Уул дүүргийн нутаг дэвсгэрт шатахуун түгээ...  \n",
              "2   2027 онд Саудын Араб улсад зохион байгуулагдах...  \n",
              "3   Цэцэг төвийн уулзвараас Цаг уур, орчны шинжилг...  \n",
              "4   Ипотекийн зээлийн үндсэн шалгуур болон зээл ол...  \n",
              "5   Газын дэлбэрэлтэд өртсөн 207 дугаар байрны орш...  \n",
              "6   Монгол Улсад анх удаа хэрэгжүүлж буй “Grow wit...  \n",
              "7   Үндэсний баялгийн сангийн тухай хууль хэрэгжиж...  \n",
              "8   Азербайжаны нийслэл Баку хотноо буудлагын Дэлх...  \n",
              "9   Өнөөдөр өглөө бороотой байсан ч Сүхбаатар дүүр...  \n",
              "10  Лувсанцэрэнгийн Чулуунбаатар(1939-2024)Бидний ...  \n",
              "11  Монгол Улс 2024 оны эхний дөрвөн сард нийт 3.4...  \n",
              "12  Замын хөдөлгөөнд оролцож байгаа жолооч нар бор...  \n",
              "13  Баянгол дүүргийн Эрүүгийн хэргийн анхан шатны ...  \n",
              "14  Нарны замын зорчих хэсгийн асфальт бетон хучил...  \n",
              "15  2024 оны нэгдүгээр ээлжийн цэрэг татлага нийсл...  \n",
              "16  “Тэрбум мод” үндэсний хөдөлгөөний хүрээнд зохи...  \n",
              "17  УИХ-ын гишүүн асан Ж.Батзандан ШИНЭ намаас гар...  \n",
              "18  УИХ-ын гишүүн Г.Дамдинням Төв аймгийн Цээл, Уг...  \n",
              "19  Тавдугаар сарын хоёр дахь долоо хоногийг “Татв...  "
            ],
            "text/html": [
              "\n",
              "  <div id=\"df-022e0027-9ea1-4bae-92de-a55e27d7d9fa\" class=\"colab-df-container\">\n",
              "    <div>\n",
              "<style scoped>\n",
              "    .dataframe tbody tr th:only-of-type {\n",
              "        vertical-align: middle;\n",
              "    }\n",
              "\n",
              "    .dataframe tbody tr th {\n",
              "        vertical-align: top;\n",
              "    }\n",
              "\n",
              "    .dataframe thead th {\n",
              "        text-align: right;\n",
              "    }\n",
              "</style>\n",
              "<table border=\"1\" class=\"dataframe\">\n",
              "  <thead>\n",
              "    <tr style=\"text-align: right;\">\n",
              "      <th></th>\n",
              "      <th>Unnamed: 0</th>\n",
              "      <th>article url</th>\n",
              "      <th>title</th>\n",
              "      <th>article</th>\n",
              "    </tr>\n",
              "  </thead>\n",
              "  <tbody>\n",
              "    <tr>\n",
              "      <th>0</th>\n",
              "      <td>0</td>\n",
              "      <td>https://ikon.mn/n/354p</td>\n",
              "      <td>Өнгөрсөн сард улсын хэмжээнд 10.5 сая тонн ача...</td>\n",
              "      <td>Зам тээврийн салбар энэ оны дөрөвдүгээр сард у...</td>\n",
              "    </tr>\n",
              "    <tr>\n",
              "      <th>1</th>\n",
              "      <td>1</td>\n",
              "      <td>https://ikon.mn/n/354o</td>\n",
              "      <td>Шатахуун түгээхийн болон түргэн тусламжийн маш...</td>\n",
              "      <td>Хан-Уул дүүргийн нутаг дэвсгэрт шатахуун түгээ...</td>\n",
              "    </tr>\n",
              "    <tr>\n",
              "      <th>2</th>\n",
              "      <td>2</td>\n",
              "      <td>https://ikon.mn/n/354k</td>\n",
              "      <td>Монголын хөлбөмбөгийн шигшээ баг Азийн АШТ-ий ...</td>\n",
              "      <td>2027 онд Саудын Араб улсад зохион байгуулагдах...</td>\n",
              "    </tr>\n",
              "    <tr>\n",
              "      <th>3</th>\n",
              "      <td>3</td>\n",
              "      <td>https://ikon.mn/n/354m</td>\n",
              "      <td>Цэцэг төвийн уулзварын зам засварын ажил марга...</td>\n",
              "      <td>Цэцэг төвийн уулзвараас Цаг уур, орчны шинжилг...</td>\n",
              "    </tr>\n",
              "    <tr>\n",
              "      <th>4</th>\n",
              "      <td>4</td>\n",
              "      <td>https://ikon.mn/n/354h</td>\n",
              "      <td>\"Монголбанкны эх үүсвэрээр орон сууц авч буй и...</td>\n",
              "      <td>Ипотекийн зээлийн үндсэн шалгуур болон зээл ол...</td>\n",
              "    </tr>\n",
              "    <tr>\n",
              "      <th>5</th>\n",
              "      <td>5</td>\n",
              "      <td>https://ikon.mn/n/354e</td>\n",
              "      <td>\"207-р байрны галд өртсөн найман хувийг засуул...</td>\n",
              "      <td>Газын дэлбэрэлтэд өртсөн 207 дугаар байрны орш...</td>\n",
              "    </tr>\n",
              "    <tr>\n",
              "      <th>6</th>\n",
              "      <td>6</td>\n",
              "      <td>https://ikon.mn/n/354l</td>\n",
              "      <td>“Grow with Google Mongolia” хөтөлбөрийн дэмжиг...</td>\n",
              "      <td>Монгол Улсад анх удаа хэрэгжүүлж буй “Grow wit...</td>\n",
              "    </tr>\n",
              "    <tr>\n",
              "      <th>7</th>\n",
              "      <td>7</td>\n",
              "      <td>https://ikon.mn/n/354j</td>\n",
              "      <td>Хуримтлалын сангийн дансанд өнөөдөр Эрдэнэт, О...</td>\n",
              "      <td>Үндэсний баялгийн сангийн тухай хууль хэрэгжиж...</td>\n",
              "    </tr>\n",
              "    <tr>\n",
              "      <th>8</th>\n",
              "      <td>8</td>\n",
              "      <td>https://ikon.mn/n/354i</td>\n",
              "      <td>Буудлагын Дэлхийн цомын тэмцээнд О.Есүгэн найм...</td>\n",
              "      <td>Азербайжаны нийслэл Баку хотноо буудлагын Дэлх...</td>\n",
              "    </tr>\n",
              "    <tr>\n",
              "      <th>9</th>\n",
              "      <td>9</td>\n",
              "      <td>https://ikon.mn/n/354g</td>\n",
              "      <td>Бороотой үеэр Сүхбаатар дүүргийн ногоон байгуу...</td>\n",
              "      <td>Өнөөдөр өглөө бороотой байсан ч Сүхбаатар дүүр...</td>\n",
              "    </tr>\n",
              "    <tr>\n",
              "      <th>10</th>\n",
              "      <td>10</td>\n",
              "      <td>https://ikon.mn/n/3539</td>\n",
              "      <td>ЭМГЭНЭЛ: Лувсанцэрэнгийн Чулуунбаатар (1939-2024)</td>\n",
              "      <td>Лувсанцэрэнгийн Чулуунбаатар(1939-2024)Бидний ...</td>\n",
              "    </tr>\n",
              "    <tr>\n",
              "      <th>11</th>\n",
              "      <td>11</td>\n",
              "      <td>https://ikon.mn/n/354f</td>\n",
              "      <td>Манай улс энэ оны эхний дөрвөн сард 10 сая шир...</td>\n",
              "      <td>Монгол Улс 2024 оны эхний дөрвөн сард нийт 3.4...</td>\n",
              "    </tr>\n",
              "    <tr>\n",
              "      <th>12</th>\n",
              "      <td>12</td>\n",
              "      <td>https://ikon.mn/n/354d</td>\n",
              "      <td>Бороо орох үед замын түгжрэл яагаад нэмэгддэг вэ</td>\n",
              "      <td>Замын хөдөлгөөнд оролцож байгаа жолооч нар бор...</td>\n",
              "    </tr>\n",
              "    <tr>\n",
              "      <th>13</th>\n",
              "      <td>13</td>\n",
              "      <td>https://ikon.mn/n/354c</td>\n",
              "      <td>Яллагдагч Р.Базарт авсан цагдан хорих таслан с...</td>\n",
              "      <td>Баянгол дүүргийн Эрүүгийн хэргийн анхан шатны ...</td>\n",
              "    </tr>\n",
              "    <tr>\n",
              "      <th>14</th>\n",
              "      <td>14</td>\n",
              "      <td>https://ikon.mn/n/354a</td>\n",
              "      <td>Б.Ганбат: Нарны замын өнгөт тэмдэглэгээ бороон...</td>\n",
              "      <td>Нарны замын зорчих хэсгийн асфальт бетон хучил...</td>\n",
              "    </tr>\n",
              "    <tr>\n",
              "      <th>15</th>\n",
              "      <td>15</td>\n",
              "      <td>https://ikon.mn/n/354b</td>\n",
              "      <td>Б.Баярмагнай: Мөнгөтэй нь цэргийн албанаас чөл...</td>\n",
              "      <td>2024 оны нэгдүгээр ээлжийн цэрэг татлага нийсл...</td>\n",
              "    </tr>\n",
              "    <tr>\n",
              "      <th>16</th>\n",
              "      <td>16</td>\n",
              "      <td>https://ikon.mn/n/3549</td>\n",
              "      <td>Тавдугаар сарын 11-нд БҮХ НИЙТЭЭР МОД ТАРИХ өд...</td>\n",
              "      <td>“Тэрбум мод” үндэсний хөдөлгөөний хүрээнд зохи...</td>\n",
              "    </tr>\n",
              "    <tr>\n",
              "      <th>17</th>\n",
              "      <td>17</td>\n",
              "      <td>https://ikon.mn/n/3548</td>\n",
              "      <td>Ц.Гантулга: МАНАН-гийн эсрэг гэчхээд буцаад МА...</td>\n",
              "      <td>УИХ-ын гишүүн асан Ж.Батзандан ШИНЭ намаас гар...</td>\n",
              "    </tr>\n",
              "    <tr>\n",
              "      <th>18</th>\n",
              "      <td>18</td>\n",
              "      <td>https://ikon.mn/n/3546</td>\n",
              "      <td>Г.Дамдинням: Англи хэлийг бага ангиас нь заасн...</td>\n",
              "      <td>УИХ-ын гишүүн Г.Дамдинням Төв аймгийн Цээл, Уг...</td>\n",
              "    </tr>\n",
              "    <tr>\n",
              "      <th>19</th>\n",
              "      <td>19</td>\n",
              "      <td>https://ikon.mn/n/3545</td>\n",
              "      <td>ФОТО: Нийслэлийн 2023 оны \"ШИЛДЭГ ТАТВАР ТӨЛӨГ...</td>\n",
              "      <td>Тавдугаар сарын хоёр дахь долоо хоногийг “Татв...</td>\n",
              "    </tr>\n",
              "  </tbody>\n",
              "</table>\n",
              "</div>\n",
              "    <div class=\"colab-df-buttons\">\n",
              "\n",
              "  <div class=\"colab-df-container\">\n",
              "    <button class=\"colab-df-convert\" onclick=\"convertToInteractive('df-022e0027-9ea1-4bae-92de-a55e27d7d9fa')\"\n",
              "            title=\"Convert this dataframe to an interactive table.\"\n",
              "            style=\"display:none;\">\n",
              "\n",
              "  <svg xmlns=\"http://www.w3.org/2000/svg\" height=\"24px\" viewBox=\"0 -960 960 960\">\n",
              "    <path d=\"M120-120v-720h720v720H120Zm60-500h600v-160H180v160Zm220 220h160v-160H400v160Zm0 220h160v-160H400v160ZM180-400h160v-160H180v160Zm440 0h160v-160H620v160ZM180-180h160v-160H180v160Zm440 0h160v-160H620v160Z\"/>\n",
              "  </svg>\n",
              "    </button>\n",
              "\n",
              "  <style>\n",
              "    .colab-df-container {\n",
              "      display:flex;\n",
              "      gap: 12px;\n",
              "    }\n",
              "\n",
              "    .colab-df-convert {\n",
              "      background-color: #E8F0FE;\n",
              "      border: none;\n",
              "      border-radius: 50%;\n",
              "      cursor: pointer;\n",
              "      display: none;\n",
              "      fill: #1967D2;\n",
              "      height: 32px;\n",
              "      padding: 0 0 0 0;\n",
              "      width: 32px;\n",
              "    }\n",
              "\n",
              "    .colab-df-convert:hover {\n",
              "      background-color: #E2EBFA;\n",
              "      box-shadow: 0px 1px 2px rgba(60, 64, 67, 0.3), 0px 1px 3px 1px rgba(60, 64, 67, 0.15);\n",
              "      fill: #174EA6;\n",
              "    }\n",
              "\n",
              "    .colab-df-buttons div {\n",
              "      margin-bottom: 4px;\n",
              "    }\n",
              "\n",
              "    [theme=dark] .colab-df-convert {\n",
              "      background-color: #3B4455;\n",
              "      fill: #D2E3FC;\n",
              "    }\n",
              "\n",
              "    [theme=dark] .colab-df-convert:hover {\n",
              "      background-color: #434B5C;\n",
              "      box-shadow: 0px 1px 3px 1px rgba(0, 0, 0, 0.15);\n",
              "      filter: drop-shadow(0px 1px 2px rgba(0, 0, 0, 0.3));\n",
              "      fill: #FFFFFF;\n",
              "    }\n",
              "  </style>\n",
              "\n",
              "    <script>\n",
              "      const buttonEl =\n",
              "        document.querySelector('#df-022e0027-9ea1-4bae-92de-a55e27d7d9fa button.colab-df-convert');\n",
              "      buttonEl.style.display =\n",
              "        google.colab.kernel.accessAllowed ? 'block' : 'none';\n",
              "\n",
              "      async function convertToInteractive(key) {\n",
              "        const element = document.querySelector('#df-022e0027-9ea1-4bae-92de-a55e27d7d9fa');\n",
              "        const dataTable =\n",
              "          await google.colab.kernel.invokeFunction('convertToInteractive',\n",
              "                                                    [key], {});\n",
              "        if (!dataTable) return;\n",
              "\n",
              "        const docLinkHtml = 'Like what you see? Visit the ' +\n",
              "          '<a target=\"_blank\" href=https://colab.research.google.com/notebooks/data_table.ipynb>data table notebook</a>'\n",
              "          + ' to learn more about interactive tables.';\n",
              "        element.innerHTML = '';\n",
              "        dataTable['output_type'] = 'display_data';\n",
              "        await google.colab.output.renderOutput(dataTable, element);\n",
              "        const docLink = document.createElement('div');\n",
              "        docLink.innerHTML = docLinkHtml;\n",
              "        element.appendChild(docLink);\n",
              "      }\n",
              "    </script>\n",
              "  </div>\n",
              "\n",
              "\n",
              "<div id=\"df-53131347-ce98-4d17-ac7d-b6d4de6f0986\">\n",
              "  <button class=\"colab-df-quickchart\" onclick=\"quickchart('df-53131347-ce98-4d17-ac7d-b6d4de6f0986')\"\n",
              "            title=\"Suggest charts\"\n",
              "            style=\"display:none;\">\n",
              "\n",
              "<svg xmlns=\"http://www.w3.org/2000/svg\" height=\"24px\"viewBox=\"0 0 24 24\"\n",
              "     width=\"24px\">\n",
              "    <g>\n",
              "        <path d=\"M19 3H5c-1.1 0-2 .9-2 2v14c0 1.1.9 2 2 2h14c1.1 0 2-.9 2-2V5c0-1.1-.9-2-2-2zM9 17H7v-7h2v7zm4 0h-2V7h2v10zm4 0h-2v-4h2v4z\"/>\n",
              "    </g>\n",
              "</svg>\n",
              "  </button>\n",
              "\n",
              "<style>\n",
              "  .colab-df-quickchart {\n",
              "      --bg-color: #E8F0FE;\n",
              "      --fill-color: #1967D2;\n",
              "      --hover-bg-color: #E2EBFA;\n",
              "      --hover-fill-color: #174EA6;\n",
              "      --disabled-fill-color: #AAA;\n",
              "      --disabled-bg-color: #DDD;\n",
              "  }\n",
              "\n",
              "  [theme=dark] .colab-df-quickchart {\n",
              "      --bg-color: #3B4455;\n",
              "      --fill-color: #D2E3FC;\n",
              "      --hover-bg-color: #434B5C;\n",
              "      --hover-fill-color: #FFFFFF;\n",
              "      --disabled-bg-color: #3B4455;\n",
              "      --disabled-fill-color: #666;\n",
              "  }\n",
              "\n",
              "  .colab-df-quickchart {\n",
              "    background-color: var(--bg-color);\n",
              "    border: none;\n",
              "    border-radius: 50%;\n",
              "    cursor: pointer;\n",
              "    display: none;\n",
              "    fill: var(--fill-color);\n",
              "    height: 32px;\n",
              "    padding: 0;\n",
              "    width: 32px;\n",
              "  }\n",
              "\n",
              "  .colab-df-quickchart:hover {\n",
              "    background-color: var(--hover-bg-color);\n",
              "    box-shadow: 0 1px 2px rgba(60, 64, 67, 0.3), 0 1px 3px 1px rgba(60, 64, 67, 0.15);\n",
              "    fill: var(--button-hover-fill-color);\n",
              "  }\n",
              "\n",
              "  .colab-df-quickchart-complete:disabled,\n",
              "  .colab-df-quickchart-complete:disabled:hover {\n",
              "    background-color: var(--disabled-bg-color);\n",
              "    fill: var(--disabled-fill-color);\n",
              "    box-shadow: none;\n",
              "  }\n",
              "\n",
              "  .colab-df-spinner {\n",
              "    border: 2px solid var(--fill-color);\n",
              "    border-color: transparent;\n",
              "    border-bottom-color: var(--fill-color);\n",
              "    animation:\n",
              "      spin 1s steps(1) infinite;\n",
              "  }\n",
              "\n",
              "  @keyframes spin {\n",
              "    0% {\n",
              "      border-color: transparent;\n",
              "      border-bottom-color: var(--fill-color);\n",
              "      border-left-color: var(--fill-color);\n",
              "    }\n",
              "    20% {\n",
              "      border-color: transparent;\n",
              "      border-left-color: var(--fill-color);\n",
              "      border-top-color: var(--fill-color);\n",
              "    }\n",
              "    30% {\n",
              "      border-color: transparent;\n",
              "      border-left-color: var(--fill-color);\n",
              "      border-top-color: var(--fill-color);\n",
              "      border-right-color: var(--fill-color);\n",
              "    }\n",
              "    40% {\n",
              "      border-color: transparent;\n",
              "      border-right-color: var(--fill-color);\n",
              "      border-top-color: var(--fill-color);\n",
              "    }\n",
              "    60% {\n",
              "      border-color: transparent;\n",
              "      border-right-color: var(--fill-color);\n",
              "    }\n",
              "    80% {\n",
              "      border-color: transparent;\n",
              "      border-right-color: var(--fill-color);\n",
              "      border-bottom-color: var(--fill-color);\n",
              "    }\n",
              "    90% {\n",
              "      border-color: transparent;\n",
              "      border-bottom-color: var(--fill-color);\n",
              "    }\n",
              "  }\n",
              "</style>\n",
              "\n",
              "  <script>\n",
              "    async function quickchart(key) {\n",
              "      const quickchartButtonEl =\n",
              "        document.querySelector('#' + key + ' button');\n",
              "      quickchartButtonEl.disabled = true;  // To prevent multiple clicks.\n",
              "      quickchartButtonEl.classList.add('colab-df-spinner');\n",
              "      try {\n",
              "        const charts = await google.colab.kernel.invokeFunction(\n",
              "            'suggestCharts', [key], {});\n",
              "      } catch (error) {\n",
              "        console.error('Error during call to suggestCharts:', error);\n",
              "      }\n",
              "      quickchartButtonEl.classList.remove('colab-df-spinner');\n",
              "      quickchartButtonEl.classList.add('colab-df-quickchart-complete');\n",
              "    }\n",
              "    (() => {\n",
              "      let quickchartButtonEl =\n",
              "        document.querySelector('#df-53131347-ce98-4d17-ac7d-b6d4de6f0986 button');\n",
              "      quickchartButtonEl.style.display =\n",
              "        google.colab.kernel.accessAllowed ? 'block' : 'none';\n",
              "    })();\n",
              "  </script>\n",
              "</div>\n",
              "    </div>\n",
              "  </div>\n"
            ],
            "application/vnd.google.colaboratory.intrinsic+json": {
              "type": "dataframe",
              "variable_name": "df",
              "summary": "{\n  \"name\": \"df\",\n  \"rows\": 20,\n  \"fields\": [\n    {\n      \"column\": \"Unnamed: 0\",\n      \"properties\": {\n        \"dtype\": \"number\",\n        \"std\": 5,\n        \"min\": 0,\n        \"max\": 19,\n        \"num_unique_values\": 20,\n        \"samples\": [\n          0,\n          17,\n          15\n        ],\n        \"semantic_type\": \"\",\n        \"description\": \"\"\n      }\n    },\n    {\n      \"column\": \"article url\",\n      \"properties\": {\n        \"dtype\": \"string\",\n        \"num_unique_values\": 20,\n        \"samples\": [\n          \"https://ikon.mn/n/354p\",\n          \"https://ikon.mn/n/3548\",\n          \"https://ikon.mn/n/354b\"\n        ],\n        \"semantic_type\": \"\",\n        \"description\": \"\"\n      }\n    },\n    {\n      \"column\": \"title\",\n      \"properties\": {\n        \"dtype\": \"string\",\n        \"num_unique_values\": 20,\n        \"samples\": [\n          \"\\u04e8\\u043d\\u0433\\u04e9\\u0440\\u0441\\u04e9\\u043d \\u0441\\u0430\\u0440\\u0434 \\u0443\\u043b\\u0441\\u044b\\u043d \\u0445\\u044d\\u043c\\u0436\\u044d\\u044d\\u043d\\u0434 10.5 \\u0441\\u0430\\u044f \\u0442\\u043e\\u043d\\u043d \\u0430\\u0447\\u0430\\u0430 \\u0442\\u044d\\u044d\\u0432\\u044d\\u0440\\u043b\\u044d\\u0441\\u044d\\u043d \\u043d\\u044c \\u04e9\\u043c\\u043d\\u04e9\\u0445 \\u043e\\u043d\\u044b \\u043c\\u04e9\\u043d \\u04af\\u0435\\u044d\\u0441 26%-\\u0430\\u0430\\u0440 \\u04e9\\u0441\\u0441\\u04e9\\u043d \\u04af\\u0437\\u04af\\u04af\\u043b\\u044d\\u043b\\u0442\",\n          \"\\u0426.\\u0413\\u0430\\u043d\\u0442\\u0443\\u043b\\u0433\\u0430: \\u041c\\u0410\\u041d\\u0410\\u041d-\\u0433\\u0438\\u0439\\u043d \\u044d\\u0441\\u0440\\u044d\\u0433 \\u0433\\u044d\\u0447\\u0445\\u044d\\u044d\\u0434 \\u0431\\u0443\\u0446\\u0430\\u0430\\u0434 \\u041c\\u0410\\u041d\\u0410\\u041d-\\u0442\\u0430\\u0439 \\u043d\\u044d\\u0433\\u0434\\u044d\\u0436 \\u0431\\u0430\\u0439\\u0433\\u0430\\u0430 \\u0445\\u04af\\u043c\\u04af\\u04af\\u0441\\u0442\\u044d\\u0439 \\u0431\\u0438\\u0434 \\u0430\\u0433\\u0430\\u0430\\u0440 \\u0445\\u0443\\u0432\\u0430\\u0430\\u043b\\u0446\\u0430\\u0445 \\u0431\\u043e\\u043b\\u043e\\u043c\\u0436\\u0433\\u04af\\u0439\",\n          \"\\u0411.\\u0411\\u0430\\u044f\\u0440\\u043c\\u0430\\u0433\\u043d\\u0430\\u0439: \\u041c\\u04e9\\u043d\\u0433\\u04e9\\u0442\\u044d\\u0439 \\u043d\\u044c \\u0446\\u044d\\u0440\\u0433\\u0438\\u0439\\u043d \\u0430\\u043b\\u0431\\u0430\\u043d\\u0430\\u0430\\u0441 \\u0447\\u04e9\\u043b\\u04e9\\u04e9\\u043b\\u04e9\\u0433\\u0434\\u0434\\u04e9\\u0433, \\u043c\\u04e9\\u043d\\u0433\\u04e9\\u0433\\u04af\\u0439 \\u043d\\u044c \\u0442\\u0430\\u0442\\u0430\\u0433\\u0434\\u0434\\u0430\\u0433 \\u0445\\u044d\\u043b\\u0431\\u044d\\u0440\\u0438\\u0439\\u0433 \\u0445\\u0430\\u043b\\u043d\\u0430\"\n        ],\n        \"semantic_type\": \"\",\n        \"description\": \"\"\n      }\n    },\n    {\n      \"column\": \"article\",\n      \"properties\": {\n        \"dtype\": \"string\",\n        \"num_unique_values\": 20,\n        \"samples\": [\n          \"\\u0417\\u0430\\u043c \\u0442\\u044d\\u044d\\u0432\\u0440\\u0438\\u0439\\u043d \\u0441\\u0430\\u043b\\u0431\\u0430\\u0440 \\u044d\\u043d\\u044d \\u043e\\u043d\\u044b \\u0434\\u04e9\\u0440\\u04e9\\u0432\\u0434\\u04af\\u0433\\u044d\\u044d\\u0440 \\u0441\\u0430\\u0440\\u0434 \\u0443\\u043b\\u0441\\u044b\\u043d \\u0445\\u044d\\u043c\\u0436\\u044d\\u044d\\u043d\\u0434 \\u0431\\u04af\\u0445 \\u0442\\u04e9\\u0440\\u043b\\u0438\\u0439\\u043d \\u0442\\u044d\\u044d\\u0432\\u0440\\u044d\\u044d\\u0440 10.5 \\u0441\\u0430\\u044f \\u0442\\u043e\\u043d\\u043d \\u0430\\u0447\\u0430\\u0430 \\u0442\\u044d\\u044d\\u0432\\u044d\\u0440\\u043b\\u044d\\u0441\\u044d\\u043d \\u0442\\u0430\\u043b\\u0430\\u0430\\u0440\\u0417\\u0430\\u043c, \\u0422\\u044d\\u044d\\u0432\\u0440\\u0438\\u0439\\u043d \\u0425\\u04e9\\u0433\\u0436\\u043b\\u0438\\u0439\\u043d \\u042f\\u0430\\u043c\\u043d\\u0430\\u0430\\u0441 \\u043c\\u044d\\u0434\\u044d\\u044d\\u043b\\u043b\\u044d\\u044d.\\u042d\\u043d\\u044d \\u043d\\u044c \\u04e9\\u043c\\u043d\\u04e9\\u0445 \\u043e\\u043d\\u044b \\u043c\\u04e9\\u043d \\u04af\\u0435\\u044d\\u0441 25.7%-\\u0430\\u0430\\u0440 \\u04e9\\u0441\\u0441\\u04e9\\u043d \\u0431\\u0430\\u0439\\u043d\\u0430. \\u0425\\u0430\\u0440\\u0438\\u043d \\u04e9\\u0441\\u0441\\u04e9\\u043d \\u0434\\u04af\\u043d\\u0433\\u044d\\u044d\\u0440 \\u0431\\u0443\\u044e\\u0443 \\u044d\\u0445\\u043d\\u0438\\u0439 \\u0434\\u04e9\\u0440\\u0432\\u04e9\\u043d \\u0441\\u0430\\u0440\\u0434 38.9 \\u0441\\u0430\\u044f \\u0442\\u043e\\u043d\\u043d \\u0430\\u0447\\u0430\\u0430 \\u0442\\u044d\\u044d\\u0441\\u044d\\u043d \\u043d\\u044c \\u04e9\\u043c\\u043d\\u04e9\\u0445 \\u043e\\u043d\\u0442\\u043e\\u0439 \\u0445\\u0430\\u0440\\u044c\\u0446\\u0443\\u0443\\u043b\\u0430\\u0445\\u0430\\u0434 20.9%-\\u0430\\u0430\\u0440 \\u043d\\u044d\\u043c\\u044d\\u0433\\u0434\\u0436\\u044d\\u044d.\\u0411\\u04af\\u0445 \\u0442\\u04e9\\u0440\\u043b\\u0438\\u0439\\u043d \\u0442\\u044d\\u044d\\u0432\\u0440\\u044d\\u044d\\u0440 2024 \\u043e\\u043d\\u044b \\u0434\\u04e9\\u0440\\u04e9\\u0432\\u0434\\u04af\\u0433\\u044d\\u044d\\u0440 \\u0441\\u0430\\u0440\\u0434 14.2 \\u0441\\u0430\\u044f \\u0437\\u043e\\u0440\\u0447\\u0438\\u0433\\u0447 (\\u0434\\u0430\\u0432\\u0445\\u0430\\u0440\\u0434\\u0441\\u0430\\u043d \\u0442\\u043e\\u043e\\u0433\\u043e\\u043e\\u0440) \\u0437\\u043e\\u0440\\u0447\\u0441\\u043e\\u043d \\u043d\\u044c \\u04e9\\u043c\\u043d\\u04e9\\u0445 \\u043e\\u043d\\u044b \\u043c\\u04e9\\u043d \\u04af\\u0435\\u0442\\u044d\\u0439 \\u0445\\u0430\\u0440\\u044c\\u0446\\u0443\\u0443\\u043b\\u0430\\u0445\\u0430\\u0434 6.6%-\\u0430\\u0430\\u0440 \\u04e9\\u0441\\u0441\\u04e9\\u043d \\u0431\\u043e\\u043b \\u043e\\u043d\\u044b \\u044d\\u0445\\u043d\\u044d\\u044d\\u0441 \\u04e9\\u0441\\u0441\\u04e9\\u043d \\u0434\\u04af\\u043d\\u0433\\u044d\\u044d\\u0440 48.9 \\u0441\\u0430\\u044f \\u0437\\u043e\\u0440\\u0447\\u0438\\u0433\\u0447 \\u0437\\u043e\\u0440\\u0447\\u0441\\u043e\\u043d \\u043d\\u044c \\u04e9\\u043c\\u043d\\u04e9\\u0445 \\u043e\\u043d\\u044b \\u043c\\u04e9\\u043d \\u04af\\u0435\\u044d\\u0441 3.7%-\\u0430\\u0430\\u0440 \\u043d\\u044d\\u043c\\u044d\\u0433\\u0434\\u0441\\u044d\\u043d \\u04af\\u0437\\u04af\\u04af\\u043b\\u044d\\u043b\\u0442 \\u0430\\u0436.2024 \\u043e\\u043d\\u044b \\u0434\\u04e9\\u0440\\u04e9\\u0432\\u0434\\u04af\\u0433\\u044d\\u044d\\u0440 \\u0441\\u0430\\u0440\\u0434:\\u041c\\u04e9\\u043d \\u0441\\u0430\\u0440\\u0434 \\u041c\\u043e\\u043d\\u0433\\u043e\\u043b \\u0423\\u043b\\u0441\\u044b\\u043d \\u0430\\u0432\\u0442\\u043e \\u0437\\u0430\\u043c\\u044b\\u043d \\u0431\\u043e\\u043e\\u043c\\u0442\\u043e\\u043e\\u0440 \\u043d\\u0438\\u0439\\u0442 73,198 \\u0430\\u0447\\u0430\\u0430\\u0442\\u0430\\u0439 \\u0442\\u044d\\u044d\\u0432\\u0440\\u0438\\u0439\\u043d \\u0445\\u044d\\u0440\\u044d\\u0433\\u0441\\u044d\\u043b \\u043d\\u044d\\u0432\\u0442\\u044d\\u0440\\u0441\\u044d\\u043d \\u0431\\u0430\\u0439\\u043d\\u0430.\\u04ae\\u04af\\u043d\\u044d\\u044d\\u0441 11,222 \\u0442\\u044d\\u044d\\u0432\\u0440\\u0438\\u0439\\u043d \\u0445\\u044d\\u0440\\u044d\\u0433\\u0441\\u044d\\u043b \\u043e\\u0440\\u0441\\u043e\\u043d \\u043d\\u044c \\u04e9\\u043c\\u043d\\u04e9\\u0445 \\u043e\\u043d\\u044b \\u043c\\u04e9\\u043d \\u04af\\u0435\\u044d\\u0441 31.1%-\\u0430\\u0430\\u0440, 61,976 \\u0442\\u044d\\u044d\\u0432\\u0440\\u0438\\u0439\\u043d \\u0445\\u044d\\u0440\\u044d\\u0433\\u0441\\u044d\\u043b \\u0433\\u0430\\u0440\\u0441\\u0430\\u043d \\u043d\\u044c \\u04e9\\u043c\\u043d\\u04e9\\u0445 \\u043e\\u043d\\u044b \\u043c\\u04e9\\u043d \\u04af\\u0435\\u044d\\u0441 5.6%-\\u0430\\u0430\\u0440 \\u0442\\u0443\\u0441 \\u0442\\u0443\\u0441 \\u04e9\\u0441\\u0441\\u04e9\\u043d \\u0434\\u04af\\u043d\\u0442\\u044d\\u0439 \\u0431\\u0430\\u0439\\u0433\\u0430\\u0430 \\u0430\\u0436.\",\n          \"\\u0423\\u0418\\u0425-\\u044b\\u043d \\u0433\\u0438\\u0448\\u04af\\u04af\\u043d \\u0430\\u0441\\u0430\\u043d \\u0416.\\u0411\\u0430\\u0442\\u0437\\u0430\\u043d\\u0434\\u0430\\u043d \\u0428\\u0418\\u041d\\u042d \\u043d\\u0430\\u043c\\u0430\\u0430\\u0441 \\u0433\\u0430\\u0440\\u0447, \\u0410\\u041d-\\u0434 \\u043d\\u044d\\u0433\\u0434\\u044d\\u0436 \\u0431\\u0443\\u0439\\u0433\\u0430\\u0430 \\u043c\\u044d\\u0434\\u044d\\u0433\\u0434\\u0441\\u044d\\u043d. \\u04ae\\u04af\\u043d\\u0442\\u044d\\u0439 \\u0445\\u043e\\u043b\\u0431\\u043e\\u0433\\u0434\\u0443\\u0443\\u043b\\u0430\\u043d \\u0428\\u0418\\u041d\\u042d \\u043d\\u0430\\u043c\\u0430\\u0430\\u0441 \\u043c\\u044d\\u0434\\u044d\\u044d\\u043b\\u044d\\u043b \\u0445\\u0438\\u0439\\u043b\\u044d\\u044d.\\u0428\\u0418\\u041d\\u042d \\u043d\\u0430\\u043c\\u044b\\u043d \\u0434\\u0430\\u0440\\u0433\\u0430 \\u0426.\\u0413\\u0430\\u043d\\u0442\\u0443\\u043b\\u0433\\u0430\\u201c\\u04e8\\u043d\\u0433\\u04e9\\u0440\\u0441\\u04e9\\u043d \\u0445\\u043e\\u0451\\u0440 \\u0445\\u043e\\u043d\\u043e\\u0433\\u0438\\u0439\\u043d \\u0445\\u0443\\u0433\\u0430\\u0446\\u0430\\u0430\\u043d\\u0434 \\u0410\\u0440\\u0434\\u0447\\u0438\\u043b\\u0441\\u0430\\u043d \\u041d\\u0430\\u043c\\u044b\\u043d \\u0437\\u04af\\u0433\\u044d\\u044d\\u0441 \\u0428\\u0418\\u041d\\u042d \\u043d\\u0430\\u043c\\u044b\\u0433 \\u04e9\\u04e9\\u0440\\u0438\\u0439\\u043d \\u043d\\u0430\\u043c\\u0442\\u0430\\u0439 \\u043d\\u044d\\u0433\\u0434\\u0441\\u044d\\u043d \\u043c\\u044d\\u0442\\u044d\\u044d\\u0440 \\u043c\\u044d\\u0434\\u044d\\u044d\\u043b\\u044d\\u043b \\u0442\\u0430\\u0440\\u0430\\u0430\\u0441\\u0430\\u043d. \\u0422\\u0438\\u0439\\u043c\\u044d\\u044d\\u0441 \\u0428\\u0418\\u041d\\u042d \\u043d\\u0430\\u043c \\u0430\\u043d\\u0445 \\u044f\\u0430\\u0436 \\u0431\\u0430\\u0439\\u0433\\u0443\\u0443\\u043b\\u0430\\u0433\\u0434\\u0441\\u0430\\u043d \\u0442\\u0430\\u043b\\u0430\\u0430\\u0440 \\u043c\\u044d\\u0434\\u044d\\u044d\\u043b\\u044d\\u043b \\u04e9\\u0433\\u04e9\\u0445 \\u0437\\u04af\\u0439\\u0442\\u044d\\u0439 \\u0433\\u044d\\u0436 \\u04af\\u0437\\u043b\\u044d\\u044d.\\u0410\\u043d\\u0445 2019 \\u043e\\u043d\\u044b \\u0435\\u0441\\u0434\\u04af\\u0433\\u044d\\u044d\\u0440 \\u0441\\u0430\\u0440\\u044b\\u043d 16-\\u043d\\u0434 \\u0428\\u0418\\u041d\\u042d \\u043d\\u0430\\u043c \\u0431\\u0430\\u0439\\u0433\\u0443\\u0443\\u043b\\u0430\\u0433\\u0434\\u0441\\u0430\\u043d. \\u0428\\u0418\\u041d\\u042d \\u043d\\u0430\\u043c\\u044b\\u0433 113 \\u0442\\u04e9\\u0440\\u0438\\u0439\\u043d \\u0431\\u0443\\u0441 \\u0431\\u0430\\u0439\\u0433\\u0443\\u0443\\u043b\\u043b\\u0430\\u0433\\u0430, \\u043c\\u044d\\u0440\\u0433\\u044d\\u0436\\u043b\\u0438\\u0439\\u043d \\u0445\\u043e\\u043b\\u0431\\u043e\\u043e\\u0434 \\u0445\\u0430\\u043c\\u0442\\u0440\\u0430\\u043d \\u041c\\u043e\\u043d\\u0433\\u043e\\u043b\\u044b\\u0433 \\u041c\\u0410\\u041d\\u0410\\u041d \\u0434\\u044d\\u0433\\u043b\\u044d\\u043c\\u044d\\u044d\\u0441 \\u0430\\u0432\\u0440\\u0430\\u0445, \\u0448\\u0438\\u043d\\u044d \\u043d\\u0438\\u0439\\u0433\\u043c\\u0438\\u0439\\u043d \\u0431\\u0430\\u0439\\u0433\\u0443\\u0443\\u043b\\u0430\\u0445 \\u044d\\u0440\\u0445\\u044d\\u043c \\u0437\\u043e\\u0440\\u0438\\u043b\\u0433\\u043e\\u0442\\u043e\\u0439\\u0433\\u043e\\u043e\\u0440 \\u0430\\u043d\\u0445 \\u0431\\u0430\\u0439\\u0433\\u0443\\u0443\\u043b\\u0430\\u0433\\u0434\\u0441\\u0430\\u043d.\\u0422\\u0443\\u0445\\u0430\\u0439\\u043d \\u04af\\u0435\\u0438\\u0439\\u043d \\u0423\\u0418\\u0425-\\u044b\\u043d \\u0433\\u0438\\u0448\\u04af\\u04af\\u043d \\u0416.\\u0411\\u0430\\u0442\\u0437\\u0430\\u043d\\u0434\\u0430\\u043d, \\u041b.\\u0411\\u043e\\u043b\\u0434 \\u043d\\u0430\\u0440 1,200 \\u0442\\u04e9\\u043b\\u04e9\\u04e9\\u043b\\u04e9\\u0433\\u0447\\u0442\\u044d\\u0439\\u0433\\u04e9\\u04e9\\u0440 \\u0430\\u043d\\u0445\\u043d\\u044b \\u0445\\u0443\\u0440\\u043b\\u0430\\u0430 \\u0445\\u0438\\u0439\\u0441\\u044d\\u043d. \\u0410\\u043d\\u0445 801 \\u0445\\u04af\\u043d \\u0433\\u0430\\u0440\\u044b\\u043d \\u04af\\u0441\\u044d\\u0433 \\u0437\\u0443\\u0440\\u0441\\u043d\\u0430\\u0430\\u0440 \\u0431\\u0430\\u0439\\u0433\\u0443\\u0443\\u043b\\u0430\\u0433\\u0434\\u0441\\u0430\\u043d \\u0431\\u0430\\u0439\\u0441\\u0430\\u043d \\u043d\\u0430\\u043c \\u043e\\u0434\\u043e\\u043e 24 \\u043c\\u044f\\u043d\\u0433\\u0430\\u043d \\u0433\\u0438\\u0448\\u04af\\u04af\\u043d\\u044d\\u044d \\u04af\\u043d\\u044d\\u043c\\u043b\\u044d\\u0445\\u0436\\u04af\\u04af\\u043b\\u0441\\u044d\\u043d, 50 \\u0433\\u0430\\u0440\\u0443\\u0439 \\u043c\\u044f\\u043d\\u0433\\u0430\\u043d \\u0434\\u044d\\u043c\\u0436\\u0438\\u0433\\u0447\\u0442\\u044d\\u0439, \\u04e9\\u0434\\u04e9\\u0440 \\u0442\\u0443\\u0442\\u043c\\u044b\\u043d \\u04af\\u0439\\u043b \\u0430\\u0436\\u0438\\u043b\\u043b\\u0430\\u0433\\u0430\\u0430\\u0433\\u0430\\u0430 \\u0430\\u043a\\u0430\\u0434\\u0435\\u043c\\u0438\\u043a \\u0442\\u04af\\u0432\\u0448\\u0438\\u043d\\u0434 \\u044f\\u0432\\u0443\\u0443\\u043b\\u0436 \\u0431\\u0430\\u0439\\u0433\\u0430\\u0430 \\u0443\\u043b\\u0441 \\u0442\\u04e9\\u0440\\u0438\\u0439\\u043d \\u0445\\u04af\\u0447\\u0438\\u043d \\u0431\\u043e\\u043b\\u043e\\u043e\\u0434 \\u0431\\u0430\\u0439\\u043d\\u0430.\\u042d\\u043d\\u044d \\u043d\\u0430\\u043c\\u044b\\u043d \\u0430\\u043d\\u0445\\u043d\\u044b \\u0434\\u0430\\u0440\\u0433\\u0430 \\u0416.\\u0411\\u0430\\u0442\\u0437\\u0430\\u043d\\u0434\\u0430\\u043d \\u0410\\u041d-\\u0434 \\u043e\\u0440\\u0436 \\u0431\\u0443\\u0439\\u0433\\u0430\\u0430 \\u043c\\u044d\\u0434\\u044d\\u0433\\u0434\\u0441\\u044d\\u043d. \\u0422\\u044d\\u0440 \\u0431\\u043e\\u043b \\u0445\\u0443\\u0432\\u044c \\u0445\\u04af\\u043d\\u0438\\u0439 \\u0441\\u043e\\u043d\\u0433\\u043e\\u043b\\u0442. \\u0426\\u04e9\\u04e9\\u043d \\u0445\\u044d\\u0434\\u044d\\u043d \\u0445\\u04af\\u043d \\u0443\\u043b\\u0441 \\u0442\\u04e9\\u0440\\u0438\\u0439\\u043d \\u04e9\\u04e9\\u0440 \\u043d\\u0430\\u043c, \\u0445\\u04af\\u0447\\u0438\\u043d\\u0442\\u044d\\u0439 \\u0445\\u0430\\u043c\\u0442\\u0440\\u0430\\u0445 \\u0431\\u043e\\u043b\\u043e\\u043c\\u0436\\u0442\\u043e\\u0439 \\u0433\\u044d\\u0436 \\u0445\\u044d\\u043b\\u0441\\u043d\\u044d\\u044d\\u0440 24 \\u043c\\u044f\\u043d\\u0433\\u0430\\u043d \\u0433\\u0438\\u0448\\u04af\\u04af\\u043d \\u0431\\u043e\\u043b\\u043e\\u043d \\u043e\\u043b\\u043e\\u043d \\u0437\\u0443\\u0443\\u043d \\u043c\\u044f\\u043d\\u0433\\u0430\\u043d \\u0434\\u044d\\u043c\\u0436\\u0438\\u0433\\u0447\\u0438\\u0439\\u043d \\u0438\\u0442\\u0433\\u044d\\u043b\\u0438\\u0439\\u043d \\u04e9\\u04e9\\u0440\\u0447\\u0438\\u043b\\u043d\\u04e9 \\u0433\\u044d\\u0436 \\u0431\\u0430\\u0439\\u0445\\u0433\\u04af\\u0439.\\u041c\\u0410\\u041d\\u0410\\u041d-\\u0433\\u0438\\u0439\\u043d \\u044d\\u0441\\u0440\\u044d\\u0433 \\u0433\\u044d\\u0447\\u0445\\u044d\\u044d\\u0434 \\u0431\\u0443\\u0446\\u0430\\u0430\\u0434 \\u041c\\u0410\\u041d\\u0410\\u041d-\\u0442\\u0430\\u0439 \\u043d\\u044d\\u0433\\u0434\\u044d\\u0436 \\u0431\\u0430\\u0439\\u0433\\u0430\\u0430 \\u0445\\u04af\\u043c\\u04af\\u04af\\u0441\\u0442\\u044d\\u0439 \\u0431\\u0438\\u0434 \\u0430\\u0433\\u0430\\u0430\\u0440 \\u0445\\u0443\\u0432\\u0430\\u0430\\u043b\\u0446\\u0430\\u0445 \\u0431\\u043e\\u043b\\u043e\\u043c\\u0436\\u0433\\u04af\\u0439. \\u0411\\u0438\\u0434 \\u0445\\u0443\\u0432\\u044c \\u0445\\u04af\\u043d\\u0442\\u044d\\u0439 \\u0430\\u0441\\u0443\\u0443\\u0434\\u043b\\u044b\\u0433 \\u0431\\u0443\\u0440\\u0443\\u0443\\u0448\\u0430\\u0430\\u0445\\u0433\\u04af\\u0439. \\u0425\\u0430\\u0440\\u0438\\u043d \\u043d\\u0438\\u0439\\u0433\\u044d\\u043c\\u0434 \\u0431\\u043e\\u043b\\u043e\\u0445\\u0433\\u04af\\u0439 \\u0431\\u0430\\u0439\\u0433\\u0430\\u0430 \\u0437\\u04af\\u0439\\u043b\\u0438\\u0439\\u0433 \\u0437\\u0430\\u0441\\u0430\\u0445\\u044b\\u043d \\u0442\\u04e9\\u043b\\u04e9\\u04e9 \\u0441\\u044d\\u0445\\u044d\\u044d\\u0442\\u043d\\u04af\\u04af\\u0434, \\u0443\\u043b\\u0441 \\u0442\\u04e9\\u0440\\u0438\\u0439\\u043d \\u043d\\u0430\\u043c, \\u0445\\u04af\\u0447\\u043d\\u0438\\u0439 \\u0442\\u04e9\\u043b\\u04e9\\u04e9\\u043b\\u043b\\u04af\\u04af\\u0434\\u0442\\u044d\\u0439 \\u0445\\u0430\\u043c\\u0442\\u0430\\u0440\\u0447 \\u04af\\u0439\\u043b \\u0430\\u0436\\u0438\\u043b\\u043b\\u0430\\u0433\\u0430\\u0430\\u0433\\u0430\\u0430 \\u044f\\u0432\\u0443\\u0443\\u043b\\u0436 \\u0431\\u0430\\u0439\\u0433\\u0430\\u0430.\\u0428\\u0418\\u041d\\u042d \\u043d\\u0430\\u043c\\u044b\\u043d \\u0434\\u0430\\u0440\\u0433\\u044b\\u043d \\u0445\\u0443\\u0432\\u0438\\u0430\\u0440 \\u0445\\u044d\\u043b\\u044d\\u0445\\u044d\\u0434 \\u0433\\u0430\\u043d\\u0446 \\u0445\\u043e\\u0451\\u0440\\u0445\\u043e\\u043d \\u0445\\u04af\\u043d \\u0431\\u0438\\u0434\\u043d\\u0438\\u0439\\u0433 \\u0442\\u04e9\\u043b\\u04e9\\u04e9\\u043b\\u04e9\\u0445\\u0433\\u04af\\u0439. \\u0428\\u0418\\u041d\\u042d \\u043d\\u0430\\u043c \\u0431\\u04af\\u0442\\u044d\\u043d, \\u0446\\u0443\\u043b \\u0445\\u044d\\u0432\\u044d\\u044d\\u0440\\u044d\\u044d\\u00a0\\u0431\\u0430\\u0439\\u0433\\u0430\\u0430 \\u0443\\u0447\\u0440\\u0430\\u0430\\u0441 2024 \\u043e\\u043d\\u044b \\u0441\\u043e\\u043d\\u0433\\u0443\\u0443\\u043b\\u044c\\u0434 \\u0430\\u043c\\u0436\\u0438\\u043b\\u0442 \\u0433\\u0430\\u0440\\u0433\\u0430\\u043d\\u0430 \\u0433\\u044d\\u0436 \\u04af\\u0437\\u044d\\u0436 \\u0431\\u0430\\u0439\\u0433\\u0430\\u0430.\\u041c\\u0430\\u043d\\u0430\\u0439 \\u043d\\u0430\\u043c\\u0430\\u0430\\u0441 \\u0433\\u0430\\u0440\\u0441\\u0430\\u043d \\u0433\\u044d\\u0433\\u0434\\u044d\\u0436 \\u0431\\u0430\\u0439\\u0433\\u0430\\u0430 \\u0445\\u04af\\u043c\\u04af\\u04af\\u0441 \\u04e9\\u043d\\u04e9\\u04e9\\u0434\\u0440\\u0438\\u0439\\u043d \\u0431\\u0430\\u0439\\u0434\\u043b\\u0430\\u0430\\u0440 \\u04e9\\u0440\\u0433\\u04e9\\u0434\\u043b\\u04e9\\u04e9 \\u04e9\\u0433\\u04e9\\u04e9\\u0433\\u04af\\u0439 \\u0431\\u0430\\u0439\\u043d\\u0430\\u201d \\u0433\\u044d\\u043b\\u044d\\u044d.\\u041c\\u04e9\\u043d\\u0428\\u0418\\u041d\\u042d \\u043d\\u0430\\u043c\\u044b\\u043d \\u0433\\u0438\\u0448\\u04af\\u04af\\u043d \\u0414.\\u0416\\u0430\\u0440\\u0433\\u0430\\u043b\\u0441\\u0430\\u0439\\u0445\\u0430\\u043d\\u201c\\u0416.\\u0411\\u0430\\u0442\\u0437\\u0430\\u043d\\u0434\\u0430\\u043d \\u04af\\u0437\\u044d\\u043b \\u0441\\u0430\\u043d\\u0430\\u0430, \\u0438\\u0442\\u0433\\u044d\\u043b \\u04af\\u043d\\u044d\\u043c\\u0448\\u043b\\u044d\\u044d\\u0441\\u044d\\u044d \\u0443\\u0440\\u0432\\u0430\\u0436, \\u0430\\u043d\\u0434 \\u043d\\u04e9\\u0445\\u0434\\u04e9\\u04e9\\u0441\\u04e9\\u04e9 \\u0443\\u0440\\u0432\\u0430\\u0436 \\u0431\\u0430\\u0439\\u043d\\u0430. \\u0418\\u0439\\u043c \\u0445\\u04af\\u043d \\u0430\\u0440\\u0434 \\u0442\\u04af\\u043c\\u043d\\u0438\\u0439 \\u0442\\u04e9\\u043b\\u04e9\\u04e9 \\u0430\\u0436\\u0438\\u043b\\u043b\\u0430\\u0436 \\u0447\\u0430\\u0434\\u0430\\u0445\\u0433\\u04af\\u0439. \\u04e8\\u0434\\u04e9\\u0440 \\u0431\\u04af\\u0440 \\u0445\\u044d\\u0434\\u044d\\u043d \\u0437\\u0443\\u0443\\u043d \\u0437\\u0430\\u043b\\u0443\\u0443 \\u0431\\u0438\\u0434\\u043d\\u0438\\u0439 \\u04af\\u0437\\u044d\\u043b \\u0441\\u0430\\u043d\\u0430\\u0430\\u0433 \\u0434\\u044d\\u043c\\u0436\\u0434\\u044d\\u0433\\u044d\\u044d \\u0438\\u043b\\u044d\\u0440\\u0445\\u0438\\u0439\\u043b\\u0441\\u044d\\u044d\\u0440 \\u0431\\u0430\\u0439\\u0433\\u0430\\u0430\\u201d \\u0433\\u044d\\u0432.\",\n          \"2024 \\u043e\\u043d\\u044b \\u043d\\u044d\\u0433\\u0434\\u04af\\u0433\\u044d\\u044d\\u0440 \\u044d\\u044d\\u043b\\u0436\\u0438\\u0439\\u043d \\u0446\\u044d\\u0440\\u044d\\u0433 \\u0442\\u0430\\u0442\\u043b\\u0430\\u0433\\u0430 \\u043d\\u0438\\u0439\\u0441\\u043b\\u044d\\u043b\\u0438\\u0439\\u043d \\u0445\\u044d\\u043c\\u0436\\u044d\\u044d\\u043d\\u0434 \\u0437\\u043e\\u0445\\u0438\\u043e\\u043d \\u0431\\u0430\\u0439\\u0433\\u0443\\u0443\\u043b\\u0430\\u0433\\u0434\\u0430\\u0436, \\u0434\\u0443\\u0443\\u0441\\u0430\\u0430\\u0434 \\u0431\\u0443\\u0439.\\u0426\\u0430\\u0430\\u0448\\u0438\\u0434 \\u0445\\u0443\\u0433\\u0430\\u0446\\u0430\\u0430\\u0442 \\u0446\\u044d\\u0440\\u0433\\u0438\\u0439\\u043d \\u0430\\u043b\\u0431\\u0430\\u043d\\u0434\\u00a0\\u044f\\u043c\\u0430\\u0440 \\u04e9\\u04e9\\u0440\\u0447\\u043b\\u04e9\\u043b\\u0442 \\u043e\\u0440\\u0443\\u0443\\u043b\\u0430\\u0445 \\u0442\\u0430\\u043b\\u0430\\u0430\\u0440 \\u0411\\u0430\\u0442\\u043b\\u0430\\u043d \\u0425\\u0430\\u043c\\u0433\\u0430\\u0430\\u043b\\u0430\\u0445\\u044b\\u043d \\u0434\\u044d\\u0434 \\u0441\\u0430\\u0439\\u0434 \\u0411.\\u0411\\u0430\\u044f\\u0440\\u043c\\u0430\\u0433\\u043d\\u0430\\u0439 \\\"\\u0426\\u044d\\u0440\\u0433\\u0438\\u0439\\u043d \\u0430\\u043b\\u0431\\u044b\\u0433 \\u043c\\u04e9\\u043d\\u0433\\u04e9\\u04e9\\u0440 \\u0445\\u0430\\u0430\\u0434\\u0430\\u0433, \\u043c\\u04e9\\u043d\\u0433\\u04e9\\u0442\\u044d\\u0439 \\u043d\\u044c \\u0446\\u044d\\u0440\\u0433\\u0438\\u0439\\u043d \\u0430\\u043b\\u0431\\u0430\\u043d\\u0430\\u0430\\u0441 \\u0447\\u04e9\\u043b\\u04e9\\u04e9\\u043b\\u04e9\\u0433\\u0434\\u0434\\u04e9\\u0433, \\u043c\\u04e9\\u043d\\u0433\\u04e9\\u0433\\u04af\\u0439 \\u043d\\u044c \\u0445\\u0430\\u0430\\u0434\\u0430\\u0433 \\u0445\\u044d\\u043b\\u0431\\u044d\\u0440\\u0438\\u0439\\u0433 \\u044f\\u0432\\u0430\\u0430\\u043d\\u0434\\u0430\\u0430 \\u0445\\u0430\\u043b\\u043d\\u0430. \\u041d\\u0438\\u0439\\u0433\\u043c\\u0438\\u0439\\u043d \\u044f\\u043b\\u0433\\u0430\\u0430\\u0433 \\u0445\\u044d\\u0442 \\u0445\\u043e\\u043b\\u0434\\u043e\\u0445\\u043e\\u043e\\u0441 \\u0446\\u044d\\u0440\\u0433\\u0438\\u0439\\u043d \\u0430\\u043b\\u0431\\u0430 \\u0441\\u044d\\u0440\\u0433\\u0438\\u0439\\u043b\\u0434\\u044d\\u0433.\\u0422\\u0438\\u0439\\u043c \\u0443\\u0447\\u0440\\u0430\\u0430\\u0441 \\u0431\\u0438\\u0434 \\u0442\\u044d\\u0440 \\u0447\\u0438\\u0433\\u043b\\u044d\\u043b \\u0440\\u04af\\u04af \\u0445\\u0430\\u043d\\u0434\\u043b\\u0430\\u0433\\u044b\\u0433 \\u04e9\\u04e9\\u0440\\u0447\\u043b\\u04e9\\u0445 \\u0441\\u0443\\u0434\\u0430\\u043b\\u0433\\u0430\\u0430\\u043d\\u044b \\u0430\\u0436\\u043b\\u0443\\u0443\\u0434\\u044b\\u0433 \\u044d\\u0445\\u043b\\u04af\\u04af\\u043b\\u044d\\u044d\\u0434 \\u0431\\u0430\\u0439\\u043d\\u0430.\\u0423\\u043b\\u0441 \\u043e\\u0440\\u043d\\u044b \\u0441\\u04af\\u0440 \\u0445\\u04af\\u0447 \\u0446\\u044d\\u0440\\u044d\\u0433, \\u0437\\u044d\\u0432\\u0441\\u044d\\u0433\\u0442 \\u0445\\u04af\\u0447\\u0438\\u043d\\u0434\\u044d\\u044d \\u0431\\u0430\\u0439\\u0434\\u0430\\u0433. \\u041c\\u043e\\u043d\\u0433\\u043e\\u043b \\u0423\\u043b\\u0441\\u044b\\u043d \\u0445\\u04af\\u043d\\u0434\\u044d\\u0442 \\u0445\\u0430\\u0440\\u0443\\u0443\\u043b \\u0430\\u043b\\u0445\\u0430\\u0430\\u0434 \\u044f\\u0432\\u0430\\u0445\\u0430\\u0434, \\u0435\\u0441\\u04e9\\u043d \\u0445\\u04e9\\u043b\\u0442 \\u0446\\u0430\\u0433\\u0430\\u0430\\u043d \\u0442\\u0443\\u0433\\u0430\\u0430 \\u043d\\u0430\\u0430\\u0434\\u043c\\u044b\\u043d \\u0442\\u0430\\u043b\\u0431\\u0430\\u0439\\u0434 \\u0431\\u0430\\u0439\\u0440\\u043b\\u0443\\u0443\\u043b\\u0430\\u0445\\u0430\\u0434 \\u041c\\u043e\\u043d\\u0433\\u043e\\u043b\\u044b\\u043d \\u0430\\u0440\\u0434 \\u0442\\u04af\\u043c\\u044d\\u043d \\u043c\\u043e\\u043d\\u0433\\u043e\\u043b \\u044d\\u0440\\u0447\\u04af\\u04af\\u0434\\u044d\\u044d\\u0440, \\u043c\\u043e\\u043d\\u0433\\u043e\\u043b\\u044b\\u043d \\u0437\\u044d\\u0432\\u0441\\u044d\\u0433\\u0442 \\u0445\\u04af\\u0447\\u043d\\u044d\\u044d\\u0440\\u044d\\u044d \\u0431\\u0430\\u0445\\u0430\\u0440\\u0445\\u0434\\u0430\\u0433 \\u0433\\u044d\\u0436 \\u043e\\u0439\\u043b\\u0433\\u043e\\u0434\\u043e\\u0433.\\u0414\\u044d\\u043b\\u0445\\u0438\\u0439\\u043d \\u0445\\u0430\\u043b\\u0443\\u0443\\u043d \\u0446\\u044d\\u0433\\u0442 \\u04af\\u04af\\u0440\\u044d\\u0433 \\u0433\\u04af\\u0439\\u0446\\u044d\\u0442\\u0433\\u044d\\u0436 \\u0445\\u04af\\u04af\\u0445\\u0434\\u044d\\u044d \\u0445\\u0430\\u0440\\u0430\\u0430\\u0434 \\u044d\\u0446\\u044d\\u0433 \\u044d\\u0445\\u0447\\u04af\\u04af\\u0434 \\u0431\\u0430\\u0445\\u0430\\u0440\\u0445\\u0434\\u0430\\u0433 \\u0433\\u044d\\u0436 \\u0431\\u043e\\u0434\\u0434\\u043e\\u0433. \\u0422\\u0438\\u0439\\u043c \\u0443\\u0447\\u0440\\u0430\\u0430\\u0441 \\u0431\\u0430\\u0445\\u0430\\u0440\\u0445\\u0430\\u043b \\u0431\\u0430\\u0439\\u043d\\u0433\\u0430 \\u0431\\u0430\\u0439\\u0433\\u0430\\u0430. \\u0422\\u04af\\u04af\\u043d\\u0438\\u0439\\u00a0\\u0445\\u0430\\u0436\\u0443\\u0443\\u0433\\u0430\\u0430\\u0440 \\u043c\\u0443\\u0443 \\u0437\\u04af\\u0439\\u043b \\u043c\\u0430\\u0448 \\u0438\\u0445 \\u0431\\u0430\\u0439\\u0433\\u0430\\u0430 \\u0433\\u044d\\u0434\\u0433\\u0438\\u0439\\u0433 \\u0431\\u0438\\u0434 \\u0445\\u04af\\u043b\\u044d\\u044d\\u043d \\u0437\\u04e9\\u0432\\u0448\\u04e9\\u04e9\\u0440\\u04e9\\u0445 \\u0451\\u0441\\u0442\\u043e\\u0439. \\u0411\\u0443\\u0440\\u0443\\u0443 \\u0437\\u04af\\u0439\\u043b\\u0441\\u0438\\u0439\\u0433 \\u0437\\u0430\\u0441\\u0430\\u0436, \\u0437\\u0430\\u043b\\u0440\\u0443\\u0443\\u043b\\u0430\\u0445 \\u043d\\u044c \\u0431\\u0438\\u0434\\u043d\\u0438\\u0439 \\u04af\\u043d\\u0434\\u0441\\u044d\\u043d \\u04af\\u04af\\u0440\\u044d\\u0433 \\u0433\\u044d\\u0436 \\u0431\\u043e\\u0434\\u043e\\u0436 \\u0431\\u0430\\u0439\\u043d\\u0430\\\" \\u0433\\u044d\\u0436 \\u0431\\u0430\\u0439\\u0440 \\u0441\\u0443\\u0443\\u0440\\u0438\\u0430 \\u0438\\u043b\\u044d\\u0440\\u0445\\u0438\\u0439\\u043b\\u044d\\u0432.\\u0417\\u0430\\u0441\\u0433\\u0438\\u0439\\u043d \\u0433\\u0430\\u0437\\u0440\\u0430\\u0430\\u0441 \\u0446\\u044d\\u0440\\u0433\\u0438\\u0439\\u043d \\u0434\\u04af\\u0439\\u0446\\u04af\\u04af\\u043b\\u044d\\u0445 \\u0430\\u043b\\u0431\\u044b\\u0433 2023 \\u043e\\u043d\\u0434 \\u043c\\u04e9\\u043d\\u0433\\u04e9\\u043d \\u0442\\u04e9\\u043b\\u0431\\u04e9\\u0440\\u0438\\u0439\\u043d \\u0445\\u044d\\u043b\\u0431\\u044d\\u0440\\u044d\\u044d\\u0440 \\u043e\\u0440\\u043b\\u0443\\u0443\\u043b\\u0430\\u043d \\u0445\\u0430\\u0430\\u0445 \\u0438\\u0440\\u0433\\u044d\\u043d\\u0438\\u0439 \\u0442\\u04e9\\u043b\\u04e9\\u0445 \\u0442\\u04e9\\u043b\\u0431\\u04e9\\u0440\\u0438\\u0439\\u043d \\u0445\\u044d\\u043c\\u0436\\u044d\\u044d\\u0433 11.9 \\u0441\\u0430\\u044f (\\u0430\\u0440\\u0432\\u0430\\u043d \\u043d\\u044d\\u0433\\u044d\\u043d \\u0441\\u0430\\u044f \\u0435\\u0441\\u04e9\\u043d \\u0437\\u0443\\u0443\\u043d \\u0433\\u0443\\u0447\\u0438\\u043d \\u0442\\u0430\\u0432\\u0430\\u043d \\u043c\\u044f\\u043d\\u0433\\u0430 \\u0433\\u0443\\u0440\\u0432\\u0430\\u043d \\u0437\\u0443\\u0443\\u043d \\u043d\\u0430\\u0439\\u043c\\u0430\\u043d) \\u0442\\u04e9\\u0433\\u0440\\u04e9\\u0433\\u04e9\\u04e9\\u0440 \\u0442\\u043e\\u0433\\u0442\\u043e\\u043e\\u0436\\u044d\\u044d.\\u0422\\u043e\\u0433\\u0442\\u043e\\u043e\\u043b /\\u0417\\u0443\\u0440\\u0430\\u0433 \\u0434\\u044d\\u044d\\u0440 \\u0434\\u0430\\u0440\\u0436, \\u0442\\u043e\\u043c\\u0440\\u0443\\u0443\\u043b\\u0436 \\u0445\\u0430\\u0440\\u0430\\u0445 \\u0431\\u043e\\u043b\\u043e\\u043c\\u0436\\u0442\\u043e\\u0439/\\u041c\\u043e\\u043d\\u0433\\u043e\\u043b \\u0423\\u043b\\u0441\\u044b\\u043d \\u04ae\\u043d\\u0434\\u0441\\u044d\\u043d \\u0445\\u0443\\u0443\\u043b\\u0438\\u0430\\u0440 \\u0438\\u0440\\u0433\\u044d\\u043d \\u0431\\u04af\\u0440\\u0438\\u0439\\u043d \\u0431\\u0438\\u0435\\u043b\\u04af\\u04af\\u043b\\u044d\\u0445 \\u0436\\u0443\\u0440\\u0430\\u043c\\u0442 \\u04af\\u04af\\u0440\\u0433\\u0438\\u0439\\u043d \\u0434\\u0430\\u0433\\u0443\\u0443 18 \\u043d\\u0430\\u0441 \\u0445\\u04af\\u0440\\u0441\\u044d\\u043d \\u041c\\u043e\\u043d\\u0433\\u043e\\u043b \\u0423\\u043b\\u0441\\u044b\\u043d \\u0438\\u0440\\u0433\\u044d\\u043d \\u0417\\u044d\\u0432\\u0441\\u044d\\u0433\\u0442 \\u0445\\u04af\\u0447\\u0438\\u043d, \\u0445\\u0438\\u043b\\u0438\\u0439\\u043d \\u0431\\u0430 \\u0434\\u043e\\u0442\\u043e\\u043e\\u0434\\u044b\\u043d \\u0446\\u044d\\u0440\\u044d\\u0433\\u0442 \\u0431\\u0438\\u0435\\u044d\\u0440 \\u0430\\u043b\\u0431\\u0430 \\u0445\\u0430\\u0430\\u043d\\u0430. \\u0410\\u043b\\u0431\\u0430 \\u0445\\u0430\\u0430\\u0445 \\u0445\\u0443\\u0433\\u0430\\u0446\\u0430\\u0430 12 \\u0441\\u0430\\u0440 \\u0431\\u0430\\u0439\\u0445 \\u0431\\u04e9\\u0433\\u04e9\\u04e9\\u0434 \\u0438\\u0440\\u0433\\u044d\\u043d\\u0438\\u0439 \\u0445\\u0443\\u0433\\u0430\\u0446\\u0430\\u0430\\u0442 \\u0446\\u044d\\u0440\\u0433\\u0438\\u0439\\u043d \\u0430\\u043b\\u0431\\u0430 \\u0445\\u0430\\u0430\\u0445 \\u043d\\u0430\\u0441\\u043d\\u044b \\u0434\\u044d\\u044d\\u0434 \\u0445\\u044f\\u0437\\u0433\\u0430\\u0430\\u0440 26 \\u0431\\u0430\\u0439\\u043d\\u0430 \\u0433\\u044d\\u0436 \\u0437\\u0430\\u0430\\u0441\\u0430\\u043d \\u0431\\u0430\\u0439\\u043d\\u0430.\"\n        ],\n        \"semantic_type\": \"\",\n        \"description\": \"\"\n      }\n    }\n  ]\n}"
            }
          },
          "metadata": {},
          "execution_count": 8
        }
      ]
    },
    {
      "cell_type": "markdown",
      "metadata": {
        "id": "nR_eSJYh6IR3"
      },
      "source": [
        "## Inference Example"
      ]
    },
    {
      "cell_type": "code",
      "execution_count": null,
      "metadata": {
        "id": "OiiX7KVwUaUG"
      },
      "outputs": [],
      "source": [
        "from transformers import MT5ForConditionalGeneration, MT5Tokenizer\n",
        "\n",
        "model_path = \"ikon_summarization\"\n",
        "tokenizer = MT5Tokenizer.from_pretrained(model_path)\n",
        "model = MT5ForConditionalGeneration.from_pretrained(model_path)"
      ]
    },
    {
      "cell_type": "code",
      "execution_count": null,
      "metadata": {
        "id": "VgbGsH8W6Kr5"
      },
      "outputs": [],
      "source": [
        "def generate_summary(text):\n",
        "    input_text = \"summarize: \" + text\n",
        "    input_ids = tokenizer.encode(input_text, return_tensors=\"pt\")\n",
        "\n",
        "    output = model.generate(input_ids, max_length=100, num_beams=4, early_stopping=True)\n",
        "    summary = tokenizer.decode(output[0], skip_special_tokens=True)\n",
        "\n",
        "    return summary"
      ]
    },
    {
      "cell_type": "code",
      "source": [
        "df['article'][5]"
      ],
      "metadata": {
        "colab": {
          "base_uri": "https://localhost:8080/",
          "height": 123
        },
        "id": "Wmh1--WDsY_A",
        "outputId": "a65aabd9-b901-403f-aaac-484eaba1b449"
      },
      "execution_count": null,
      "outputs": [
        {
          "output_type": "execute_result",
          "data": {
            "text/plain": [
              "'Газын дэлбэрэлтэд өртсөн 207 дугаар байрны оршин суугчид одоогийн нөхцөл байдал болон төрөөс ямар арга хэмжээ авч байгаа талаар өнөөдөр мэдээлэл хийлээ.2024 оны нэгдүгээр сарын 24-ний\\xa0өдөр \"Дашваанжил\" ХХК-ийн газ тээвэрлэж явсан машин, Патрол\\xa0загварын\\xa0машин Дүнжингаравын урд уулзвар дээр осол гаргасны улмаас галд 207 дугаар байрны нийт 63 өрхийн 218 оршин суугч\\xa0өртөж орон гэргүй болсон юм.Ослын улмаас тус байранд амьдарч байсанБарилга хот байгуулалтын яамны барилгын дүгнэлттэй оршин суугчид тавдугаар сарын 1-нд танилцсан бөгөөд уг мэдээлэл нь Улсын Онцгой Комиссын дөрөвдүгээр сарын 4-нд хийсэн хэвлэлийн бага хурлаас зөрүүтэй байна.Оршин суугчдад мэдэгдэлгүйгээр хийсэн УОК-ын тус мэдэгдэл хэтэрхий нэг талыг барьсан сөрөг агуулгатай, дүгнэлтийн тоон дүнгүүдээс зөрсөн, ташаа мэдээлэл тараасан гэж үзэж байгаа\\xa0гэдгийг оршин суугчид онцлов.Тус дүгнэлтийн талаар207-р байрны оршин суугч\"УОК-оос нийт барилгын 86% бүрэн шатсан гэж мэдээлэл өгсөн. Гэтэл бодит дүгнэлт нь дээр нийт барилгын 8 гаруй хувь нь галд өртсөн бусад хувь нь огт галд өртөөгүй гэсэн байна. Нийт 63 айлаас үндсэн барилгын хийцэд байдаг найман давхрын нэг л айл мөн техникийн давхрын гуравхан айл галд өртсөн.Бусад айлуудын хувьд зарим өрөө рүү нь гал орсон.\\xa0Иймд галд өртсөн найман хувийг л засуулаад байрандаа орох боломжийг л төр засагт хүргэмээр байна. Дүгнэлт дээр 10 айлын гадна фасад нь бүрэн шатсан, 45 айлын гадна фасад нь хагас шатсан, найман айлын фасад нь огт шатаагүй гэсэн байна. Гэтэл\\xa0тэр чигтээ шатчихсан юм шиг мэдээлэл өгсөн\" гэв.Дүгнэлтийн талаар товч:'"
            ],
            "application/vnd.google.colaboratory.intrinsic+json": {
              "type": "string"
            }
          },
          "metadata": {},
          "execution_count": 13
        }
      ]
    },
    {
      "cell_type": "code",
      "execution_count": null,
      "metadata": {
        "colab": {
          "base_uri": "https://localhost:8080/",
          "height": 36
        },
        "id": "jue9p-ae6Uiq",
        "outputId": "ddc3488f-7d8a-4d7e-fcfc-be9c3bd3930e"
      },
      "outputs": [
        {
          "output_type": "execute_result",
          "data": {
            "text/plain": [
              "'\"Дүнжингаравын урд уулзвар дээр ослын улмаас галд өртсөн найман хувийг л засуулаад байрандаа орох боломжийг л төр засагт хүргэмээр байна\"'"
            ],
            "application/vnd.google.colaboratory.intrinsic+json": {
              "type": "string"
            }
          },
          "metadata": {},
          "execution_count": 15
        }
      ],
      "source": [
        "generate_summary(df['article'][5])"
      ]
    },
    {
      "cell_type": "code",
      "source": [],
      "metadata": {
        "id": "OgpVAXi0tmWD"
      },
      "execution_count": null,
      "outputs": []
    }
  ],
  "metadata": {
    "accelerator": "GPU",
    "colab": {
      "gpuType": "T4",
      "provenance": []
    },
    "kernelspec": {
      "display_name": "Python 3 (ipykernel)",
      "language": "python",
      "name": "python3"
    },
    "language_info": {
      "codemirror_mode": {
        "name": "ipython",
        "version": 3
      },
      "file_extension": ".py",
      "mimetype": "text/x-python",
      "name": "python",
      "nbconvert_exporter": "python",
      "pygments_lexer": "ipython3",
      "version": "3.12.2"
    }
  },
  "nbformat": 4,
  "nbformat_minor": 0
}