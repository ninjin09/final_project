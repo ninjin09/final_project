{
 "cells": [
  {
   "cell_type": "markdown",
   "id": "3eadef7b-ba4a-4876-beb6-6e9cdcc2041b",
   "metadata": {},
   "source": [
    "# Capstone Project - Scraping"
   ]
  },
  {
   "cell_type": "markdown",
   "id": "7539e5b0-5589-406e-bb49-be92b76eaee3",
   "metadata": {},
   "source": [
    "For my capstone project I will be building a streamlit application that collects the latest news. First we have to scrape the news sites."
   ]
  },
  {
   "cell_type": "markdown",
   "id": "c2d09efa-e8b8-4475-bb98-0bb45c989b99",
   "metadata": {},
   "source": [
    "### Import packages"
   ]
  },
  {
   "cell_type": "code",
   "execution_count": 2,
   "id": "aca32348-1602-41a1-b984-df1c897a948e",
   "metadata": {},
   "outputs": [],
   "source": [
    "import pandas as pd\n",
    "import re\n",
    "import requests\n",
    "from bs4 import BeautifulSoup"
   ]
  },
  {
   "cell_type": "markdown",
   "id": "983dbb2c-f9d4-4cfb-9835-d5990fc999a9",
   "metadata": {
    "jp-MarkdownHeadingCollapsed": true
   },
   "source": [
    "## Ikon\n",
    "First website we'll scrape is Ikon.mn\n",
    "Let's get all the articles that are less than a day old."
   ]
  },
  {
   "cell_type": "code",
   "execution_count": 113,
   "id": "165d1dc7-32a0-4fe6-9a27-a08d64e2e22e",
   "metadata": {},
   "outputs": [],
   "source": [
    "response = requests.get(\"https://ikon.mn/j/sd7qmo/sd7qmo\")"
   ]
  },
  {
   "cell_type": "code",
   "execution_count": 24,
   "id": "6767f89c-b3c6-4a99-bc1a-d4e00e8888c0",
   "metadata": {},
   "outputs": [],
   "source": [
    "response = requests.get(\"https://ikon.mn/l/1\")"
   ]
  },
  {
   "cell_type": "code",
   "execution_count": 6,
   "id": "c98cc92e-9c35-4ae2-80d1-8e5dbc1dc195",
   "metadata": {},
   "outputs": [],
   "source": [
    "response = requests.get(\"https://ikon.mn/l/2\")"
   ]
  },
  {
   "cell_type": "code",
   "execution_count": 114,
   "id": "57889caa-52bc-40e8-8e86-bccd1f28f7a3",
   "metadata": {},
   "outputs": [],
   "source": [
    "soup = BeautifulSoup(response.content)"
   ]
  },
  {
   "cell_type": "code",
   "execution_count": 115,
   "id": "6b463ef9-76a6-4636-ae08-44000239eb24",
   "metadata": {},
   "outputs": [],
   "source": [
    "ikon_links = soup.find_all(\"div\",{\"class\":\"nlitem\"})"
   ]
  },
  {
   "cell_type": "code",
   "execution_count": 116,
   "id": "114102cd-4d19-4b7f-8906-ab5be0f9a54f",
   "metadata": {},
   "outputs": [],
   "source": [
    "ikon_urls = []\n",
    "for link in ikon_links:\n",
    "    if \"Өчигдөр\" not in link:\n",
    "        ikon_a = link.find(\"a\")\n",
    "        ikon_url = ikon_a.get('href')\n",
    "        ikon_urls.append(ikon_url)"
   ]
  },
  {
   "cell_type": "code",
   "execution_count": 117,
   "id": "444a641b-e573-404e-bd75-294d1bc1432b",
   "metadata": {
    "collapsed": true,
    "jupyter": {
     "outputs_hidden": true
    },
    "scrolled": true
   },
   "outputs": [
    {
     "data": {
      "text/plain": [
       "['/n/354p',\n",
       " '/n/354o',\n",
       " '/n/354k',\n",
       " '/n/354m',\n",
       " '/n/354h',\n",
       " '/n/354e',\n",
       " '/n/354l',\n",
       " '/n/354j',\n",
       " '/n/354i',\n",
       " '/n/354g',\n",
       " '/n/3539',\n",
       " '/n/354f',\n",
       " '/n/354d',\n",
       " '/n/354c',\n",
       " '/n/354a',\n",
       " '/n/354b',\n",
       " '/n/3549',\n",
       " '/n/3548',\n",
       " '/n/3546',\n",
       " '/n/3545']"
      ]
     },
     "execution_count": 117,
     "metadata": {},
     "output_type": "execute_result"
    }
   ],
   "source": [
    "ikon_urls"
   ]
  },
  {
   "cell_type": "code",
   "execution_count": 118,
   "id": "3ce0cbee-ffa5-473e-8edb-67304d9dd3ff",
   "metadata": {},
   "outputs": [],
   "source": [
    "full_ikon_urls = []\n",
    "for url in ikon_urls:\n",
    "    full_url = \"https://ikon.mn\" + url\n",
    "    full_ikon_urls.append(full_url)"
   ]
  },
  {
   "cell_type": "code",
   "execution_count": 119,
   "id": "b95d9639-81eb-4c64-b1ae-bedc7867c2b9",
   "metadata": {
    "collapsed": true,
    "jupyter": {
     "outputs_hidden": true
    },
    "scrolled": true
   },
   "outputs": [
    {
     "data": {
      "text/plain": [
       "['https://ikon.mn/n/354p',\n",
       " 'https://ikon.mn/n/354o',\n",
       " 'https://ikon.mn/n/354k',\n",
       " 'https://ikon.mn/n/354m',\n",
       " 'https://ikon.mn/n/354h',\n",
       " 'https://ikon.mn/n/354e',\n",
       " 'https://ikon.mn/n/354l',\n",
       " 'https://ikon.mn/n/354j',\n",
       " 'https://ikon.mn/n/354i',\n",
       " 'https://ikon.mn/n/354g',\n",
       " 'https://ikon.mn/n/3539',\n",
       " 'https://ikon.mn/n/354f',\n",
       " 'https://ikon.mn/n/354d',\n",
       " 'https://ikon.mn/n/354c',\n",
       " 'https://ikon.mn/n/354a',\n",
       " 'https://ikon.mn/n/354b',\n",
       " 'https://ikon.mn/n/3549',\n",
       " 'https://ikon.mn/n/3548',\n",
       " 'https://ikon.mn/n/3546',\n",
       " 'https://ikon.mn/n/3545']"
      ]
     },
     "execution_count": 119,
     "metadata": {},
     "output_type": "execute_result"
    }
   ],
   "source": [
    "full_ikon_urls"
   ]
  },
  {
   "cell_type": "markdown",
   "id": "746cab3b-b709-46ca-bb59-3a4324b9bafa",
   "metadata": {},
   "source": [
    "### Scraping a single article"
   ]
  },
  {
   "cell_type": "code",
   "execution_count": 120,
   "id": "e76416ef-fa0f-4dda-bc51-0ded019af1c3",
   "metadata": {},
   "outputs": [],
   "source": [
    "response = requests.get('https://ikon.mn/n/3548')"
   ]
  },
  {
   "cell_type": "code",
   "execution_count": 121,
   "id": "9129d59f-e1c5-459a-892c-e8f3c41d0aff",
   "metadata": {},
   "outputs": [],
   "source": [
    "soup = BeautifulSoup(response.content)"
   ]
  },
  {
   "cell_type": "code",
   "execution_count": 122,
   "id": "c8a2895f-daeb-4f29-bedd-e5d21179141f",
   "metadata": {},
   "outputs": [],
   "source": [
    "article_title = soup.find('h1').get_text(strip=True)"
   ]
  },
  {
   "cell_type": "code",
   "execution_count": 123,
   "id": "31d241ca-6147-40e1-b698-ea764595ded4",
   "metadata": {},
   "outputs": [],
   "source": [
    "article_paragraphs = soup.find_all('p')"
   ]
  },
  {
   "cell_type": "code",
   "execution_count": 124,
   "id": "afe05f42-f25a-4c5f-b656-35a2579c0627",
   "metadata": {},
   "outputs": [],
   "source": [
    "body = \"\"\n",
    "for paragraph in article_paragraphs:\n",
    "    paragraph = paragraph.get_text(strip=True)\n",
    "    body = body + paragraph"
   ]
  },
  {
   "cell_type": "code",
   "execution_count": 125,
   "id": "d8afd09f-2e4c-4d2a-85ef-722875967669",
   "metadata": {},
   "outputs": [
    {
     "data": {
      "text/plain": [
       "'УИХ-ын гишүүн асан Ж.Батзандан ШИНЭ намаас гарч, АН-д нэгдэж буйгаа мэдэгдсэн. Үүнтэй холбогдуулан ШИНЭ намаас мэдээлэл хийлээ.ШИНЭ намын дарга Ц.Гантулга“Өнгөрсөн хоёр хоногийн хугацаанд Ардчилсан Намын зүгээс ШИНЭ намыг өөрийн намтай нэгдсэн мэтээр мэдээлэл тараасан. Тиймээс ШИНЭ нам анх яаж байгуулагдсан талаар мэдээлэл өгөх зүйтэй гэж үзлээ.Анх 2019 оны есдүгээр сарын 16-нд ШИНЭ нам байгуулагдсан. ШИНЭ намыг 113 төрийн бус байгууллага, мэргэжлийн холбоод хамтран Монголыг МАНАН дэглэмээс аврах, шинэ нийгмийн байгуулах эрхэм зорилготойгоор анх байгуулагдсан.Тухайн үеийн УИХ-ын гишүүн Ж.Батзандан, Л.Болд нар 1,200 төлөөлөгчтэйгөөр анхны хурлаа хийсэн. Анх 801 хүн гарын үсэг зурснаар байгуулагдсан байсан нам одоо 24 мянган гишүүнээ үнэмлэхжүүлсэн, 50 гаруй мянган дэмжигчтэй, өдөр тутмын үйл ажиллагаагаа академик түвшинд явуулж байгаа улс төрийн хүчин болоод байна.Энэ намын анхны дарга Ж.Батзандан АН-д орж буйгаа мэдэгдсэн. Тэр бол хувь хүний сонголт. Цөөн хэдэн хүн улс төрийн өөр нам, хүчинтэй хамтрах боломжтой гэж хэлснээр 24 мянган гишүүн болон олон зуун мянган дэмжигчийн итгэлийн өөрчилнө гэж байхгүй.МАНАН-гийн эсрэг гэчхээд буцаад МАНАН-тай нэгдэж байгаа хүмүүстэй бид агаар хуваалцах боломжгүй. Бид хувь хүнтэй асуудлыг буруушаахгүй. Харин нийгэмд болохгүй байгаа зүйлийг засахын төлөө сэхээтнүүд, улс төрийн нам, хүчний төлөөллүүдтэй хамтарч үйл ажиллагаагаа явуулж байгаа.ШИНЭ намын даргын хувиар хэлэхэд ганц хоёрхон хүн биднийг төлөөлөхгүй. ШИНЭ нам бүтэн, цул хэвээрээ\\xa0байгаа учраас 2024 оны сонгуульд амжилт гаргана гэж үзэж байгаа.Манай намаас гарсан гэгдэж байгаа хүмүүс өнөөдрийн байдлаар өргөдлөө өгөөгүй байна” гэлээ.МөнШИНЭ намын гишүүн Д.Жаргалсайхан“Ж.Батзандан үзэл санаа, итгэл үнэмшлээсээ урваж, анд нөхдөөсөө урваж байна. Ийм хүн ард түмний төлөө ажиллаж чадахгүй. Өдөр бүр хэдэн зуун залуу бидний үзэл санааг дэмждэгээ илэрхийлсээр байгаа” гэв.'"
      ]
     },
     "execution_count": 125,
     "metadata": {},
     "output_type": "execute_result"
    }
   ],
   "source": [
    "body"
   ]
  },
  {
   "cell_type": "markdown",
   "id": "44634e3b-f5ac-4de6-ad79-3794bb228afb",
   "metadata": {},
   "source": [
    "### Scraping multiple articles"
   ]
  },
  {
   "cell_type": "code",
   "execution_count": 126,
   "id": "7f6e5f7e-0c77-4d3e-a692-02228791d3dd",
   "metadata": {},
   "outputs": [],
   "source": [
    "article_titles = []\n",
    "article_bodies = []\n",
    "for url in full_ikon_urls:\n",
    "    response = requests.get(url)\n",
    "    soup = BeautifulSoup(response.content)\n",
    "    article_title = soup.find('h1').get_text(strip=True)\n",
    "    article_paragraphs = soup.find_all('p')\n",
    "    body = \"\"\n",
    "    for paragraph in article_paragraphs:\n",
    "        paragraph = paragraph.get_text(strip=True)\n",
    "        body = body + paragraph\n",
    "    article_titles.append(article_title)\n",
    "    article_bodies.append(body)"
   ]
  },
  {
   "cell_type": "code",
   "execution_count": 127,
   "id": "8e87ac36-116d-4da1-9fa1-4b49efd01899",
   "metadata": {},
   "outputs": [],
   "source": [
    "df = pd.DataFrame({'article url': full_ikon_urls, 'title': article_titles, 'article': article_bodies})"
   ]
  },
  {
   "cell_type": "code",
   "execution_count": 128,
   "id": "7298883f-773c-4843-8e64-fb980e1f34bc",
   "metadata": {},
   "outputs": [
    {
     "data": {
      "text/html": [
       "<div>\n",
       "<style scoped>\n",
       "    .dataframe tbody tr th:only-of-type {\n",
       "        vertical-align: middle;\n",
       "    }\n",
       "\n",
       "    .dataframe tbody tr th {\n",
       "        vertical-align: top;\n",
       "    }\n",
       "\n",
       "    .dataframe thead th {\n",
       "        text-align: right;\n",
       "    }\n",
       "</style>\n",
       "<table border=\"1\" class=\"dataframe\">\n",
       "  <thead>\n",
       "    <tr style=\"text-align: right;\">\n",
       "      <th></th>\n",
       "      <th>article url</th>\n",
       "      <th>title</th>\n",
       "      <th>article</th>\n",
       "    </tr>\n",
       "  </thead>\n",
       "  <tbody>\n",
       "    <tr>\n",
       "      <th>0</th>\n",
       "      <td>https://ikon.mn/n/354p</td>\n",
       "      <td>Өнгөрсөн сард улсын хэмжээнд 10.5 сая тонн ача...</td>\n",
       "      <td>Зам тээврийн салбар энэ оны дөрөвдүгээр сард у...</td>\n",
       "    </tr>\n",
       "    <tr>\n",
       "      <th>1</th>\n",
       "      <td>https://ikon.mn/n/354o</td>\n",
       "      <td>Шатахуун түгээхийн болон түргэн тусламжийн маш...</td>\n",
       "      <td>Хан-Уул дүүргийн нутаг дэвсгэрт шатахуун түгээ...</td>\n",
       "    </tr>\n",
       "    <tr>\n",
       "      <th>2</th>\n",
       "      <td>https://ikon.mn/n/354k</td>\n",
       "      <td>Монголын хөлбөмбөгийн шигшээ баг Азийн АШТ-ий ...</td>\n",
       "      <td>2027 онд Саудын Араб улсад зохион байгуулагдах...</td>\n",
       "    </tr>\n",
       "    <tr>\n",
       "      <th>3</th>\n",
       "      <td>https://ikon.mn/n/354m</td>\n",
       "      <td>Цэцэг төвийн уулзварын зам засварын ажил марга...</td>\n",
       "      <td>Цэцэг төвийн уулзвараас Цаг уур, орчны шинжилг...</td>\n",
       "    </tr>\n",
       "    <tr>\n",
       "      <th>4</th>\n",
       "      <td>https://ikon.mn/n/354h</td>\n",
       "      <td>\"Монголбанкны эх үүсвэрээр орон сууц авч буй и...</td>\n",
       "      <td>Ипотекийн зээлийн үндсэн шалгуур болон зээл ол...</td>\n",
       "    </tr>\n",
       "    <tr>\n",
       "      <th>5</th>\n",
       "      <td>https://ikon.mn/n/354e</td>\n",
       "      <td>\"207-р байрны галд өртсөн найман хувийг засуул...</td>\n",
       "      <td>Газын дэлбэрэлтэд өртсөн 207 дугаар байрны орш...</td>\n",
       "    </tr>\n",
       "    <tr>\n",
       "      <th>6</th>\n",
       "      <td>https://ikon.mn/n/354l</td>\n",
       "      <td>“Grow with Google Mongolia” хөтөлбөрийн дэмжиг...</td>\n",
       "      <td>Монгол Улсад анх удаа хэрэгжүүлж буй “Grow wit...</td>\n",
       "    </tr>\n",
       "    <tr>\n",
       "      <th>7</th>\n",
       "      <td>https://ikon.mn/n/354j</td>\n",
       "      <td>Хуримтлалын сангийн дансанд өнөөдөр Эрдэнэт, О...</td>\n",
       "      <td>Үндэсний баялгийн сангийн тухай хууль хэрэгжиж...</td>\n",
       "    </tr>\n",
       "    <tr>\n",
       "      <th>8</th>\n",
       "      <td>https://ikon.mn/n/354i</td>\n",
       "      <td>Буудлагын Дэлхийн цомын тэмцээнд О.Есүгэн найм...</td>\n",
       "      <td>Азербайжаны нийслэл Баку хотноо буудлагын Дэлх...</td>\n",
       "    </tr>\n",
       "    <tr>\n",
       "      <th>9</th>\n",
       "      <td>https://ikon.mn/n/354g</td>\n",
       "      <td>Бороотой үеэр Сүхбаатар дүүргийн ногоон байгуу...</td>\n",
       "      <td>Өнөөдөр өглөө бороотой байсан ч Сүхбаатар дүүр...</td>\n",
       "    </tr>\n",
       "    <tr>\n",
       "      <th>10</th>\n",
       "      <td>https://ikon.mn/n/3539</td>\n",
       "      <td>ЭМГЭНЭЛ: Лувсанцэрэнгийн Чулуунбаатар (1939-2024)</td>\n",
       "      <td>Лувсанцэрэнгийн Чулуунбаатар(1939-2024)Бидний ...</td>\n",
       "    </tr>\n",
       "    <tr>\n",
       "      <th>11</th>\n",
       "      <td>https://ikon.mn/n/354f</td>\n",
       "      <td>Манай улс энэ оны эхний дөрвөн сард 10 сая шир...</td>\n",
       "      <td>Монгол Улс 2024 оны эхний дөрвөн сард нийт 3.4...</td>\n",
       "    </tr>\n",
       "    <tr>\n",
       "      <th>12</th>\n",
       "      <td>https://ikon.mn/n/354d</td>\n",
       "      <td>Бороо орох үед замын түгжрэл яагаад нэмэгддэг вэ</td>\n",
       "      <td>Замын хөдөлгөөнд оролцож байгаа жолооч нар бор...</td>\n",
       "    </tr>\n",
       "    <tr>\n",
       "      <th>13</th>\n",
       "      <td>https://ikon.mn/n/354c</td>\n",
       "      <td>Яллагдагч Р.Базарт авсан цагдан хорих таслан с...</td>\n",
       "      <td>Баянгол дүүргийн Эрүүгийн хэргийн анхан шатны ...</td>\n",
       "    </tr>\n",
       "    <tr>\n",
       "      <th>14</th>\n",
       "      <td>https://ikon.mn/n/354a</td>\n",
       "      <td>Б.Ганбат: Нарны замын өнгөт тэмдэглэгээ бороон...</td>\n",
       "      <td>Нарны замын зорчих хэсгийн асфальт бетон хучил...</td>\n",
       "    </tr>\n",
       "    <tr>\n",
       "      <th>15</th>\n",
       "      <td>https://ikon.mn/n/354b</td>\n",
       "      <td>Б.Баярмагнай: Мөнгөтэй нь цэргийн албанаас чөл...</td>\n",
       "      <td>2024 оны нэгдүгээр ээлжийн цэрэг татлага нийсл...</td>\n",
       "    </tr>\n",
       "    <tr>\n",
       "      <th>16</th>\n",
       "      <td>https://ikon.mn/n/3549</td>\n",
       "      <td>Тавдугаар сарын 11-нд БҮХ НИЙТЭЭР МОД ТАРИХ өд...</td>\n",
       "      <td>“Тэрбум мод” үндэсний хөдөлгөөний хүрээнд зохи...</td>\n",
       "    </tr>\n",
       "    <tr>\n",
       "      <th>17</th>\n",
       "      <td>https://ikon.mn/n/3548</td>\n",
       "      <td>Ц.Гантулга: МАНАН-гийн эсрэг гэчхээд буцаад МА...</td>\n",
       "      <td>УИХ-ын гишүүн асан Ж.Батзандан ШИНЭ намаас гар...</td>\n",
       "    </tr>\n",
       "    <tr>\n",
       "      <th>18</th>\n",
       "      <td>https://ikon.mn/n/3546</td>\n",
       "      <td>Г.Дамдинням: Англи хэлийг бага ангиас нь заасн...</td>\n",
       "      <td>УИХ-ын гишүүн Г.Дамдинням Төв аймгийн Цээл, Уг...</td>\n",
       "    </tr>\n",
       "    <tr>\n",
       "      <th>19</th>\n",
       "      <td>https://ikon.mn/n/3545</td>\n",
       "      <td>ФОТО: Нийслэлийн 2023 оны \"ШИЛДЭГ ТАТВАР ТӨЛӨГ...</td>\n",
       "      <td>Тавдугаар сарын хоёр дахь долоо хоногийг “Татв...</td>\n",
       "    </tr>\n",
       "  </tbody>\n",
       "</table>\n",
       "</div>"
      ],
      "text/plain": [
       "               article url                                              title  \\\n",
       "0   https://ikon.mn/n/354p  Өнгөрсөн сард улсын хэмжээнд 10.5 сая тонн ача...   \n",
       "1   https://ikon.mn/n/354o  Шатахуун түгээхийн болон түргэн тусламжийн маш...   \n",
       "2   https://ikon.mn/n/354k  Монголын хөлбөмбөгийн шигшээ баг Азийн АШТ-ий ...   \n",
       "3   https://ikon.mn/n/354m  Цэцэг төвийн уулзварын зам засварын ажил марга...   \n",
       "4   https://ikon.mn/n/354h  \"Монголбанкны эх үүсвэрээр орон сууц авч буй и...   \n",
       "5   https://ikon.mn/n/354e  \"207-р байрны галд өртсөн найман хувийг засуул...   \n",
       "6   https://ikon.mn/n/354l  “Grow with Google Mongolia” хөтөлбөрийн дэмжиг...   \n",
       "7   https://ikon.mn/n/354j  Хуримтлалын сангийн дансанд өнөөдөр Эрдэнэт, О...   \n",
       "8   https://ikon.mn/n/354i  Буудлагын Дэлхийн цомын тэмцээнд О.Есүгэн найм...   \n",
       "9   https://ikon.mn/n/354g  Бороотой үеэр Сүхбаатар дүүргийн ногоон байгуу...   \n",
       "10  https://ikon.mn/n/3539  ЭМГЭНЭЛ: Лувсанцэрэнгийн Чулуунбаатар (1939-2024)   \n",
       "11  https://ikon.mn/n/354f  Манай улс энэ оны эхний дөрвөн сард 10 сая шир...   \n",
       "12  https://ikon.mn/n/354d   Бороо орох үед замын түгжрэл яагаад нэмэгддэг вэ   \n",
       "13  https://ikon.mn/n/354c  Яллагдагч Р.Базарт авсан цагдан хорих таслан с...   \n",
       "14  https://ikon.mn/n/354a  Б.Ганбат: Нарны замын өнгөт тэмдэглэгээ бороон...   \n",
       "15  https://ikon.mn/n/354b  Б.Баярмагнай: Мөнгөтэй нь цэргийн албанаас чөл...   \n",
       "16  https://ikon.mn/n/3549  Тавдугаар сарын 11-нд БҮХ НИЙТЭЭР МОД ТАРИХ өд...   \n",
       "17  https://ikon.mn/n/3548  Ц.Гантулга: МАНАН-гийн эсрэг гэчхээд буцаад МА...   \n",
       "18  https://ikon.mn/n/3546  Г.Дамдинням: Англи хэлийг бага ангиас нь заасн...   \n",
       "19  https://ikon.mn/n/3545  ФОТО: Нийслэлийн 2023 оны \"ШИЛДЭГ ТАТВАР ТӨЛӨГ...   \n",
       "\n",
       "                                              article  \n",
       "0   Зам тээврийн салбар энэ оны дөрөвдүгээр сард у...  \n",
       "1   Хан-Уул дүүргийн нутаг дэвсгэрт шатахуун түгээ...  \n",
       "2   2027 онд Саудын Араб улсад зохион байгуулагдах...  \n",
       "3   Цэцэг төвийн уулзвараас Цаг уур, орчны шинжилг...  \n",
       "4   Ипотекийн зээлийн үндсэн шалгуур болон зээл ол...  \n",
       "5   Газын дэлбэрэлтэд өртсөн 207 дугаар байрны орш...  \n",
       "6   Монгол Улсад анх удаа хэрэгжүүлж буй “Grow wit...  \n",
       "7   Үндэсний баялгийн сангийн тухай хууль хэрэгжиж...  \n",
       "8   Азербайжаны нийслэл Баку хотноо буудлагын Дэлх...  \n",
       "9   Өнөөдөр өглөө бороотой байсан ч Сүхбаатар дүүр...  \n",
       "10  Лувсанцэрэнгийн Чулуунбаатар(1939-2024)Бидний ...  \n",
       "11  Монгол Улс 2024 оны эхний дөрвөн сард нийт 3.4...  \n",
       "12  Замын хөдөлгөөнд оролцож байгаа жолооч нар бор...  \n",
       "13  Баянгол дүүргийн Эрүүгийн хэргийн анхан шатны ...  \n",
       "14  Нарны замын зорчих хэсгийн асфальт бетон хучил...  \n",
       "15  2024 оны нэгдүгээр ээлжийн цэрэг татлага нийсл...  \n",
       "16  “Тэрбум мод” үндэсний хөдөлгөөний хүрээнд зохи...  \n",
       "17  УИХ-ын гишүүн асан Ж.Батзандан ШИНЭ намаас гар...  \n",
       "18  УИХ-ын гишүүн Г.Дамдинням Төв аймгийн Цээл, Уг...  \n",
       "19  Тавдугаар сарын хоёр дахь долоо хоногийг “Татв...  "
      ]
     },
     "execution_count": 128,
     "metadata": {},
     "output_type": "execute_result"
    }
   ],
   "source": [
    "df"
   ]
  },
  {
   "cell_type": "code",
   "execution_count": 130,
   "id": "d8a1abc2-8a16-4fd6-a07f-a8a8bcc8ab43",
   "metadata": {},
   "outputs": [],
   "source": [
    "df.to_csv(\"ikonrecent.csv\")"
   ]
  },
  {
   "cell_type": "markdown",
   "id": "e0d5e34d-cdc2-42cd-9f51-eb6c169999c0",
   "metadata": {},
   "source": [
    "## Yahoo Sports\n",
    "For Sports related news, I will be scraping yahoo sports."
   ]
  },
  {
   "cell_type": "code",
   "execution_count": 74,
   "id": "6fd6d548-92e5-40b5-b8fa-008c1dbb66a2",
   "metadata": {},
   "outputs": [],
   "source": [
    "response = requests.get(\"https://sports.yahoo.com/nba/news/\") #nba"
   ]
  },
  {
   "cell_type": "code",
   "execution_count": null,
   "id": "bb7f2226-18ca-4fd2-a036-ef47f0acfdf9",
   "metadata": {},
   "outputs": [],
   "source": [
    "response = requests.get(\"https://sports.yahoo.com/soccer/news/\") #soccer"
   ]
  },
  {
   "cell_type": "code",
   "execution_count": 75,
   "id": "151d34f3-5bd5-4d82-8265-7494b147db92",
   "metadata": {},
   "outputs": [],
   "source": [
    "soup = BeautifulSoup(response.content)"
   ]
  },
  {
   "cell_type": "code",
   "execution_count": 76,
   "id": "e91624a2-39d0-41d7-a5cb-3e203610ac3c",
   "metadata": {},
   "outputs": [],
   "source": [
    "sports_links = soup.find_all(\"li\",{\"class\":\"stream-item js-stream-content Bgc(t) Pos(r) Mb(24px)\"})"
   ]
  },
  {
   "cell_type": "code",
   "execution_count": 79,
   "id": "70a857a6-5b7b-416e-86a5-5aaf1ea7a1e9",
   "metadata": {},
   "outputs": [],
   "source": [
    "time = sports_links[0].find(\"time\").get_text(strip=True)"
   ]
  },
  {
   "cell_type": "code",
   "execution_count": 78,
   "id": "8fdc3741-404d-4852-98d0-60c77f7b9c3f",
   "metadata": {},
   "outputs": [],
   "source": [
    "sports_urls = []\n",
    "for link in sports_links:\n",
    "    time = link.find(\"time\").get_text(strip=True)\n",
    "    if \"h\" in time:\n",
    "        sports_a = link.find(\"a\",{\"class\":\"stream-title D(b) Td(n) Td(n):f C(--batcave) C($streamBrandHoverClass):h C($streamBrandHoverClass):fv\"})\n",
    "        sports_url = sports_a.get('href')\n",
    "        sports_urls.append(sports_url)"
   ]
  },
  {
   "cell_type": "code",
   "execution_count": 81,
   "id": "9ea867dc-2e4c-436b-9931-d399a1dc6e18",
   "metadata": {
    "collapsed": true,
    "jupyter": {
     "outputs_hidden": true
    }
   },
   "outputs": [
    {
     "data": {
      "text/plain": [
       "['https://sports.yahoo.com/nba-suspends-bucks-patrick-beverley-4-games-for-throwing-ball-at-fans-kicking-reporter-out-of-interview-180830598.html',\n",
       " 'https://sports.yahoo.com/former-nba-player-glen-davis-sentenced-to-40-months-in-prison-for-involvement-in-healthcare-fraud-scheme-190328457.html',\n",
       " 'https://sports.yahoo.com/is-pacers-coach-rick-carlisle-right-to-be-upset-about-officiating-in-knicks-series-and-a-big-market-bias-170107831.html',\n",
       " 'https://sports.yahoo.com/how-the-deep-bond-between-nikola-jokic-and-aaron-gordon-has-shaped-the-nuggets-155932618.html',\n",
       " 'https://sports.yahoo.com/brooklyn-nets-2024-nba-offseason-preview-path-to-improvement-wont-be-easy-150601520.html',\n",
       " 'https://sports.yahoo.com/utah-jazz-2024-nba-offseason-preview-time-for-the-franchise-to-decide-on-a-direction-150547141.html',\n",
       " 'https://sports.yahoo.com/pacers-reportedly-send-nba-78-missed-calls-by-officials-during-games-1-and-2-vs-knicks-133834024.html',\n",
       " 'https://sports.yahoo.com/charlotte-hornets-hire-boston-celtics-assistant-charles-lee-as-new-head-coach-130302698.html',\n",
       " 'https://sports.yahoo.com/inside-the-night-jalen-brunson-pulled-a-willis-reed-to-lift-the-knicks-to-an-improbable-win-114411884.html',\n",
       " 'https://sports.yahoo.com/nba-playoffs-jalen-brunson-after-early-injury-scare-leads-knicks-past-pacers-for-game-2-win-023306270.html',\n",
       " 'https://sports.yahoo.com/nuggets-star-nikola-jokic-wins-third-nba-mvp-in-four-seasons-placing-him-alongside-all-time-greats-233405189.html',\n",
       " 'https://sports.yahoo.com/nikola-jokic-now-a-three-time-mvp-is-an-all-time-great-facing-his-greatest-challenge-yet-233415878.html',\n",
       " 'https://sports.yahoo.com/nuggets-star-jamal-murray-takes-full-responsibility-for-throwing-heat-pack-towel-on-court-in-game-2-loss-232925368.html',\n",
       " 'https://sports.yahoo.com/report-indianapolis-police-investigating-bucks-patrick-beverley-after-incident-with-fans-in-game-6-loss-to-pacers-215435203.html']"
      ]
     },
     "execution_count": 81,
     "metadata": {},
     "output_type": "execute_result"
    }
   ],
   "source": [
    "sports_urls"
   ]
  },
  {
   "cell_type": "markdown",
   "id": "960c7961-6c03-4ce8-83aa-21048f417392",
   "metadata": {},
   "source": [
    "### Scraping a single article"
   ]
  },
  {
   "cell_type": "code",
   "execution_count": 82,
   "id": "305c5d37-9575-4d93-af96-c55a77356ed6",
   "metadata": {},
   "outputs": [],
   "source": [
    "response = requests.get('https://sports.yahoo.com/nba-suspends-bucks-patrick-beverley-4-games-for-throwing-ball-at-fans-kicking-reporter-out-of-interview-180830598.html')"
   ]
  },
  {
   "cell_type": "code",
   "execution_count": 83,
   "id": "80de9836-df0e-4ee3-9389-7e375fe4d129",
   "metadata": {},
   "outputs": [],
   "source": [
    "soup = BeautifulSoup(response.content)"
   ]
  },
  {
   "cell_type": "code",
   "execution_count": 84,
   "id": "b1cfdc05-9679-44ea-8053-bc8c961f254d",
   "metadata": {},
   "outputs": [],
   "source": [
    "article_title = soup.find('h1').get_text(strip=True)"
   ]
  },
  {
   "cell_type": "code",
   "execution_count": 85,
   "id": "0c28743c-1f6e-462f-a8e1-c03ac6ebf68f",
   "metadata": {},
   "outputs": [],
   "source": [
    "article_paragraphs = soup.find_all('p')"
   ]
  },
  {
   "cell_type": "code",
   "execution_count": 86,
   "id": "1ba98708-45b2-4bc5-b632-4724a5e2db7e",
   "metadata": {},
   "outputs": [],
   "source": [
    "body = \"\"\n",
    "for paragraph in article_paragraphs:\n",
    "    paragraph = paragraph.get_text(strip=True)\n",
    "    body = body + paragraph"
   ]
  },
  {
   "cell_type": "code",
   "execution_count": 87,
   "id": "1ad43a6b-4f5c-4611-98fb-59deb3acdb9d",
   "metadata": {
    "collapsed": true,
    "jupyter": {
     "outputs_hidden": true
    }
   },
   "outputs": [
    {
     "data": {
      "text/plain": [
       "'Patrick Beverleyof theMilwaukee Buckshas been suspendedfour games without pay by the NBAfor throwing a basketball at fans and for his interaction with an ESPN reporter after Game 6 of their first-round series against theIndiana Pacers.In the final minutes of the Bucks’ Game 6 loss to the Pacers, whichclosed out the seriesand sent the Pacers into the Eastern Conference semifinals,Beverley was seen throwing a balltoward Pacers fans and hitting a woman in the head. Beverley then waved at a different fan to throw the ball back to him, which he did, and then Beverley chucked the ball right back at him hard.Beverley kept jawing with fans behind their bench before teammates and others defused the situation. He was not ejected from the game, but he didn’t return. The Bucks were down by 20 points at the time.altercation between pat bev and pacers fans behind the benchpic.twitter.com/dfQpqSBv33— Rob Perez (@WorldWideWob)May 3, 2024\"It\\'s an unfortunate situation that should have never happened. What I did was bad and that should have never happened. I have to be better and I will be better,\"Beverley said on his podcast this week.Beverley added that he reacted that way because of what was said to him by fans.\\'\\'Regardless of what was said ... it was more than, \\'Cancun on three,\\'\" Beverley said. \"Let\\'s just say it was more than that. I\\'ve been called a lot of stuff in this league, I haven\\'t been called that one. Still inexcusable, it doesn\\'t matter what was said. I have to be better and I will be better.\"Indianapolispolice are investigating the ball-throwing incidentbetween Beverley and the Pacers fans.Detectives confirmed the investigation to The Athletic on Wednesday, and said they are reviewing video footage from Gainbridge Fieldhouse and plan to speak with all parties. It’s unclear if they will pursue any criminal charges.The other reason Beverley is being suspended is because after the game,he refused to answer questionsfrom ESPN’s Malinda Adams in a media scrum because she didn’t subscribe to his podcast.Patrick Beverly tells female reporter from ESPN that she cannot interview him since she doesn\\'t subscribe to his podcast.pic.twitter.com/sRFHiZJaSK— Alex Golden (@AlexGoldenNBA)May 3, 2024Beverley defended himself, saying on his podcast he\\'s done that with other reporters in the past. But when he saw the clip go viral and criticism come his way, he reached out to Adams.\"I\\'ve done that since I had a podcast,\" Beverley said of the interaction. \"...I instantly get her number, I call her. Ain\\'t nobody tell me to call her. Like, I literally find her number, call her number, like, \\'Hey, I know you probably getting a lot of people reaching out to you and I apologize about that. It was never my intent to disrespect you.\\' We got on the phone we laughed about it.\"Beverley, who is an unrestricted free agent this summer, will serve his four-game suspension next season.Patrick Beverley threw a ball at Pacers fans multiple times in the final minutes of the Bucks\\' Game 6 loss earlier this month.The Pacers identified 29 plays from Game 1 and 49 plays from Game 2 they did not agree with.Jalen Brunson briefly went down with a foot injury in the first half on Wednesday night, and then returned to power the Knicks to a 2-0 series lead.Jalen Brunson scored 43 points, leading the New York Knicks to a 121–117 win over the Indiana Pacers in Game 1 of their second-round NBA playoff series.Vincent Goodwill and The Athletic’s Fred Katz talk through the Cavaliers game 7 win on Sunday, the offseason ahead of the Magic (and Lakers) and preview the Knicks / Pacers 2nd round series.The Bucks will be without Giannis Antetokounmpo and Damian Lillard for an elimination game on Tuesday night.Damian Lillard is doubtful to play in Game 4 of the Milwaukee Bucks\\' first-round NBA playoff series with the Indiana Pacers. Lillard suffered an Achilles injury on a drive to the basket in Game 3.Tyrese Haliburton hit a floater with 1.1 seconds left in overtime to give the Indiana Pacers a 121–118 win over the Milwaukee Bucks. The Pacers lead their first-round playoff series two games to one.Pascal Siakam droped 37 points to help the Pacers fend off Damian Lillard and tie up their playoff series 1-1.Welcome back to the playoffs, Damian Lillard.Frank Vogel\\'s out after one season in Phoenix failed to produce a playoff win.Jason Fitz, Charles Robinson and Frank Schwab talk about which quarterback rooms concern them and which they find interesting heading into the 2024 NFL season.The gambling scandal involving Shohei Ohtani\\'s interpreter, Ippei Mizuhara, who stole $17 million from the superstar to cover betting losses is in development as a TV series.The 2024 Yankees have rediscovered their bravado and hold the second-best record in the AL, thanks in large part to the superstar outfielder.A disappointing April led Carroll and his Diamondbacks coaches to reexamine his swing mechanics and get back to his strengths.The pair has been a perfect fit on the court, but it’s away from the game where the dynamic duo’s friendship was really forged.Keefe took over from Mike Babcock in November 2019.As modern media becomes more niche driven, teams and even leagues have to balance whether to seek the biggest TV contracts or the biggest potential audience.As part of a new proposal, power conference leaders are considering reducing football rosters from more than 115 to as few as 85 players.The Charlotte Hornets announced on Thursday morning that it hired Boston Celtics assistant Charles Lee, who will join the team once Boston\\'s playoff run is complete.'"
      ]
     },
     "execution_count": 87,
     "metadata": {},
     "output_type": "execute_result"
    }
   ],
   "source": [
    "body"
   ]
  },
  {
   "cell_type": "markdown",
   "id": "34a0f2b7-50ff-4c7f-9eea-59c612c08cd0",
   "metadata": {},
   "source": [
    "### Scraping multiple articles"
   ]
  },
  {
   "cell_type": "code",
   "execution_count": 88,
   "id": "9e51827b-4892-445a-af8d-8789fc264df4",
   "metadata": {},
   "outputs": [],
   "source": [
    "article_titles = []\n",
    "article_bodies = []\n",
    "for url in sports_urls:\n",
    "    response = requests.get(url)\n",
    "    soup = BeautifulSoup(response.content)\n",
    "    article_title = soup.find('h1').get_text(strip=True)\n",
    "    article_paragraphs = soup.find_all('p')\n",
    "    body = \"\"\n",
    "    for paragraph in article_paragraphs:\n",
    "        paragraph = paragraph.get_text(strip=True)\n",
    "        body = body + paragraph\n",
    "    article_titles.append(article_title)\n",
    "    article_bodies.append(body)"
   ]
  },
  {
   "cell_type": "code",
   "execution_count": 89,
   "id": "2477142b-251f-48da-bcce-22f729c4a6b7",
   "metadata": {},
   "outputs": [],
   "source": [
    "df = pd.DataFrame({'article url': sports_urls, 'title': article_titles, 'article': article_bodies})"
   ]
  },
  {
   "cell_type": "code",
   "execution_count": 90,
   "id": "f24ce3d1-4ab0-4962-8091-24ce73614b77",
   "metadata": {},
   "outputs": [
    {
     "data": {
      "text/html": [
       "<div>\n",
       "<style scoped>\n",
       "    .dataframe tbody tr th:only-of-type {\n",
       "        vertical-align: middle;\n",
       "    }\n",
       "\n",
       "    .dataframe tbody tr th {\n",
       "        vertical-align: top;\n",
       "    }\n",
       "\n",
       "    .dataframe thead th {\n",
       "        text-align: right;\n",
       "    }\n",
       "</style>\n",
       "<table border=\"1\" class=\"dataframe\">\n",
       "  <thead>\n",
       "    <tr style=\"text-align: right;\">\n",
       "      <th></th>\n",
       "      <th>article url</th>\n",
       "      <th>title</th>\n",
       "      <th>article</th>\n",
       "    </tr>\n",
       "  </thead>\n",
       "  <tbody>\n",
       "    <tr>\n",
       "      <th>0</th>\n",
       "      <td>https://sports.yahoo.com/nba-suspends-bucks-pa...</td>\n",
       "      <td>NBA suspends Bucks' Patrick Beverley 4 games f...</td>\n",
       "      <td>Patrick Beverleyof theMilwaukee Buckshas been ...</td>\n",
       "    </tr>\n",
       "    <tr>\n",
       "      <th>1</th>\n",
       "      <td>https://sports.yahoo.com/former-nba-player-gle...</td>\n",
       "      <td>Former NBA player Glen Davis sentenced to 40 m...</td>\n",
       "      <td>Former NBA player Glen Davis was sentenced to ...</td>\n",
       "    </tr>\n",
       "    <tr>\n",
       "      <th>2</th>\n",
       "      <td>https://sports.yahoo.com/is-pacers-coach-rick-...</td>\n",
       "      <td>Is Pacers coach Rick Carlisle right to be upse...</td>\n",
       "      <td>It wouldn’t be the playoffs we know and love w...</td>\n",
       "    </tr>\n",
       "    <tr>\n",
       "      <th>3</th>\n",
       "      <td>https://sports.yahoo.com/how-the-deep-bond-bet...</td>\n",
       "      <td>How the deep bond between Nikola Jokić and Aar...</td>\n",
       "      <td>One day, afterDenverclimbed the NBA’s rocky mo...</td>\n",
       "    </tr>\n",
       "    <tr>\n",
       "      <th>4</th>\n",
       "      <td>https://sports.yahoo.com/brooklyn-nets-2024-nb...</td>\n",
       "      <td>Brooklyn Nets 2024 NBA offseason preview: Path...</td>\n",
       "      <td>2023-24 season:32-50Highlight of the season:In...</td>\n",
       "    </tr>\n",
       "    <tr>\n",
       "      <th>5</th>\n",
       "      <td>https://sports.yahoo.com/utah-jazz-2024-nba-of...</td>\n",
       "      <td>Utah Jazz 2024 NBA offseason preview: Time for...</td>\n",
       "      <td>2023-2024 season:31-51Highlight of the season:...</td>\n",
       "    </tr>\n",
       "    <tr>\n",
       "      <th>6</th>\n",
       "      <td>https://sports.yahoo.com/pacers-reportedly-sen...</td>\n",
       "      <td>Pacers reportedly send NBA 78 missed calls by ...</td>\n",
       "      <td>Officiating complaints from theIndiana Pacers'...</td>\n",
       "    </tr>\n",
       "    <tr>\n",
       "      <th>7</th>\n",
       "      <td>https://sports.yahoo.com/charlotte-hornets-hir...</td>\n",
       "      <td>Charlotte Hornets hire Boston Celtics assistan...</td>\n",
       "      <td>TheCharlotte Hornetshave found their new head ...</td>\n",
       "    </tr>\n",
       "    <tr>\n",
       "      <th>8</th>\n",
       "      <td>https://sports.yahoo.com/inside-the-night-jale...</td>\n",
       "      <td>Inside the night Jalen Brunson pulled a Willis...</td>\n",
       "      <td>NEW YORK — For a man not particularly given to...</td>\n",
       "    </tr>\n",
       "    <tr>\n",
       "      <th>9</th>\n",
       "      <td>https://sports.yahoo.com/nba-playoffs-jalen-br...</td>\n",
       "      <td>NBA playoffs: Jalen Brunson, after early injur...</td>\n",
       "      <td>TheIndiana Pacersseemed poised to even up the ...</td>\n",
       "    </tr>\n",
       "    <tr>\n",
       "      <th>10</th>\n",
       "      <td>https://sports.yahoo.com/nuggets-star-nikola-j...</td>\n",
       "      <td>Nuggets star Nikola Jokić wins third NBA MVP i...</td>\n",
       "      <td>Denver NuggetscenterNikola Jokićwas named NBA ...</td>\n",
       "    </tr>\n",
       "    <tr>\n",
       "      <th>11</th>\n",
       "      <td>https://sports.yahoo.com/nikola-jokic-now-a-th...</td>\n",
       "      <td>Nikola Jokić, now a three-time MVP, is an all-...</td>\n",
       "      <td>Nikola Jokićis already in a special room, but ...</td>\n",
       "    </tr>\n",
       "    <tr>\n",
       "      <th>12</th>\n",
       "      <td>https://sports.yahoo.com/nuggets-star-jamal-mu...</td>\n",
       "      <td>Nuggets star Jamal Murray takes ‘full responsi...</td>\n",
       "      <td>Denver NuggetsstarJamal Murrayis clearly ready...</td>\n",
       "    </tr>\n",
       "    <tr>\n",
       "      <th>13</th>\n",
       "      <td>https://sports.yahoo.com/report-indianapolis-p...</td>\n",
       "      <td>Report: Indianapolis police investigating Buck...</td>\n",
       "      <td>Indianapolis police are investigating the inci...</td>\n",
       "    </tr>\n",
       "  </tbody>\n",
       "</table>\n",
       "</div>"
      ],
      "text/plain": [
       "                                          article url  \\\n",
       "0   https://sports.yahoo.com/nba-suspends-bucks-pa...   \n",
       "1   https://sports.yahoo.com/former-nba-player-gle...   \n",
       "2   https://sports.yahoo.com/is-pacers-coach-rick-...   \n",
       "3   https://sports.yahoo.com/how-the-deep-bond-bet...   \n",
       "4   https://sports.yahoo.com/brooklyn-nets-2024-nb...   \n",
       "5   https://sports.yahoo.com/utah-jazz-2024-nba-of...   \n",
       "6   https://sports.yahoo.com/pacers-reportedly-sen...   \n",
       "7   https://sports.yahoo.com/charlotte-hornets-hir...   \n",
       "8   https://sports.yahoo.com/inside-the-night-jale...   \n",
       "9   https://sports.yahoo.com/nba-playoffs-jalen-br...   \n",
       "10  https://sports.yahoo.com/nuggets-star-nikola-j...   \n",
       "11  https://sports.yahoo.com/nikola-jokic-now-a-th...   \n",
       "12  https://sports.yahoo.com/nuggets-star-jamal-mu...   \n",
       "13  https://sports.yahoo.com/report-indianapolis-p...   \n",
       "\n",
       "                                                title  \\\n",
       "0   NBA suspends Bucks' Patrick Beverley 4 games f...   \n",
       "1   Former NBA player Glen Davis sentenced to 40 m...   \n",
       "2   Is Pacers coach Rick Carlisle right to be upse...   \n",
       "3   How the deep bond between Nikola Jokić and Aar...   \n",
       "4   Brooklyn Nets 2024 NBA offseason preview: Path...   \n",
       "5   Utah Jazz 2024 NBA offseason preview: Time for...   \n",
       "6   Pacers reportedly send NBA 78 missed calls by ...   \n",
       "7   Charlotte Hornets hire Boston Celtics assistan...   \n",
       "8   Inside the night Jalen Brunson pulled a Willis...   \n",
       "9   NBA playoffs: Jalen Brunson, after early injur...   \n",
       "10  Nuggets star Nikola Jokić wins third NBA MVP i...   \n",
       "11  Nikola Jokić, now a three-time MVP, is an all-...   \n",
       "12  Nuggets star Jamal Murray takes ‘full responsi...   \n",
       "13  Report: Indianapolis police investigating Buck...   \n",
       "\n",
       "                                              article  \n",
       "0   Patrick Beverleyof theMilwaukee Buckshas been ...  \n",
       "1   Former NBA player Glen Davis was sentenced to ...  \n",
       "2   It wouldn’t be the playoffs we know and love w...  \n",
       "3   One day, afterDenverclimbed the NBA’s rocky mo...  \n",
       "4   2023-24 season:32-50Highlight of the season:In...  \n",
       "5   2023-2024 season:31-51Highlight of the season:...  \n",
       "6   Officiating complaints from theIndiana Pacers'...  \n",
       "7   TheCharlotte Hornetshave found their new head ...  \n",
       "8   NEW YORK — For a man not particularly given to...  \n",
       "9   TheIndiana Pacersseemed poised to even up the ...  \n",
       "10  Denver NuggetscenterNikola Jokićwas named NBA ...  \n",
       "11  Nikola Jokićis already in a special room, but ...  \n",
       "12  Denver NuggetsstarJamal Murrayis clearly ready...  \n",
       "13  Indianapolis police are investigating the inci...  "
      ]
     },
     "execution_count": 90,
     "metadata": {},
     "output_type": "execute_result"
    }
   ],
   "source": [
    "df"
   ]
  },
  {
   "cell_type": "markdown",
   "id": "5958a0e1-61af-466e-900b-d338c9620958",
   "metadata": {},
   "source": [
    "## Esports news\n",
    "For esports news, I will be scraping Esports Charts. Since chess news are slow, let's just take the last 10 articles."
   ]
  },
  {
   "cell_type": "code",
   "execution_count": 126,
   "id": "52ed518d-3192-4958-a26d-ce75b2e712b7",
   "metadata": {},
   "outputs": [],
   "source": [
    "response = requests.get(\"https://www.chess.com/news\")"
   ]
  },
  {
   "cell_type": "code",
   "execution_count": 127,
   "id": "659d92dc-a8ee-43cc-bae0-f7a1c15b4c22",
   "metadata": {},
   "outputs": [],
   "source": [
    "soup = BeautifulSoup(response.content)"
   ]
  },
  {
   "cell_type": "code",
   "execution_count": 128,
   "id": "bb3c5e1e-def2-45d5-9f1f-2c986343c08e",
   "metadata": {},
   "outputs": [
    {
     "data": {
      "text/plain": [
       "<Response [200]>"
      ]
     },
     "execution_count": 128,
     "metadata": {},
     "output_type": "execute_result"
    }
   ],
   "source": [
    "response"
   ]
  },
  {
   "cell_type": "code",
   "execution_count": 121,
   "id": "a52b0850-8f79-4af7-a2d0-b230f5bc7a3b",
   "metadata": {},
   "outputs": [],
   "source": [
    "chess_links = soup.find_all(\"a\",{\"class\":\"post-preview-title\"})"
   ]
  },
  {
   "cell_type": "code",
   "execution_count": 123,
   "id": "0ffdce7d-7c52-4c30-94e8-dd42ab6333b4",
   "metadata": {},
   "outputs": [
    {
     "data": {
      "text/plain": [
       "'https://www.chess.com/news/view/2024-superbet-poland-rapid-blitz-day-2'"
      ]
     },
     "execution_count": 123,
     "metadata": {},
     "output_type": "execute_result"
    }
   ],
   "source": [
    "chess_links[1].get('href')"
   ]
  },
  {
   "cell_type": "code",
   "execution_count": 129,
   "id": "d0ab73d9-2e6e-4b35-a8db-0265db173da9",
   "metadata": {},
   "outputs": [],
   "source": [
    "chess_urls = []\n",
    "for link in chess_links[:10]:\n",
    "    chess_url = link.get('href')\n",
    "    chess_urls.append(chess_url)"
   ]
  },
  {
   "cell_type": "code",
   "execution_count": 130,
   "id": "f59463c8-bf43-44e7-89c6-bbdfcd0d12df",
   "metadata": {},
   "outputs": [
    {
     "data": {
      "text/plain": [
       "['https://www.chess.com/news/view/2024-cct-chesscom-classic-day-2',\n",
       " 'https://www.chess.com/news/view/2024-superbet-poland-rapid-blitz-day-2',\n",
       " 'https://www.chess.com/news/view/2024-cct-chesscom-classic-day-1',\n",
       " 'https://www.chess.com/news/view/2024-superbet-poland-rapid-blitz-day-1',\n",
       " 'https://www.chess.com/news/view/le-carlsen-win-titled-tuesday-may-7-2024',\n",
       " 'https://www.chess.com/news/view/amateurs-mind-chessable',\n",
       " 'https://www.chess.com/news/view/thomas-mars-bot',\n",
       " 'https://www.chess.com/news/view/hikaru-nakamura-wins-bullet-brawl-may-4-2024',\n",
       " 'https://www.chess.com/news/view/fides-call-for-world-championship-bids-draws-reactions',\n",
       " 'https://www.chess.com/news/view/abdusattorov-wins-2024-tepe-sigeman-tournament']"
      ]
     },
     "execution_count": 130,
     "metadata": {},
     "output_type": "execute_result"
    }
   ],
   "source": [
    "chess_urls"
   ]
  },
  {
   "cell_type": "markdown",
   "id": "8fa74406-4d17-41c3-8b6f-e140c541acd0",
   "metadata": {},
   "source": [
    "### Scraping a single article"
   ]
  },
  {
   "cell_type": "code",
   "execution_count": 131,
   "id": "336ba15d-b0dd-444c-8fd3-0897b2254472",
   "metadata": {},
   "outputs": [],
   "source": [
    "response = requests.get('https://www.chess.com/news/view/2024-cct-chesscom-classic-day-2')"
   ]
  },
  {
   "cell_type": "code",
   "execution_count": 132,
   "id": "55f7e7ec-321d-47e1-8a0d-3bbfb5bdd4bd",
   "metadata": {},
   "outputs": [],
   "source": [
    "soup = BeautifulSoup(response.content)"
   ]
  },
  {
   "cell_type": "code",
   "execution_count": 133,
   "id": "0e325e96-cfbd-4d1d-b234-41417445c326",
   "metadata": {},
   "outputs": [],
   "source": [
    "article_title = soup.find('h1').get_text(strip=True)"
   ]
  },
  {
   "cell_type": "code",
   "execution_count": 149,
   "id": "f1b02a86-35b8-4446-b9c0-3a6eceb1cfca",
   "metadata": {},
   "outputs": [],
   "source": [
    "article_body = soup.find('div',{\"class\":\"post-view-content\"})"
   ]
  },
  {
   "cell_type": "code",
   "execution_count": 151,
   "id": "d651d044-18f0-4d2d-937c-e5d25e2e2075",
   "metadata": {},
   "outputs": [
    {
     "data": {
      "text/plain": [
       "\"This is a flash report. The full article will be added to this page soon.GMVelimir Ivichad the performance of a lifetime on day two of theChampions Chess Tour Chess.com Classic 2024. After surviving elimination from Division I thanks to a mouse slip by his opponent, he defeated GMMaxime Vachier-Lagravein armageddon—and then went on to send GMFabiano Caruanato Division II as well.Ivic is joined in Division I by GMsIan Nepomniachtchi,Jan-Krzysztof Duda,Alexey Sarana,Denis Lazavik, and the three pre-qualified players, GMsMagnus Carlsen,Alireza Firouzja, andVincent Keymer.In Division II Placement, six players won both of their matches. One player to keep an eye on is GMVidit Gujrathi, who after a difficultFIDE Candidates Tournamentand then a less-than-ideal performance in Wednesday's Play-in, has started to punch back.In Division III Placement, 20 players won their match (only one was played). GMLiem Leplayed two exceptional attacking games to eliminate GMChristopher Yoo. We will go over the second, in which he managed to promote a pawn in the middlegame. Also notable is GMHans Niemann's 3-0 clean sweep against GMDavid Anton.Day three begins onFriday, May 10, starting at 12:30 p.m. ET / 18:30 CEST / 10 p.m. IST.Division I BracketDivision I ResultsGMRafael Leitao's analysis will be added soon.You can find the full standings for Division II Placementhere.You can find the full standings for Division III Placementhere.How to watch?You can watch the2024 Chess.com ClassiconChess.com/TV. You can also enjoy the show on ourTwitch channeland catch all our live broadcasts onYouTube.com. Games from the event can be viewed on ourevents page.The live broadcast was hosted by GMDavid Howelland IMDanny Rensch.The 2024 Chess.com Classic is the second of the Champions Chess Tour's four events and determines one of the players who'll make it to the in-person CCT Finals. The event starts on May 8 at 12:30 p.m. ET/18:30 CEST/10 p.m. IST and features a $300,000 prize fund.Previous coverage:Day 1: Caruana Wins In Final Round To Take Sole 1st In Chess.com Classic Play-inChampions Chess Tour Returns With 2024 Chess.com Classic\""
      ]
     },
     "execution_count": 151,
     "metadata": {},
     "output_type": "execute_result"
    }
   ],
   "source": [
    "article_body.get_text(strip=True)"
   ]
  },
  {
   "cell_type": "markdown",
   "id": "e2404ec8-9c7c-45a9-a208-e8db1af574df",
   "metadata": {},
   "source": [
    "### Scraping multiple articles"
   ]
  },
  {
   "cell_type": "code",
   "execution_count": 152,
   "id": "e57e6e3a-c946-46ba-9500-fe00e4b35ab0",
   "metadata": {},
   "outputs": [],
   "source": [
    "article_titles = []\n",
    "article_bodies = []\n",
    "for url in chess_urls:\n",
    "    response = requests.get(url)\n",
    "    soup = BeautifulSoup(response.content)\n",
    "    article_title = soup.find('h1').get_text(strip=True)\n",
    "    article_body = soup.find('div',{\"class\":\"post-view-content\"})\n",
    "    article_titles.append(article_title)\n",
    "    article_bodies.append(article_body.get_text(strip=True))"
   ]
  },
  {
   "cell_type": "code",
   "execution_count": 153,
   "id": "3577ca70-285a-44f5-9dda-c5feb44f78cb",
   "metadata": {},
   "outputs": [],
   "source": [
    "df = pd.DataFrame({'article url': chess_urls, 'title': article_titles, 'article': article_bodies})"
   ]
  },
  {
   "cell_type": "code",
   "execution_count": 154,
   "id": "dfdc7e23-c8ca-45a3-8459-35e5e5a9d3fd",
   "metadata": {},
   "outputs": [
    {
     "data": {
      "text/html": [
       "<div>\n",
       "<style scoped>\n",
       "    .dataframe tbody tr th:only-of-type {\n",
       "        vertical-align: middle;\n",
       "    }\n",
       "\n",
       "    .dataframe tbody tr th {\n",
       "        vertical-align: top;\n",
       "    }\n",
       "\n",
       "    .dataframe thead th {\n",
       "        text-align: right;\n",
       "    }\n",
       "</style>\n",
       "<table border=\"1\" class=\"dataframe\">\n",
       "  <thead>\n",
       "    <tr style=\"text-align: right;\">\n",
       "      <th></th>\n",
       "      <th>article url</th>\n",
       "      <th>title</th>\n",
       "      <th>article</th>\n",
       "    </tr>\n",
       "  </thead>\n",
       "  <tbody>\n",
       "    <tr>\n",
       "      <th>0</th>\n",
       "      <td>https://www.chess.com/news/view/2024-cct-chess...</td>\n",
       "      <td>Vachier-Lagrave, Caruana, Wesley So Kicked Out...</td>\n",
       "      <td>This is a flash report. The full article will ...</td>\n",
       "    </tr>\n",
       "    <tr>\n",
       "      <th>1</th>\n",
       "      <td>https://www.chess.com/news/view/2024-superbet-...</td>\n",
       "      <td>Carlsen Lets Gukesh Escape, Leads With Wei Yi</td>\n",
       "      <td>GMMagnus Carlsencame within a whisker of beati...</td>\n",
       "    </tr>\n",
       "    <tr>\n",
       "      <th>2</th>\n",
       "      <td>https://www.chess.com/news/view/2024-cct-chess...</td>\n",
       "      <td>Caruana Wins In Final Round To Take Sole 1st I...</td>\n",
       "      <td>GMFabiano Caruanafinished first in the Play-in...</td>\n",
       "    </tr>\n",
       "    <tr>\n",
       "      <th>3</th>\n",
       "      <td>https://www.chess.com/news/view/2024-superbet-...</td>\n",
       "      <td>Shevchenko Leads Carlsen And Abdusattorov Afte...</td>\n",
       "      <td>GMKirill Shevchenkois the absolute underdog in...</td>\n",
       "    </tr>\n",
       "    <tr>\n",
       "      <th>4</th>\n",
       "      <td>https://www.chess.com/news/view/le-carlsen-win...</td>\n",
       "      <td>Carlsen Wins Final Clash To Take Tuesday From ...</td>\n",
       "      <td>GMTuan Minh Lewon the early edition ofTitled T...</td>\n",
       "    </tr>\n",
       "    <tr>\n",
       "      <th>5</th>\n",
       "      <td>https://www.chess.com/news/view/amateurs-mind-...</td>\n",
       "      <td>Break Free From Amateur Mistakes With Silman's...</td>\n",
       "      <td>We're happy to announce the release of IMJerem...</td>\n",
       "    </tr>\n",
       "    <tr>\n",
       "      <th>6</th>\n",
       "      <td>https://www.chess.com/news/view/thomas-mars-bot</td>\n",
       "      <td>Run Run Run! It's Chess Party Time With The Ne...</td>\n",
       "      <td>If you're looking for some chessEntertainment,...</td>\n",
       "    </tr>\n",
       "    <tr>\n",
       "      <th>7</th>\n",
       "      <td>https://www.chess.com/news/view/hikaru-nakamur...</td>\n",
       "      <td>Nakamura Pushes Bullet Brawl Earnings Over $10...</td>\n",
       "      <td>GMHikaru Nakamurasecured his second straightBu...</td>\n",
       "    </tr>\n",
       "    <tr>\n",
       "      <th>8</th>\n",
       "      <td>https://www.chess.com/news/view/fides-call-for...</td>\n",
       "      <td>FIDE's Call For World Championship Bids Sparks...</td>\n",
       "      <td>The International Chess Federation (FIDE) has ...</td>\n",
       "    </tr>\n",
       "    <tr>\n",
       "      <th>9</th>\n",
       "      <td>https://www.chess.com/news/view/abdusattorov-w...</td>\n",
       "      <td>Abdusattorov Wins TePe Sigeman Chess Tournamen...</td>\n",
       "      <td>He was in fourth place, trailing three leaders...</td>\n",
       "    </tr>\n",
       "  </tbody>\n",
       "</table>\n",
       "</div>"
      ],
      "text/plain": [
       "                                         article url  \\\n",
       "0  https://www.chess.com/news/view/2024-cct-chess...   \n",
       "1  https://www.chess.com/news/view/2024-superbet-...   \n",
       "2  https://www.chess.com/news/view/2024-cct-chess...   \n",
       "3  https://www.chess.com/news/view/2024-superbet-...   \n",
       "4  https://www.chess.com/news/view/le-carlsen-win...   \n",
       "5  https://www.chess.com/news/view/amateurs-mind-...   \n",
       "6    https://www.chess.com/news/view/thomas-mars-bot   \n",
       "7  https://www.chess.com/news/view/hikaru-nakamur...   \n",
       "8  https://www.chess.com/news/view/fides-call-for...   \n",
       "9  https://www.chess.com/news/view/abdusattorov-w...   \n",
       "\n",
       "                                               title  \\\n",
       "0  Vachier-Lagrave, Caruana, Wesley So Kicked Out...   \n",
       "1      Carlsen Lets Gukesh Escape, Leads With Wei Yi   \n",
       "2  Caruana Wins In Final Round To Take Sole 1st I...   \n",
       "3  Shevchenko Leads Carlsen And Abdusattorov Afte...   \n",
       "4  Carlsen Wins Final Clash To Take Tuesday From ...   \n",
       "5  Break Free From Amateur Mistakes With Silman's...   \n",
       "6  Run Run Run! It's Chess Party Time With The Ne...   \n",
       "7  Nakamura Pushes Bullet Brawl Earnings Over $10...   \n",
       "8  FIDE's Call For World Championship Bids Sparks...   \n",
       "9  Abdusattorov Wins TePe Sigeman Chess Tournamen...   \n",
       "\n",
       "                                             article  \n",
       "0  This is a flash report. The full article will ...  \n",
       "1  GMMagnus Carlsencame within a whisker of beati...  \n",
       "2  GMFabiano Caruanafinished first in the Play-in...  \n",
       "3  GMKirill Shevchenkois the absolute underdog in...  \n",
       "4  GMTuan Minh Lewon the early edition ofTitled T...  \n",
       "5  We're happy to announce the release of IMJerem...  \n",
       "6  If you're looking for some chessEntertainment,...  \n",
       "7  GMHikaru Nakamurasecured his second straightBu...  \n",
       "8  The International Chess Federation (FIDE) has ...  \n",
       "9  He was in fourth place, trailing three leaders...  "
      ]
     },
     "execution_count": 154,
     "metadata": {},
     "output_type": "execute_result"
    }
   ],
   "source": [
    "df"
   ]
  },
  {
   "cell_type": "code",
   "execution_count": null,
   "id": "f0f9a57a-8b42-439b-abfc-02c8080fa556",
   "metadata": {},
   "outputs": [],
   "source": []
  }
 ],
 "metadata": {
  "kernelspec": {
   "display_name": "Python 3 (ipykernel)",
   "language": "python",
   "name": "python3"
  },
  "language_info": {
   "codemirror_mode": {
    "name": "ipython",
    "version": 3
   },
   "file_extension": ".py",
   "mimetype": "text/x-python",
   "name": "python",
   "nbconvert_exporter": "python",
   "pygments_lexer": "ipython3",
   "version": "3.12.2"
  }
 },
 "nbformat": 4,
 "nbformat_minor": 5
}
